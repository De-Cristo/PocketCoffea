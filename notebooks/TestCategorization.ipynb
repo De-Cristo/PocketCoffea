{
 "cells": [
  {
   "cell_type": "code",
   "execution_count": 1,
   "id": "81c7a7c2-4331-409b-95d4-60f2e1ddddb1",
   "metadata": {},
   "outputs": [],
   "source": [
    "from pocket_coffea.lib.categorization import *\n",
    "from pocket_coffea.lib.cut_functions import *\n",
    "from pocket_coffea.parameters.cuts.preselection_cuts import *\n",
    "from pocket_coffea.lib.cut_definition import Cut"
   ]
  },
  {
   "cell_type": "code",
   "execution_count": 2,
   "id": "828de143-2f73-4c90-957a-1920ae398342",
   "metadata": {},
   "outputs": [
    {
     "data": {
      "text/plain": [
       "<NanoEventsArray [<event 1:40419:40418002>, ... ] type='1000 * event'>"
      ]
     },
     "execution_count": 2,
     "metadata": {},
     "output_type": "execute_result"
    }
   ],
   "source": [
    "from coffea.nanoevents import NanoEventsFactory, NanoAODSchema\n",
    "import awkward as ak\n",
    "\n",
    "filename = \"root://xrootd-cms.infn.it///store/mc/RunIISummer20UL18NanoAODv9/TTToSemiLeptonic_TuneCP5_13TeV-powheg-pythia8/NANOAODSIM/106X_upgrade2018_realistic_v16_L1v1-v1/120000/87DEE912-70CF-A549-B10B-1A229B256E88.root\"\n",
    "events = NanoEventsFactory.from_root(filename, schemaclass=NanoAODSchema, entry_stop=1000).events()\n",
    "events"
   ]
  },
  {
   "cell_type": "code",
   "execution_count": 3,
   "id": "aec960af-d024-4ed1-ada8-c4de643936c5",
   "metadata": {},
   "outputs": [],
   "source": [
    "jet_cut =  lambda events, params, **kwargs: events.Jet.pt > params[\"pt\"]\n",
    "two_jets =  lambda events, params, **kwargs: ak.sum(events.Jet.pt>50, axis=1) > 3"
   ]
  },
  {
   "cell_type": "code",
   "execution_count": 4,
   "id": "92df4d62-2404-444d-adc8-7b199a19e833",
   "metadata": {},
   "outputs": [],
   "source": [
    "catstd = StandardSelection(\n",
    "        {\"passthrough\" : [passthrough],\n",
    "             \"jet_pt\": [\n",
    "                 Cut(\"jet_pt_large\", {\"pt\":50}, jet_cut, collection=\"Jet\"), \n",
    "                 Cut(\"ev_2_jet\", {}, two_jets)]\n",
    "        })"
   ]
  },
  {
   "cell_type": "code",
   "execution_count": 5,
   "id": "689d8ddb-2da6-426d-a9a0-422f82394629",
   "metadata": {},
   "outputs": [],
   "source": [
    "catstd.prepare(events, \"2018\",\"ttHTobb\", isMC=True)"
   ]
  },
  {
   "cell_type": "code",
   "execution_count": 6,
   "id": "fbb9d5c7-0243-4a29-90c7-5169aa7bce18",
   "metadata": {},
   "outputs": [
    {
     "data": {
      "text/plain": [
       "MaskStorage(dim=2, masks=['ev_2_jet__3788061389622597362', 'jet_pt_large__7405548787399155291', 'passthrough__-7169401299319181905'])"
      ]
     },
     "execution_count": 6,
     "metadata": {},
     "output_type": "execute_result"
    }
   ],
   "source": [
    "catstd.storage"
   ]
  },
  {
   "cell_type": "code",
   "execution_count": 7,
   "id": "79230a92-9f23-4c91-92bf-fb7e6b52764a",
   "metadata": {},
   "outputs": [
    {
     "data": {
      "text/plain": [
       "[[True, True, True, True, True, False, False],\n",
       " [False, False, False, False, False],\n",
       " [False, False, False, False],\n",
       " [False, False, False, False, False, False, False, False],\n",
       " [False, False, False, False, False, False, False, False, False, False, False],\n",
       " [False, False, False, False, False, False],\n",
       " [False, False, False, False, False, False, False, False, False],\n",
       " [True, True, True, True, False, False, False],\n",
       " [False, False, False, False, False, False, False],\n",
       " [False, False, False, False, False, False, False, False]]"
      ]
     },
     "execution_count": 7,
     "metadata": {},
     "output_type": "execute_result"
    }
   ],
   "source": [
    "catstd.get_mask(\"jet_pt\")[0:10].tolist()"
   ]
  },
  {
   "cell_type": "code",
   "execution_count": 8,
   "id": "770197dc-1f5b-4254-8065-212c616f8122",
   "metadata": {},
   "outputs": [
    {
     "data": {
      "text/plain": [
       "<Array [[False, False, ... False, False]] type='1000 * var * bool'>"
      ]
     },
     "execution_count": 8,
     "metadata": {},
     "output_type": "execute_result"
    }
   ],
   "source": [
    "catstd.get_mask(\"jet_pt\") & ak.sum(events.Electron.pt> 20)>=1"
   ]
  },
  {
   "cell_type": "code",
   "execution_count": 31,
   "id": "ac5ea95f-db59-448a-a1fa-d38318c68af3",
   "metadata": {},
   "outputs": [
    {
     "data": {
      "text/plain": [
       "2"
      ]
     },
     "execution_count": 31,
     "metadata": {},
     "output_type": "execute_result"
    }
   ],
   "source": [
    "catstd.storage.dim"
   ]
  },
  {
   "cell_type": "markdown",
   "id": "400ca7c7-6344-4a88-aa3e-3a92de03d0f5",
   "metadata": {},
   "source": [
    "# Check product of dim=2 cuts"
   ]
  },
  {
   "cell_type": "code",
   "execution_count": 11,
   "id": "14687925-1998-4172-bc3e-5b71c5f2be99",
   "metadata": {},
   "outputs": [],
   "source": [
    "jets_pt = events.Jet.pt> 40\n",
    "jets_eta = events.Jet.eta > 2\n",
    "njets = ak.sum(events.Jet.pt > 40, axis=1) >=2"
   ]
  },
  {
   "cell_type": "code",
   "execution_count": 17,
   "id": "5f9dc9e4-322f-473b-bfed-f5a4f7030f73",
   "metadata": {},
   "outputs": [],
   "source": [
    "masks = [jets_pt, jets_eta]"
   ]
  },
  {
   "cell_type": "code",
   "execution_count": 18,
   "id": "9829d8d2-469f-4c77-be36-1836dfcd980c",
   "metadata": {},
   "outputs": [
    {
     "data": {
      "text/plain": [
       "[<Array [[True, True, True, ... False, False]] type='1000 * var * bool'>,\n",
       " <Array [[False, False, ... False, False]] type='1000 * var * bool'>]"
      ]
     },
     "execution_count": 18,
     "metadata": {},
     "output_type": "execute_result"
    }
   ],
   "source": [
    "masks"
   ]
  },
  {
   "cell_type": "code",
   "execution_count": 20,
   "id": "6cdee093-603f-430e-95fe-1fb95dbd9972",
   "metadata": {},
   "outputs": [
    {
     "data": {
      "text/plain": [
       "<Array [[False, False, ... False, False]] type='1000 * var * bool'>"
      ]
     },
     "execution_count": 20,
     "metadata": {},
     "output_type": "execute_result"
    }
   ],
   "source": [
    "ak.prod(ak.concatenate([ak.singletons(m) for m in masks], axis=-1), axis=-1) == 1"
   ]
  },
  {
   "cell_type": "markdown",
   "id": "ddcae615-7e41-41ee-b491-3b3bf6b91cc9",
   "metadata": {},
   "source": [
    "# Multicut"
   ]
  },
  {
   "cell_type": "code",
   "execution_count": 9,
   "id": "5fabd162-0b06-448a-b35d-8ddd844ae69b",
   "metadata": {},
   "outputs": [],
   "source": [
    "cat = CartesianSelection(\n",
    "        multicuts = [\n",
    "            MultiCut(name=\"Njets\",\n",
    "                     cuts=[\n",
    "                         get_nObj_eq(4, 15., \"Jet\"),\n",
    "                         get_nObj_eq(5, 15., \"Jet\"),\n",
    "                         get_nObj_min(6, 15., \"Jet\"),\n",
    "                     ],\n",
    "                     cuts_names=[\"4j\",\"5j\",\"6j\"]),\n",
    "            MultiCut(name=\"jet_pt\",\n",
    "                    cuts=[\n",
    "                         Cut(\"jet_pt_large\", {\"pt\":20}, jet_cut, collection=\"Jet\"),\n",
    "                         Cut(\"jet_pt_large\", {\"pt\":30}, jet_cut, collection=\"Jet\"),\n",
    "                         Cut(\"jet_pt_large\", {\"pt\":40}, jet_cut, collection=\"Jet\"),\n",
    "                         Cut(\"jet_pt_large\", {\"pt\":50}, jet_cut, collection=\"Jet\")\n",
    "                     ],\n",
    "                     cuts_names=[\"pt20\", \"pt30\",\"pt40\", \"pt50\"])\n",
    "        ],\n",
    "        common_cats = catstd\n",
    "    )"
   ]
  },
  {
   "cell_type": "code",
   "execution_count": 11,
   "id": "05522e6f-97d3-4d3f-9f9c-ac52d60f3c6f",
   "metadata": {},
   "outputs": [
    {
     "data": {
      "text/plain": [
       "['passthrough',\n",
       " 'jet_pt',\n",
       " '4j_pt20',\n",
       " '4j_pt30',\n",
       " '4j_pt40',\n",
       " '4j_pt50',\n",
       " '5j_pt20',\n",
       " '5j_pt30',\n",
       " '5j_pt40',\n",
       " '5j_pt50',\n",
       " '6j_pt20',\n",
       " '6j_pt30',\n",
       " '6j_pt40',\n",
       " '6j_pt50']"
      ]
     },
     "execution_count": 11,
     "metadata": {},
     "output_type": "execute_result"
    }
   ],
   "source": [
    "cat.categories"
   ]
  },
  {
   "cell_type": "code",
   "execution_count": 12,
   "id": "766de317-a529-4d3f-b44d-62456ec0f181",
   "metadata": {},
   "outputs": [],
   "source": [
    "cat.prepare(events, \"2018\",\"ttHTobb\", isMC=True)"
   ]
  },
  {
   "cell_type": "code",
   "execution_count": 13,
   "id": "1ba792bf-17e5-461b-a412-368b45e55251",
   "metadata": {},
   "outputs": [
    {
     "data": {
      "text/plain": [
       "MaskStorage(dim=2, masks=['ev_2_jet__3788061389622597362', 'jet_pt_large__7405548787399155291', 'passthrough__-7169401299319181905'])"
      ]
     },
     "execution_count": 13,
     "metadata": {},
     "output_type": "execute_result"
    }
   ],
   "source": [
    "cat.common_cats.storage"
   ]
  },
  {
   "cell_type": "code",
   "execution_count": 14,
   "id": "56e984b5-81c2-4207-9f65-fdfdb00e4ce4",
   "metadata": {},
   "outputs": [
    {
     "name": "stdout",
     "output_type": "stream",
     "text": [
      "passthrough\n",
      "[[True, True, True, True, True, True, True, ... True, True, True, True, True, True]]\n",
      "jet_pt\n",
      "[[True, True, True, True, True, False, ... False, False, False, False, False, False]]\n",
      "4j_pt20\n",
      "[[False, False, False, False, False, False, ... False, False, False, False, False]]\n",
      "4j_pt30\n",
      "[[False, False, False, False, False, False, ... False, False, False, False, False]]\n",
      "4j_pt40\n",
      "[[False, False, False, False, False, False, ... False, False, False, False, False]]\n",
      "4j_pt50\n",
      "[[False, False, False, False, False, False, ... False, False, False, False, False]]\n",
      "5j_pt20\n",
      "[[False, False, False, False, False, False, ... False, False, False, False, False]]\n",
      "5j_pt30\n",
      "[[False, False, False, False, False, False, ... False, False, False, False, False]]\n",
      "5j_pt40\n",
      "[[False, False, False, False, False, False, ... False, False, False, False, False]]\n",
      "5j_pt50\n",
      "[[False, False, False, False, False, False, ... False, False, False, False, False]]\n",
      "6j_pt20\n",
      "[[True, True, True, True, True, True, True, ... True, True, True, True, True, True]]\n",
      "6j_pt30\n",
      "[[True, True, True, True, True, True, ... True, True, True, False, False, False]]\n",
      "6j_pt40\n",
      "[[True, True, True, True, True, True, ... False, False, False, False, False, False]]\n",
      "6j_pt50\n",
      "[[True, True, True, True, True, False, ... False, False, False, False, False, False]]\n"
     ]
    }
   ],
   "source": [
    "for c, m in cat.get_masks():\n",
    "    print(c)\n",
    "    print(m)"
   ]
  },
  {
   "cell_type": "code",
   "execution_count": null,
   "id": "a8bf41dd-c191-4b6c-b0a2-1b2ea1c192d7",
   "metadata": {},
   "outputs": [],
   "source": []
  }
 ],
 "metadata": {
  "kernelspec": {
   "display_name": "Python 3 (ipykernel)",
   "language": "python",
   "name": "python3"
  },
  "language_info": {
   "codemirror_mode": {
    "name": "ipython",
    "version": 3
   },
   "file_extension": ".py",
   "mimetype": "text/x-python",
   "name": "python",
   "nbconvert_exporter": "python",
   "pygments_lexer": "ipython3",
   "version": "3.9.15"
  }
 },
 "nbformat": 4,
 "nbformat_minor": 5
}
