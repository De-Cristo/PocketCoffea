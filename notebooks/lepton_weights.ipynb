{
 "cells": [
  {
   "cell_type": "markdown",
   "id": "e7c5a162",
   "metadata": {},
   "source": [
    "# Lepton weights with coffea.analysis_tools"
   ]
  },
  {
   "cell_type": "code",
   "execution_count": 1,
   "id": "a8def0d7",
   "metadata": {},
   "outputs": [],
   "source": [
    "import awkward as ak\n",
    "import numpy as np\n",
    "from coffea.analysis_tools import Weights"
   ]
  },
  {
   "cell_type": "markdown",
   "id": "0abd34e5",
   "metadata": {},
   "source": [
    "## Electron pt toy array\n",
    "Let's consider a toy example where we have 4 events with a variable number of electrons each."
   ]
  },
  {
   "cell_type": "code",
   "execution_count": 5,
   "id": "d0a53213",
   "metadata": {},
   "outputs": [
    {
     "data": {
      "text/plain": [
       "<Array [[10, 45], [25, 9, ... [18], [24, 7]] type='4 * var * int64'>"
      ]
     },
     "execution_count": 5,
     "metadata": {},
     "output_type": "execute_result"
    }
   ],
   "source": [
    "electron_pt = ak.Array([[10, 45],[25, 9, 50],[18], [24, 7]])\n",
    "electron_pt"
   ]
  },
  {
   "cell_type": "markdown",
   "id": "e6471628",
   "metadata": {},
   "source": [
    "## Flatten the electron array\n",
    "We want to define an array where the weight corresponding to each electron is stored. In order to do that, we have to flatten the electron array to get an array with the proper size.\n",
    "One can always recovering the original array by unflattening."
   ]
  },
  {
   "cell_type": "code",
   "execution_count": 6,
   "id": "de66e860",
   "metadata": {},
   "outputs": [
    {
     "data": {
      "text/plain": [
       "<Array [10, 45, 25, 9, 50, 18, 24, 7] type='8 * int64'>"
      ]
     },
     "execution_count": 6,
     "metadata": {},
     "output_type": "execute_result"
    }
   ],
   "source": [
    "electron_pt_flat, electron_counts = ak.flatten(electron_pt), ak.num(electron_pt)\n",
    "electron_pt_flat"
   ]
  },
  {
   "cell_type": "code",
   "execution_count": 8,
   "id": "f2b401a1",
   "metadata": {},
   "outputs": [
    {
     "data": {
      "text/plain": [
       "<Array [[10, 45], [25, 9, ... [18], [24, 7]] type='4 * var * int64'>"
      ]
     },
     "execution_count": 8,
     "metadata": {},
     "output_type": "execute_result"
    }
   ],
   "source": [
    "ak.unflatten(electron_pt_flat, electron_counts)"
   ]
  },
  {
   "cell_type": "markdown",
   "id": "c3463418",
   "metadata": {},
   "source": [
    "We define `weights` in such a way that its length corresponds to the number of electrons in all the events."
   ]
  },
  {
   "cell_type": "code",
   "execution_count": null,
   "id": "26433916",
   "metadata": {},
   "outputs": [],
   "source": [
    "nelectrons = ak.size(electron_pt)\n",
    "weights = Weights(nelectrons)\n",
    "weights.weight()"
   ]
  },
  {
   "cell_type": "markdown",
   "id": "07d72758",
   "metadata": {},
   "source": [
    "## Electron weight toy array\n",
    "We define toy weights for the electrons, keeping the flattened shape."
   ]
  },
  {
   "cell_type": "code",
   "execution_count": null,
   "id": "8e295e21",
   "metadata": {},
   "outputs": [],
   "source": [
    "w = 0.5*(electron_pt > 15) + 1.1*(electron_pt < 15)\n",
    "w.tolist()"
   ]
  },
  {
   "cell_type": "code",
   "execution_count": null,
   "id": "463f2e68",
   "metadata": {
    "scrolled": false
   },
   "outputs": [],
   "source": [
    "weights.add('custom_weight', w)"
   ]
  },
  {
   "cell_type": "markdown",
   "id": "29e2bead",
   "metadata": {},
   "source": [
    "## Compute per-electron weights\n",
    "After adding the weigths, we can compute the total weight and get the flattened weights. In order to get the per-event structure, we can unflatten the `weights` array."
   ]
  },
  {
   "cell_type": "code",
   "execution_count": null,
   "id": "a79a7718",
   "metadata": {},
   "outputs": [],
   "source": [
    "weights.weight()"
   ]
  },
  {
   "cell_type": "code",
   "execution_count": null,
   "id": "e4b0df4e",
   "metadata": {},
   "outputs": [],
   "source": [
    "ak.unflatten(weights.weight(), nele)"
   ]
  },
  {
   "cell_type": "markdown",
   "id": "742f0b45",
   "metadata": {},
   "source": [
    "## Compute per-event weights\n",
    "In order to get a per-event weight, we can multiply the electron weights in each event. Each entry of the product array corresponds now to the per-event scale factor to apply to each event."
   ]
  },
  {
   "cell_type": "code",
   "execution_count": null,
   "id": "2e59958a",
   "metadata": {},
   "outputs": [],
   "source": [
    "ak.prod(ak.unflatten(weights.weight(), nele), axis=1)"
   ]
  },
  {
   "cell_type": "code",
   "execution_count": null,
   "id": "7503ca13",
   "metadata": {},
   "outputs": [],
   "source": []
  }
 ],
 "metadata": {
  "kernelspec": {
   "display_name": "Python 3 (ipykernel)",
   "language": "python",
   "name": "python3"
  },
  "language_info": {
   "codemirror_mode": {
    "name": "ipython",
    "version": 3
   },
   "file_extension": ".py",
   "mimetype": "text/x-python",
   "name": "python",
   "nbconvert_exporter": "python",
   "pygments_lexer": "ipython3",
   "version": "3.9.7"
  }
 },
 "nbformat": 4,
 "nbformat_minor": 5
}
