{
 "cells": [
  {
   "cell_type": "code",
   "execution_count": 1,
   "id": "bbf200bc",
   "metadata": {},
   "outputs": [],
   "source": [
    "from coffea.nanoevents import NanoEventsFactory, NanoAODSchema\n",
    "from coffea import hist, processor\n",
    "import numpy as np\n",
    "import awkward as ak\n",
    "import matplotlib.pyplot as plt"
   ]
  },
  {
   "cell_type": "code",
   "execution_count": 2,
   "id": "179a9378",
   "metadata": {},
   "outputs": [],
   "source": [
    "filename = \"/pnfs/psi.ch/cms/trivcat/store/user/mmarcheg/ttHbb/store/mc/RunIISummer20UL18NanoAODv9/TTTo2L2Nu_TuneCP5_13TeV-powheg-pythia8/NANOAODSIM/106X_upgrade2018_realistic_v16_L1v1-v1/130000/44187D37-0301-3942-A6F7-C723E9F4813D.root\"\n",
    "events = NanoEventsFactory.from_root(filename, schemaclass=NanoAODSchema).events()"
   ]
  },
  {
   "cell_type": "code",
   "execution_count": 3,
   "id": "655a4001",
   "metadata": {},
   "outputs": [
    {
     "data": {
      "text/plain": [
       "<Array [[-0.207], [1.04, ... [-0.0956]] type='1359000 * var * float32[parameters...'>"
      ]
     },
     "execution_count": 3,
     "metadata": {},
     "output_type": "execute_result"
    }
   ],
   "source": [
    "events.Electron.eta"
   ]
  },
  {
   "cell_type": "code",
   "execution_count": 4,
   "id": "ece65416",
   "metadata": {},
   "outputs": [
    {
     "data": {
      "text/plain": [
       "<Array [[-0.0235], [0.000786, ... [0.00277]] type='1359000 * var * float32[param...'>"
      ]
     },
     "execution_count": 4,
     "metadata": {},
     "output_type": "execute_result"
    }
   ],
   "source": [
    "events.Electron.deltaEtaSC"
   ]
  },
  {
   "cell_type": "code",
   "execution_count": 5,
   "id": "a7e62735",
   "metadata": {},
   "outputs": [
    {
     "data": {
      "text/plain": [
       "<Array [[-0.231], [1.04, ... [-0.0929]] type='1359000 * var * float32'>"
      ]
     },
     "execution_count": 5,
     "metadata": {},
     "output_type": "execute_result"
    }
   ],
   "source": [
    "etaSC = events.Electron.eta + events.Electron.deltaEtaSC\n",
    "etaSC"
   ]
  },
  {
   "cell_type": "code",
   "execution_count": 7,
   "id": "4ba45ff7",
   "metadata": {},
   "outputs": [
    {
     "data": {
      "text/plain": [
       "<Array [[-0.231], [1.04, ... [-0.0929]] type='1359000 * var * float32'>"
      ]
     },
     "execution_count": 7,
     "metadata": {},
     "output_type": "execute_result"
    }
   ],
   "source": [
    "events['Electron'] = ak.with_field(events.Electron, etaSC, \"etaSC\")\n",
    "events['Electron'].etaSC"
   ]
  },
  {
   "cell_type": "code",
   "execution_count": 8,
   "id": "5f3215e5",
   "metadata": {},
   "outputs": [
    {
     "data": {
      "text/plain": [
       "<Array [[-0.231], [1.04, ... [-0.0929]] type='1359000 * var * float32'>"
      ]
     },
     "execution_count": 8,
     "metadata": {},
     "output_type": "execute_result"
    }
   ],
   "source": [
    "events.Electron.etaSC"
   ]
  },
  {
   "cell_type": "code",
   "execution_count": null,
   "id": "43f4f27d",
   "metadata": {},
   "outputs": [],
   "source": []
  }
 ],
 "metadata": {
  "kernelspec": {
   "display_name": "Python 3 (ipykernel)",
   "language": "python",
   "name": "python3"
  },
  "language_info": {
   "codemirror_mode": {
    "name": "ipython",
    "version": 3
   },
   "file_extension": ".py",
   "mimetype": "text/x-python",
   "name": "python",
   "nbconvert_exporter": "python",
   "pygments_lexer": "ipython3",
   "version": "3.9.7"
  }
 },
 "nbformat": 4,
 "nbformat_minor": 5
}
