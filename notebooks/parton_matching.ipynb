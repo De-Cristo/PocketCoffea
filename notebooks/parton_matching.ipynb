{
 "cells": [
  {
   "cell_type": "code",
   "execution_count": 1,
   "metadata": {},
   "outputs": [],
   "source": [
    "from coffea.nanoevents import NanoEventsFactory, NanoAODSchema\n",
    "from coffea import hist, processor\n",
    "import numpy as np\n",
    "import awkward as ak\n",
    "import matplotlib.pyplot as plt"
   ]
  },
  {
   "cell_type": "code",
   "execution_count": 2,
   "metadata": {},
   "outputs": [],
   "source": [
    "filename = \"/pnfs/psi.ch/cms/trivcat/store/user/mmarcheg/RunIIFall17NanoAODv7/ttHTobb_M125_TuneCP5_13TeV-powheg-pythia8/587E2464-42CA-3A45-BD49-D23E49F658E6.root\"\n",
    "events = NanoEventsFactory.from_root(filename, schemaclass=NanoAODSchema).events()"
   ]
  },
  {
   "cell_type": "code",
   "execution_count": 3,
   "metadata": {},
   "outputs": [
    {
     "name": "stdout",
     "output_type": "stream",
     "text": [
      "['LHEWeight', 'LHEPart', 'LHE', 'LHEReweightingWeight', 'LHEScaleWeight', 'LHEPdfWeight']\n",
      "['GenIsolatedPhoton', 'GenDressedLepton', 'GenJet', 'GenVisTau', 'GenPart', 'GenMET', 'Generator', 'SubGenJetAK8', 'GenJetAK8']\n",
      "['eta', 'mass', 'phi', 'pt', 'partonFlavour', 'hadronFlavour']\n"
     ]
    }
   ],
   "source": [
    "print([field for field in events.fields if 'LHE' in field])\n",
    "print([field for field in events.fields if 'Gen' in field])\n",
    "print([field for field in events.GenJet.fields])"
   ]
  },
  {
   "cell_type": "code",
   "execution_count": 4,
   "metadata": {},
   "outputs": [
    {
     "data": {
      "image/png": "[encoded data removed]",
      "text/plain": [
       "<Figure size 864x576 with 1 Axes>"
      ]
     },
     "metadata": {
      "needs_background": "light"
     },
     "output_type": "display_data"
    }
   ],
   "source": [
    "pdg = events.LHEPart.pdgId\n",
    "plt.figure(figsize=[12,8])\n",
    "plt.hist(ak.flatten(pdg), bins=np.arange(-30,31,1));"
   ]
  },
  {
   "cell_type": "code",
   "execution_count": 5,
   "metadata": {},
   "outputs": [
    {
     "data": {
      "image/png": "[encoded data removed]",
      "text/plain": [
       "<Figure size 432x288 with 1 Axes>"
      ]
     },
     "metadata": {
      "needs_background": "light"
     },
     "output_type": "display_data"
    }
   ],
   "source": [
    "plt.hist(ak.flatten(events.LHEPart.status));"
   ]
  },
  {
   "cell_type": "code",
   "execution_count": 6,
   "metadata": {},
   "outputs": [
    {
     "name": "stdout",
     "output_type": "stream",
     "text": [
      "This is a dilepton event:\n",
      "2\n",
      "21\n",
      "25\n",
      "2\n",
      "5\n",
      "-5\n",
      "-15\n",
      "16\n",
      "13\n",
      "-14\n"
     ]
    }
   ],
   "source": [
    "print(\"This is a dilepton event:\")\n",
    "for id in events[(ak.num(events.Electron.pt) + ak.num(events.Muon.pt)) == 2].LHEPart.pdgId[50]:\n",
    "    print(id)"
   ]
  },
  {
   "cell_type": "code",
   "execution_count": 7,
   "metadata": {},
   "outputs": [
    {
     "name": "stdout",
     "output_type": "stream",
     "text": [
      "[1, 2, 0, -1, 3, 4, 5]\n",
      "[5, -5, 21, 0, -5, 21]\n"
     ]
    }
   ],
   "source": [
    "print(events.Jet.genJetIdx[5])\n",
    "print(events.GenJet[5].partonFlavour)"
   ]
  },
  {
   "cell_type": "code",
   "execution_count": null,
   "metadata": {},
   "outputs": [],
   "source": []
  }
 ],
 "metadata": {
  "kernelspec": {
   "display_name": "Python 3 (ipykernel)",
   "language": "python",
   "name": "python3"
  },
  "language_info": {
   "codemirror_mode": {
    "name": "ipython",
    "version": 3
   },
   "file_extension": ".py",
   "mimetype": "text/x-python",
   "name": "python",
   "nbconvert_exporter": "python",
   "pygments_lexer": "ipython3",
   "version": "3.9.7"
  }
 },
 "nbformat": 4,
 "nbformat_minor": 4
}
