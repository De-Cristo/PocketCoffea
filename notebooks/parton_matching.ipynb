{
 "cells": [
  {
   "cell_type": "code",
   "execution_count": 1,
   "metadata": {},
   "outputs": [],
   "source": [
    "from coffea.nanoevents import NanoEventsFactory, NanoAODSchema\n",
    "from coffea import hist, processor\n",
    "import numpy as np\n",
    "import awkward as ak\n",
    "import matplotlib.pyplot as plt"
   ]
  },
  {
   "cell_type": "code",
   "execution_count": 2,
   "metadata": {},
   "outputs": [],
   "source": [
    "filename = \"/pnfs/psi.ch/cms/trivcat/store/user/mmarcheg/RunIIFall17NanoAODv7/ttHTobb_M125_TuneCP5_13TeV-powheg-pythia8/587E2464-42CA-3A45-BD49-D23E49F658E6.root\"\n",
    "events = NanoEventsFactory.from_root(filename, schemaclass=NanoAODSchema, entry_stop=10).events()"
   ]
  },
  {
   "cell_type": "code",
   "execution_count": 3,
   "metadata": {},
   "outputs": [
    {
     "name": "stdout",
     "output_type": "stream",
     "text": [
      "['LHEWeight', 'LHEReweightingWeight', 'LHE', 'LHEScaleWeight', 'LHEPdfWeight', 'LHEPart']\n",
      "['GenJet', 'GenIsolatedPhoton', 'Generator', 'GenJetAK8', 'GenMET', 'GenPart', 'SubGenJetAK8', 'GenVisTau', 'GenDressedLepton']\n",
      "['eta', 'mass', 'phi', 'pt', 'partonFlavour', 'hadronFlavour']\n"
     ]
    }
   ],
   "source": [
    "print([field for field in events.fields if 'LHE' in field])\n",
    "print([field for field in events.fields if 'Gen' in field])\n",
    "print([field for field in events.GenJet.fields])"
   ]
  },
  {
   "cell_type": "code",
   "execution_count": 4,
   "metadata": {},
   "outputs": [
    {
     "data": {
      "image/png": "[encoded data removed]",
      "text/plain": [
       "<Figure size 864x576 with 1 Axes>"
      ]
     },
     "metadata": {
      "needs_background": "light"
     },
     "output_type": "display_data"
    }
   ],
   "source": [
    "pdg = events.LHEPart.pdgId\n",
    "plt.figure(figsize=[12,8])\n",
    "plt.hist(ak.flatten(pdg), bins=np.arange(-30,31,1));"
   ]
  },
  {
   "cell_type": "code",
   "execution_count": 5,
   "metadata": {},
   "outputs": [
    {
     "data": {
      "image/png": "[encoded data removed]",
      "text/plain": [
       "<Figure size 432x288 with 1 Axes>"
      ]
     },
     "metadata": {
      "needs_background": "light"
     },
     "output_type": "display_data"
    }
   ],
   "source": [
    "plt.hist(ak.flatten(events.LHEPart.status));"
   ]
  },
  {
   "cell_type": "code",
   "execution_count": 6,
   "metadata": {},
   "outputs": [
    {
     "name": "stdout",
     "output_type": "stream",
     "text": [
      "This is a dilepton event:\n",
      "21\n",
      "21\n",
      "25\n",
      "21\n",
      "5\n",
      "-5\n",
      "-1\n",
      "2\n",
      "3\n",
      "-4\n"
     ]
    }
   ],
   "source": [
    "print(\"This is a dilepton event:\")\n",
    "for id in events[(ak.num(events.Electron.pt) + ak.num(events.Muon.pt)) == 2].LHEPart.pdgId[0]:\n",
    "    print(id)"
   ]
  },
  {
   "cell_type": "code",
   "execution_count": 7,
   "metadata": {},
   "outputs": [
    {
     "name": "stdout",
     "output_type": "stream",
     "text": [
      "[1, 2, 0, -1, 3, 4, 5]\n",
      "[5, -5, 21, 0, -5, 21]\n"
     ]
    }
   ],
   "source": [
    "print(events.Jet.genJetIdx[5])\n",
    "print(events.GenJet[5].partonFlavour)"
   ]
  },
  {
   "cell_type": "code",
   "execution_count": 17,
   "metadata": {},
   "outputs": [
    {
     "name": "stdout",
     "output_type": "stream",
     "text": [
      "[[[2, 3, 4, 5], [], [6], [11], [12], [49, ... [], [], [], [], [], [], [], [], []]]\n",
      "[[4, 0, 1, 1, 1, 3, 1, 1, 1, 1, 2, 2, 2, ... 0, 0, 0, 0, 0, 0, 0, 0, 0, 0, 0, 0, 0]]\n"
     ]
    },
    {
     "data": {
      "text/plain": [
       "[{'eta': -0.2978515625,\n",
       "  'mass': 125.0,\n",
       "  'phi': 0.4609375,\n",
       "  'pt': 141.0,\n",
       "  'genPartIdxMother': 9,\n",
       "  'pdgId': 25,\n",
       "  'status': 62,\n",
       "  'statusFlags': 10497,\n",
       "  'genPartIdxMotherG': 9,\n",
       "  'distinctParentIdxG': 0,\n",
       "  'childrenIdxG': [23, 24],\n",
       "  'distinctChildrenIdxG': [23, 24, 26, 32]}]"
      ]
     },
     "execution_count": 17,
     "metadata": {},
     "output_type": "execute_result"
    }
   ],
   "source": [
    "isHiggs = (events.GenPart.pdgId == 25)\n",
    "isPrompt = events.GenPart.hasFlags(['isPrompt'])\n",
    "print(events.GenPart.childrenIdxG)\n",
    "print(ak.num(events.GenPart.childrenIdxG, axis=2))\n",
    "hasTwoChildren = ak.num(events.GenPart.childrenIdxG, axis=2) == 2\n",
    "events.GenPart[isHiggs & isPrompt & hasTwoChildren][0].tolist()"
   ]
  },
  {
   "cell_type": "code",
   "execution_count": 9,
   "metadata": {},
   "outputs": [
    {
     "data": {
      "text/plain": [
       "True"
      ]
     },
     "execution_count": 9,
     "metadata": {},
     "output_type": "execute_result"
    }
   ],
   "source": [
    "events.GenPart[(0,6)].hasFlags(['isPrompt'])"
   ]
  },
  {
   "cell_type": "code",
   "execution_count": 10,
   "metadata": {},
   "outputs": [
    {
     "name": "stdout",
     "output_type": "stream",
     "text": [
      "1\n",
      "1\n",
      "1\n",
      "1\n",
      "2\n"
     ]
    }
   ],
   "source": [
    "part = events.GenPart[(0,6)]\n",
    "while(True):\n",
    "    print(len(part.childrenIdxG))\n",
    "    part = events.GenPart[(0,part.childrenIdxG[0])]\n",
    "    if part.pdgId != 25:\n",
    "        break"
   ]
  },
  {
   "cell_type": "code",
   "execution_count": 11,
   "metadata": {},
   "outputs": [
    {
     "data": {
      "text/plain": [
       "<Array [98.5, 49.5] type='2 * float32[parameters={\"__doc__\": \"pt\"}]'>"
      ]
     },
     "execution_count": 11,
     "metadata": {},
     "output_type": "execute_result"
    }
   ],
   "source": [
    "events.GenPart[(0,[23,24])].pt"
   ]
  },
  {
   "cell_type": "code",
   "execution_count": 18,
   "metadata": {},
   "outputs": [
    {
     "data": {
      "text/plain": [
       "['eta',\n",
       " 'mass',\n",
       " 'phi',\n",
       " 'pt',\n",
       " 'genPartIdxMother',\n",
       " 'pdgId',\n",
       " 'status',\n",
       " 'statusFlags',\n",
       " 'genPartIdxMotherG',\n",
       " 'distinctParentIdxG',\n",
       " 'childrenIdxG',\n",
       " 'distinctChildrenIdxG']"
      ]
     },
     "execution_count": 18,
     "metadata": {},
     "output_type": "execute_result"
    }
   ],
   "source": [
    "events.GenPart.fields"
   ]
  },
  {
   "cell_type": "code",
   "execution_count": 30,
   "metadata": {},
   "outputs": [
    {
     "data": {
      "text/plain": [
       "<Array [-1, -1, 88, 88, ... 172, 171, 170, 170] type='89 * int64[parameters={\"__...'>"
      ]
     },
     "execution_count": 30,
     "metadata": {},
     "output_type": "execute_result"
    }
   ],
   "source": [
    "events.GenPart[events.GenPart]"
   ]
  },
  {
   "cell_type": "code",
   "execution_count": null,
   "metadata": {},
   "outputs": [],
   "source": []
  }
 ],
 "metadata": {
  "kernelspec": {
   "display_name": "Python 3 (ipykernel)",
   "language": "python",
   "name": "python3"
  },
  "language_info": {
   "codemirror_mode": {
    "name": "ipython",
    "version": 3
   },
   "file_extension": ".py",
   "mimetype": "text/x-python",
   "name": "python",
   "nbconvert_exporter": "python",
   "pygments_lexer": "ipython3",
   "version": "3.9.7"
  }
 },
 "nbformat": 4,
 "nbformat_minor": 4
}
