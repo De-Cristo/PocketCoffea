{
 "cells": [
  {
   "cell_type": "code",
   "execution_count": 5,
   "id": "9c4b81ec",
   "metadata": {},
   "outputs": [],
   "source": [
    "from coffea.nanoevents import NanoEventsFactory, NanoAODSchema\n",
    "from coffea import hist, processor\n",
    "import numpy as np\n",
    "import awkward as ak\n",
    "import matplotlib.pyplot as plt"
   ]
  },
  {
   "cell_type": "code",
   "execution_count": 6,
   "id": "658fcd8d",
   "metadata": {},
   "outputs": [],
   "source": [
    "filename = \"/pnfs/psi.ch/cms/trivcat/store/user/mmarcheg/RunIIFall17NanoAODv7/ttHTobb_M125_TuneCP5_13TeV-powheg-pythia8/587E2464-42CA-3A45-BD49-D23E49F658E6.root\"\n",
    "#events = NanoEventsFactory.from_root(filename, schemaclass=NanoAODSchema).events()\n",
    "events = NanoEventsFactory.from_root(filename, schemaclass=NanoAODSchema, entry_stop=100).events()"
   ]
  },
  {
   "cell_type": "code",
   "execution_count": 28,
   "id": "020adf45",
   "metadata": {},
   "outputs": [],
   "source": [
    "def parton_matching(dr_min=0.5):\n",
    "    # Select b-quarks at LHE level\n",
    "    isOutgoing = events.LHEPart.status == 1\n",
    "    isB = abs(events.LHEPart.pdgId) == 5\n",
    "    bquarks = events.LHEPart[isB & isOutgoing]\n",
    "\n",
    "    # Select b-quarks at Gen level, coming from H->bb decay\n",
    "    if dataset == 'ttHTobb':\n",
    "        isHiggs = events.GenPart.pdgId == 25\n",
    "        isHard = events.GenPart.hasFlags(['fromHardProcess'])\n",
    "        hasTwoChildren = ak.num(events.GenPart.childrenIdxG, axis=2) == 2\n",
    "        higgs = events.GenPart[isHiggs & isHard & hasTwoChildren]\n",
    "        bquarks = ak.concatenate( (bquarks, ak.flatten(higgs.children, axis=2)), axis=1 )\n",
    "        # Sort b-quarks by pt\n",
    "        bquarks = ak.with_name(bquarks[ak.argsort(bquarks.pt, ascending=False)], name='PtEtaPhiMCandidate')\n",
    "\n",
    "    # Compute deltaR(b, jet) and save the nearest jet (deltaR matching)\n",
    "    deltaR = ak.flatten(bquarks.metric_table(events.Jet), axis=2)\n",
    "    \n",
    "    maskDR = deltaR<dr_min\n",
    "    deltaRcut = deltaR[maskDR]\n",
    "    idx_pairs_sorted = ak.argsort(deltaRcut, axis=1)\n",
    "    pairs = ak.argcartesian([bquarks, events.Jet])[maskDR]\n",
    "    pairs_sorted = pairs[idx_pairs_sorted]\n",
    "    idx_bquarks, idx_Jet = ak.unzip(pairs_sorted)\n",
    "\n",
    "    hasMatch = ak.zeros_like(idx_Jet, dtype=bool)\n",
    "    Npairmax = ak.max(ak.num(idx_bquarks))\n",
    "    # Loop over the (parton, jet) pairs\n",
    "    for idx_pair in range(Npairmax):\n",
    "        idx_bquark = ak.pad_none(idx_bquarks, Npairmax)[:,idx_pair]\n",
    "        idx_match_candidates = idx_Jet[ak.fill_none( (idx_bquarks == idx_bquark) & ~hasMatch, False)]\n",
    "        idx_pair_candidates  = ak.local_index(idx_Jet)[ak.fill_none( (idx_bquarks == idx_bquark) & ~hasMatch, False)]\n",
    "      \n",
    "        if idx_pair == 0:\n",
    "            idx_matchedJet    = ak.unflatten( ak.firsts(idx_match_candidates), 1 )\n",
    "            idx_matchedParton = ak.unflatten( idx_bquark, 1 )\n",
    "            idx_matchedPair   = ak.unflatten( ak.firsts(idx_pair_candidates), 1 )\n",
    "        else:\n",
    "            # If the partons are matched in all events or the number of jets is smaller than the number of partons, stop iterating\n",
    "            if ak.all( ( (ak.count(idx_matchedJet, axis=1) == ak.count(bquarks.pt, axis=1)) | (ak.count(events.Jet.pt, axis=1) < ak.count(bquarks.pt, axis=1) ) ) ): break\n",
    "            idx_matchedJet    = ak.concatenate( (idx_matchedJet, ak.unflatten( ak.firsts(idx_match_candidates), 1 ) ), axis=1 )\n",
    "            idx_matchedParton = ak.concatenate( (idx_matchedParton, ak.unflatten( idx_bquark, 1 )), axis=1 )\n",
    "            idx_matchedPair   = ak.concatenate( (idx_matchedPair, ak.unflatten( ak.firsts(idx_pair_candidates), 1 ) ), axis=1 )\n",
    "        # The mask `hasMatch` masks to False the \n",
    "        hasMatch = hasMatch | ak.fill_none(idx_Jet == ak.fill_none(ak.firsts(idx_match_candidates), -99), False) | ak.fill_none(idx_bquarks == idx_bquark, False)\n",
    "   \n",
    "    idx_matchedParton = idx_matchedParton[~ak.is_none(idx_matchedJet, axis=1)]\n",
    "    idx_matchedJet = idx_matchedJet[~ak.is_none(idx_matchedJet, axis=1)]\n",
    "    dr_matchedJet = deltaRcut[idx_pairs_sorted][~ak.is_none(idx_matchedPair, axis=1)]\n",
    "    idx_matchedPair = idx_matchedPair[~ak.is_none(idx_matchedPair, axis=1)]\n",
    "    matchedJet    = events.Jet[idx_matchedJet]\n",
    "    matchedParton = bquarks[idx_matchedParton]\n",
    "    hasMatchedPartons = ak.count(idx_matchedParton, axis=1) == ak.count(bquarks.pt, axis=1)\n",
    "    #for cut in self._selections.keys():\n",
    "    #    print(events.metadata[\"dataset\"], cut, \"matched partons =\", round(100*ak.sum(hasMatchedPartons[self._cuts.all(*self._selections[cut])])/ak.size(hasMatchedPartons[self._cuts.all(*self._selections[cut])]), 2), \"%\")\n",
    "    events[\"BQuark\"] = bquarks\n",
    "    events[\"JetMatched\"] = matchedJet\n",
    "    events[\"BQuarkMatched\"] = matchedParton\n",
    "    events[\"BQuarkMatched\"] = ak.with_field(events.BQuarkMatched, dr_matchedJet, \"drMatchedJet\")\n",
    "    return bquarks, matchedJet, idx_matchedJet, idx_matchedParton, idx_matchedPair, dr_matchedJet"
   ]
  },
  {
   "cell_type": "code",
   "execution_count": 30,
   "id": "ae658778",
   "metadata": {},
   "outputs": [],
   "source": [
    "dataset = \"ttHTobb\"\n",
    "bquarks, matchedJets, idx_matchedJet, idx_matchedParton, idx_matchedPair, dr_matchedJet = parton_matching(0.3)"
   ]
  },
  {
   "cell_type": "code",
   "execution_count": 31,
   "id": "5dd7ee4f",
   "metadata": {},
   "outputs": [
    {
     "data": {
      "text/plain": [
       "<JetArray [[Jet, Jet, Jet, ... Jet, Jet, Jet]] type='100 * var * ?jet'>"
      ]
     },
     "execution_count": 31,
     "metadata": {},
     "output_type": "execute_result"
    }
   ],
   "source": [
    "matchedJets"
   ]
  },
  {
   "cell_type": "code",
   "execution_count": 32,
   "id": "37a56b7e",
   "metadata": {},
   "outputs": [
    {
     "data": {
      "text/plain": [
       "<Array [[0.026, 0.0406, ... 0.0284, 0.0342]] type='100 * var * ?float32'>"
      ]
     },
     "execution_count": 32,
     "metadata": {},
     "output_type": "execute_result"
    }
   ],
   "source": [
    "dr_matchedJet"
   ]
  },
  {
   "cell_type": "code",
   "execution_count": 33,
   "id": "5db2cd44",
   "metadata": {},
   "outputs": [
    {
     "data": {
      "text/plain": [
       "(array([175.,  86.,  34.,  18.,  15.,   9.,   0.,   0.,   0.,   0.,   0.,\n",
       "          0.,   0.,   0.,   0.,   0.,   0.,   0.,   0.,   0.,   0.,   0.,\n",
       "          0.,   0.,   0.,   0.,   0.,   0.,   0.,   0.,   0.,   0.,   0.,\n",
       "          0.,   0.,   0.,   0.,   0.,   0.]),\n",
       " array([0.        , 0.05128205, 0.1025641 , 0.15384615, 0.20512821,\n",
       "        0.25641026, 0.30769231, 0.35897436, 0.41025641, 0.46153846,\n",
       "        0.51282051, 0.56410256, 0.61538462, 0.66666667, 0.71794872,\n",
       "        0.76923077, 0.82051282, 0.87179487, 0.92307692, 0.97435897,\n",
       "        1.02564103, 1.07692308, 1.12820513, 1.17948718, 1.23076923,\n",
       "        1.28205128, 1.33333333, 1.38461538, 1.43589744, 1.48717949,\n",
       "        1.53846154, 1.58974359, 1.64102564, 1.69230769, 1.74358974,\n",
       "        1.79487179, 1.84615385, 1.8974359 , 1.94871795, 2.        ]),\n",
       " <BarContainer object of 39 artists>)"
      ]
     },
     "execution_count": 33,
     "metadata": {},
     "output_type": "execute_result"
    },
    {
     "data": {
      "image/png": "[encoded data removed]",
      "text/plain": [
       "<Figure size 432x288 with 1 Axes>"
      ]
     },
     "metadata": {
      "needs_background": "light"
     },
     "output_type": "display_data"
    }
   ],
   "source": [
    "plt.hist(ak.flatten(dr_matchedJet), bins=np.linspace(0,2, 40))"
   ]
  },
  {
   "cell_type": "code",
   "execution_count": null,
   "id": "67cfd405",
   "metadata": {},
   "outputs": [],
   "source": []
  }
 ],
 "metadata": {
  "kernelspec": {
   "display_name": "Python 3 (ipykernel)",
   "language": "python",
   "name": "python3"
  },
  "language_info": {
   "codemirror_mode": {
    "name": "ipython",
    "version": 3
   },
   "file_extension": ".py",
   "mimetype": "text/x-python",
   "name": "python",
   "nbconvert_exporter": "python",
   "pygments_lexer": "ipython3",
   "version": "3.9.7"
  }
 },
 "nbformat": 4,
 "nbformat_minor": 5
}
