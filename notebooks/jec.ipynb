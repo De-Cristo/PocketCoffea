{
 "cells": [
  {
   "cell_type": "code",
   "execution_count": 1,
   "id": "4fc4a530",
   "metadata": {},
   "outputs": [
    {
     "name": "stderr",
     "output_type": "stream",
     "text": [
      "/work/dvalsecc/miniconda3/envs/pocket-coffea/lib/python3.9/site-packages/coffea/util.py:154: FutureWarning: In coffea version v0.8.0 (target date: 31 Dec 2022), this will be an error.\n",
      "(Set coffea.deprecations_as_errors = True to get a stack trace now.)\n",
      "ImportError: coffea.hist is deprecated\n",
      "  warnings.warn(message, FutureWarning)\n"
     ]
    }
   ],
   "source": [
    "from coffea.nanoevents import NanoEventsFactory, NanoAODSchema\n",
    "from coffea import hist, processor\n",
    "import numpy as np\n",
    "import awkward as ak\n",
    "import matplotlib.pyplot as plt"
   ]
  },
  {
   "cell_type": "code",
   "execution_count": 89,
   "id": "b0fbce2b",
   "metadata": {},
   "outputs": [],
   "source": [
    "filename = \"/pnfs/psi.ch/cms/trivcat/store/user/mmarcheg/RunIIFall17NanoAODv7/ttHTobb_M125_TuneCP5_13TeV-powheg-pythia8/587E2464-42CA-3A45-BD49-D23E49F658E6.root\"\n",
    "#events = NanoEventsFactory.from_root(filename, schemaclass=NanoAODSchema).events()\n",
    "events = NanoEventsFactory.from_root(filename, schemaclass=NanoAODSchema, entry_stop=400000).events()"
   ]
  },
  {
   "cell_type": "code",
   "execution_count": 4,
   "id": "fc676d4c",
   "metadata": {},
   "outputs": [
    {
     "data": {
      "text/plain": [
       "<Array [[0.0635, 0.04, ... 0.336, 0.158]] type='100 * var * float32[parameters={...'>"
      ]
     },
     "execution_count": 4,
     "metadata": {},
     "output_type": "execute_result"
    }
   ],
   "source": [
    "events.Jet.rawFactor"
   ]
  },
  {
   "cell_type": "code",
   "execution_count": 5,
   "id": "7f52a8fb",
   "metadata": {},
   "outputs": [
    {
     "data": {
      "text/plain": [
       "<Array [0.937, 0.96, 0.958, ... 0.664, 0.842] type='1098 * float32'>"
      ]
     },
     "execution_count": 5,
     "metadata": {},
     "output_type": "execute_result"
    }
   ],
   "source": [
    "SF = ak.flatten(1 - events.Jet.rawFactor)\n",
    "SF"
   ]
  },
  {
   "cell_type": "code",
   "execution_count": 6,
   "id": "3628b6ad",
   "metadata": {},
   "outputs": [
    {
     "data": {
      "image/png": "[encoded data removed]",
      "text/plain": [
       "<Figure size 432x288 with 1 Axes>"
      ]
     },
     "metadata": {
      "needs_background": "light"
     },
     "output_type": "display_data"
    }
   ],
   "source": [
    "plt.hist(SF, bins=20, range=(0,3));"
   ]
  },
  {
   "cell_type": "code",
   "execution_count": 7,
   "id": "6c2a4a1a",
   "metadata": {},
   "outputs": [],
   "source": [
    "pt_raw = (1 - events.Jet['rawFactor']) * events.Jet['pt']"
   ]
  },
  {
   "cell_type": "code",
   "execution_count": 8,
   "id": "a7231e19",
   "metadata": {},
   "outputs": [
    {
     "data": {
      "text/plain": [
       "<Array [1.07, 1.04, 1.04, ... 1.21, 1.51, 1.19] type='1098 * float32'>"
      ]
     },
     "execution_count": 8,
     "metadata": {},
     "output_type": "execute_result"
    }
   ],
   "source": [
    "ratio = ak.flatten(events.Jet.pt/pt_raw)\n",
    "ratio"
   ]
  },
  {
   "cell_type": "code",
   "execution_count": 9,
   "id": "abfe684d",
   "metadata": {},
   "outputs": [
    {
     "data": {
      "image/png": "[encoded data removed]",
      "text/plain": [
       "<Figure size 432x288 with 1 Axes>"
      ]
     },
     "metadata": {
      "needs_background": "light"
     },
     "output_type": "display_data"
    }
   ],
   "source": [
    "plt.hist(ratio, bins=20, range=(0,3));"
   ]
  },
  {
   "cell_type": "code",
   "execution_count": 10,
   "id": "4a38abae",
   "metadata": {},
   "outputs": [
    {
     "data": {
      "text/plain": [
       "(array([  0.,   0.,   0.,   0.,   9., 169., 704., 118.,  34.,  25.,  19.,\n",
       "          9.,   4.,   4.,   2.,   0.,   1.,   0.,   0.,   0.]),\n",
       " array([0.  , 0.15, 0.3 , 0.45, 0.6 , 0.75, 0.9 , 1.05, 1.2 , 1.35, 1.5 ,\n",
       "        1.65, 1.8 , 1.95, 2.1 , 2.25, 2.4 , 2.55, 2.7 , 2.85, 3.  ],\n",
       "       dtype=float32),\n",
       " <BarContainer object of 20 artists>)"
      ]
     },
     "execution_count": 10,
     "metadata": {},
     "output_type": "execute_result"
    },
    {
     "data": {
      "image/png": "[encoded data removed]",
      "text/plain": [
       "<Figure size 432x288 with 1 Axes>"
      ]
     },
     "metadata": {
      "needs_background": "light"
     },
     "output_type": "display_data"
    }
   ],
   "source": [
    "plt.hist(1/ratio, bins=20, range=(0,3))"
   ]
  },
  {
   "cell_type": "markdown",
   "id": "a9b2e637-b02d-4a3f-a55d-da64101dada8",
   "metadata": {},
   "source": [
    "# Testing the coffea implementation"
   ]
  },
  {
   "cell_type": "code",
   "execution_count": 37,
   "id": "8e051b62-1e63-467d-9f43-6a48813a0e2b",
   "metadata": {},
   "outputs": [],
   "source": [
    "import gzip\n",
    "\n",
    "import cloudpickle"
   ]
  },
  {
   "cell_type": "code",
   "execution_count": 38,
   "id": "4ea29864-913c-4dbe-8751-4be371b6d396",
   "metadata": {},
   "outputs": [],
   "source": [
    "path = \"../jets_evaluator.pkl\""
   ]
  },
  {
   "cell_type": "code",
   "execution_count": 39,
   "id": "4b09a818-f03a-45ef-996e-bcd431e9a8f4",
   "metadata": {},
   "outputs": [],
   "source": [
    "with gzip.open(path) as fin:\n",
    "        jmestuff = cloudpickle.load(fin)"
   ]
  },
  {
   "cell_type": "code",
   "execution_count": 44,
   "id": "6b9387c1-28d0-4e28-bf35-bebce40cfea7",
   "metadata": {},
   "outputs": [],
   "source": [
    "def add_jec_variables(jets, event_rho):\n",
    "    jets[\"pt_raw\"] = (1 - jets.rawFactor)*jets.pt\n",
    "    jets[\"mass_raw\"] = (1 - jets.rawFactor)*jets.mass\n",
    "    jets[\"pt_gen\"] = ak.values_astype(ak.fill_none(jets.matched_gen.pt, 0), np.float32)\n",
    "    jets[\"event_rho\"] = ak.broadcast_arrays(event_rho, jets.pt)[0]\n",
    "    return jets\n"
   ]
  },
  {
   "cell_type": "code",
   "execution_count": 83,
   "id": "10b431d3-6bab-4a0e-a474-2f5257e8623e",
   "metadata": {},
   "outputs": [],
   "source": [
    "import cachetools\n",
    "jec_cache = cachetools.Cache(np.inf)"
   ]
  },
  {
   "cell_type": "code",
   "execution_count": 90,
   "id": "0f0255f9-238c-461c-a003-1113e353996c",
   "metadata": {},
   "outputs": [
    {
     "name": "stdout",
     "output_type": "stream",
     "text": [
      "CPU times: user 4.06 s, sys: 438 ms, total: 4.5 s\n",
      "Wall time: 4.49 s\n"
     ]
    }
   ],
   "source": [
    "%%time\n",
    "j = jmestuff[\"jet_factory\"][\"2018\"].build(add_jec_variables(events.Jet,events.fixedGridRhoFastjetAll), jec_cache)"
   ]
  },
  {
   "cell_type": "code",
   "execution_count": 103,
   "id": "0f86f278-ab3e-4e3f-9c18-f2820cb4f840",
   "metadata": {},
   "outputs": [
    {
     "data": {
      "text/plain": [
       "['area',\n",
       " 'btagCMVA',\n",
       " 'btagCSVV2',\n",
       " 'btagDeepB',\n",
       " 'btagDeepC',\n",
       " 'btagDeepFlavB',\n",
       " 'btagDeepFlavC',\n",
       " 'chEmEF',\n",
       " 'chFPV0EF',\n",
       " 'chFPV1EF',\n",
       " 'chFPV2EF',\n",
       " 'chFPV3EF',\n",
       " 'chHEF',\n",
       " 'eta',\n",
       " 'mass',\n",
       " 'muEF',\n",
       " 'muonSubtrFactor',\n",
       " 'neEmEF',\n",
       " 'neHEF',\n",
       " 'phi',\n",
       " 'pt',\n",
       " 'puIdDisc',\n",
       " 'qgl',\n",
       " 'rawFactor',\n",
       " 'bRegCorr',\n",
       " 'bRegRes',\n",
       " 'cRegCorr',\n",
       " 'cRegRes',\n",
       " 'electronIdx1',\n",
       " 'electronIdx2',\n",
       " 'jetId',\n",
       " 'muonIdx1',\n",
       " 'muonIdx2',\n",
       " 'nConstituents',\n",
       " 'nElectrons',\n",
       " 'nMuons',\n",
       " 'puId',\n",
       " 'genJetIdx',\n",
       " 'hadronFlavour',\n",
       " 'partonFlavour',\n",
       " 'cleanmask',\n",
       " 'electronIdx1G',\n",
       " 'electronIdx2G',\n",
       " 'genJetIdxG',\n",
       " 'muonIdx1G',\n",
       " 'muonIdx2G',\n",
       " 'muonIdxG',\n",
       " 'electronIdxG',\n",
       " 'pt_raw',\n",
       " 'mass_raw',\n",
       " 'pt_gen',\n",
       " 'event_rho',\n",
       " 'pt_orig',\n",
       " 'mass_orig',\n",
       " 'jet_energy_correction',\n",
       " 'pt_jec',\n",
       " 'mass_jec',\n",
       " 'jet_energy_resolution',\n",
       " 'jet_energy_resolution_scale_factor',\n",
       " 'jet_resolution_rand_gauss',\n",
       " 'jet_energy_resolution_correction',\n",
       " 'pt_jer',\n",
       " 'mass_jer',\n",
       " 'JER',\n",
       " 'jet_energy_uncertainty_FlavorQCD',\n",
       " 'JES_FlavorQCD',\n",
       " 'jet_energy_uncertainty_RelativeBal',\n",
       " 'JES_RelativeBal',\n",
       " 'jet_energy_uncertainty_HF',\n",
       " 'JES_HF',\n",
       " 'jet_energy_uncertainty_BBEC1',\n",
       " 'JES_BBEC1',\n",
       " 'jet_energy_uncertainty_EC2',\n",
       " 'JES_EC2',\n",
       " 'jet_energy_uncertainty_Absolute',\n",
       " 'JES_Absolute',\n",
       " 'jet_energy_uncertainty_Absolute_2018',\n",
       " 'JES_Absolute_2018',\n",
       " 'jet_energy_uncertainty_HF_2018',\n",
       " 'JES_HF_2018',\n",
       " 'jet_energy_uncertainty_EC2_2018',\n",
       " 'JES_EC2_2018',\n",
       " 'jet_energy_uncertainty_RelativeSample_2018',\n",
       " 'JES_RelativeSample_2018',\n",
       " 'jet_energy_uncertainty_BBEC1_2018',\n",
       " 'JES_BBEC1_2018',\n",
       " 'jet_energy_uncertainty_Total',\n",
       " 'JES_Total',\n",
       " 'jet_energy_uncertainty_jes',\n",
       " 'JES_jes']"
      ]
     },
     "execution_count": 103,
     "metadata": {},
     "output_type": "execute_result"
    }
   ],
   "source": [
    "j.fields"
   ]
  },
  {
   "cell_type": "code",
   "execution_count": 86,
   "id": "e534808a-009e-48c8-b568-2f6b72ce1159",
   "metadata": {},
   "outputs": [
    {
     "name": "stdout",
     "output_type": "stream",
     "text": [
      "CPU times: user 3.81 ms, sys: 0 ns, total: 3.81 ms\n",
      "Wall time: 3.39 ms\n"
     ]
    },
    {
     "data": {
      "text/plain": [
       "<Array [[178, 94, 75.9, ... 22.2, 25, 23.4]] type='400000 * var * float32'>"
      ]
     },
     "execution_count": 86,
     "metadata": {},
     "output_type": "execute_result"
    }
   ],
   "source": [
    "%%time\n",
    "j.JES_HF_2018.up.pt"
   ]
  },
  {
   "cell_type": "code",
   "execution_count": 93,
   "id": "679a988a-14e6-40d2-bd3b-0d28f9a12bb6",
   "metadata": {},
   "outputs": [
    {
     "data": {
      "text/plain": [
       "Text(0.5, 0, 'Jets pt')"
      ]
     },
     "execution_count": 93,
     "metadata": {},
     "output_type": "execute_result"
    },
    {
     "data": {
      "image/png": "[encoded data removed]",
      "text/plain": [
       "<Figure size 640x480 with 1 Axes>"
      ]
     },
     "metadata": {},
     "output_type": "display_data"
    }
   ],
   "source": [
    "plt.hist(ak.flatten(j.pt), bins=50, range=(0,100), histtype=\"step\", label=\"with JER\")\n",
    "plt.hist(ak.flatten(events.Jet.pt), bins=50, range=(0,100), histtype=\"step\",label=\"no JER\")\n",
    "plt.legend()\n",
    "plt.xlabel(\"Jets pt\")"
   ]
  },
  {
   "cell_type": "code",
   "execution_count": 95,
   "id": "3f7cb071-666f-43a2-89d3-1023ddc720a5",
   "metadata": {},
   "outputs": [
    {
     "data": {
      "text/plain": [
       "(array([ 11039.,  13818.,  24235.,  36152.,  49853.,  78287., 149886.,\n",
       "        247230., 255970., 229251., 192016., 160199., 136065., 118373.,\n",
       "        106003.,  97323.,  90028.,  84248.,  80024.,  76970.,  73153.,\n",
       "         70420.,  68014.,  65194.,  62913.,  61074.,  58959.,  57185.,\n",
       "         55294.,  53046.,  51664.,  49842.,  47987.,  46388.,  45223.,\n",
       "         43309.,  41689.,  40407.,  38796.,  37766.,  36062.,  34896.,\n",
       "         34008.,  32544.,  31003.,  29933.,  29405.,  27789.,  26699.,\n",
       "         25998.]),\n",
       " array([  0.,   2.,   4.,   6.,   8.,  10.,  12.,  14.,  16.,  18.,  20.,\n",
       "         22.,  24.,  26.,  28.,  30.,  32.,  34.,  36.,  38.,  40.,  42.,\n",
       "         44.,  46.,  48.,  50.,  52.,  54.,  56.,  58.,  60.,  62.,  64.,\n",
       "         66.,  68.,  70.,  72.,  74.,  76.,  78.,  80.,  82.,  84.,  86.,\n",
       "         88.,  90.,  92.,  94.,  96.,  98., 100.]),\n",
       " [<matplotlib.patches.Polygon at 0x7f97285e5190>])"
      ]
     },
     "execution_count": 95,
     "metadata": {},
     "output_type": "execute_result"
    },
    {
     "data": {
      "image/png": "[encoded data removed]",
      "text/plain": [
       "<Figure size 640x480 with 1 Axes>"
      ]
     },
     "metadata": {},
     "output_type": "display_data"
    }
   ],
   "source": [
    "plt.hist(ak.flatten(j.JES_jes.up.pt), bins=50, range=(0,100), histtype=\"step\")\n",
    "plt.hist(ak.flatten(j.JES_jes.down.pt), bins=50, range=(0,100), histtype=\"step\")"
   ]
  },
  {
   "cell_type": "code",
   "execution_count": 96,
   "id": "e80b5469-985b-4ce4-87e8-5d3ff4f63525",
   "metadata": {},
   "outputs": [],
   "source": [
    "events[\"Jet\"] = j.JES_jes.up"
   ]
  },
  {
   "cell_type": "code",
   "execution_count": 100,
   "id": "0f5a1c3e-fe6a-40a0-a777-374d38c3c7f0",
   "metadata": {},
   "outputs": [
    {
     "data": {
      "text/plain": [
       "(array([  9419.,   9520.,  15891.,  23578.,  33505.,  53124.,  88488.,\n",
       "        175039., 227541., 237822., 221191., 190696., 159588., 135980.,\n",
       "        117390., 104570.,  96696.,  89866.,  83739.,  79227.,  75878.,\n",
       "         72617.,  69942.,  66763.,  64502.,  62184.,  60499.,  58119.,\n",
       "         56514.,  54766.,  52686.,  51045.,  49051.,  47998.,  46238.,\n",
       "         44772.,  43138.,  41647.,  40153.,  38745.,  37402.,  36196.,\n",
       "         34923.,  33923.,  32695.,  31263.,  30054.,  29398.,  27819.,\n",
       "         27141.]),\n",
       " array([  0.,   2.,   4.,   6.,   8.,  10.,  12.,  14.,  16.,  18.,  20.,\n",
       "         22.,  24.,  26.,  28.,  30.,  32.,  34.,  36.,  38.,  40.,  42.,\n",
       "         44.,  46.,  48.,  50.,  52.,  54.,  56.,  58.,  60.,  62.,  64.,\n",
       "         66.,  68.,  70.,  72.,  74.,  76.,  78.,  80.,  82.,  84.,  86.,\n",
       "         88.,  90.,  92.,  94.,  96.,  98., 100.]),\n",
       " [<matplotlib.patches.Polygon at 0x7f97283cc310>])"
      ]
     },
     "execution_count": 100,
     "metadata": {},
     "output_type": "execute_result"
    },
    {
     "data": {
      "image/png": "[encoded data removed]",
      "text/plain": [
       "<Figure size 640x480 with 1 Axes>"
      ]
     },
     "metadata": {},
     "output_type": "display_data"
    }
   ],
   "source": [
    "plt.hist(ak.flatten(j.JES_jes.up.pt), bins=50, range=(0,100), histtype=\"step\")\n",
    "plt.hist(ak.flatten(events.Jet.pt), bins=50, range=(0,100), histtype=\"step\")"
   ]
  },
  {
   "cell_type": "code",
   "execution_count": null,
   "id": "ea6121f5-b677-4fba-969b-327596898139",
   "metadata": {},
   "outputs": [],
   "source": []
  }
 ],
 "metadata": {
  "kernelspec": {
   "display_name": "Python 3 (ipykernel)",
   "language": "python",
   "name": "python3"
  },
  "language_info": {
   "codemirror_mode": {
    "name": "ipython",
    "version": 3
   },
   "file_extension": ".py",
   "mimetype": "text/x-python",
   "name": "python",
   "nbconvert_exporter": "python",
   "pygments_lexer": "ipython3",
   "version": "3.9.15"
  }
 },
 "nbformat": 4,
 "nbformat_minor": 5
}
