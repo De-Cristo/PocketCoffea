{
 "cells": [
  {
   "cell_type": "code",
   "execution_count": 1,
   "id": "4fc4a530",
   "metadata": {},
   "outputs": [],
   "source": [
    "from coffea.nanoevents import NanoEventsFactory, NanoAODSchema\n",
    "from coffea import hist, processor\n",
    "import numpy as np\n",
    "import awkward as ak\n",
    "import matplotlib.pyplot as plt"
   ]
  },
  {
   "cell_type": "code",
   "execution_count": 2,
   "id": "b0fbce2b",
   "metadata": {},
   "outputs": [],
   "source": [
    "filename = \"/pnfs/psi.ch/cms/trivcat/store/user/mmarcheg/RunIIFall17NanoAODv7/ttHTobb_M125_TuneCP5_13TeV-powheg-pythia8/587E2464-42CA-3A45-BD49-D23E49F658E6.root\"\n",
    "#events = NanoEventsFactory.from_root(filename, schemaclass=NanoAODSchema).events()\n",
    "events = NanoEventsFactory.from_root(filename, schemaclass=NanoAODSchema, entry_stop=100).events()"
   ]
  },
  {
   "cell_type": "code",
   "execution_count": 3,
   "id": "37fecc63",
   "metadata": {
    "scrolled": true
   },
   "outputs": [
    {
     "data": {
      "text/plain": [
       "['event',\n",
       " 'PuppiMET',\n",
       " 'SoftActivityJetHT5',\n",
       " 'CaloMET',\n",
       " 'run',\n",
       " 'HLTriggerFirstPath',\n",
       " 'TrigObj',\n",
       " 'SoftActivityJetHT',\n",
       " 'SV',\n",
       " 'FsrPhoton',\n",
       " 'RawPuppiMET',\n",
       " 'Generator',\n",
       " 'Flag',\n",
       " 'genWeight',\n",
       " 'Electron',\n",
       " 'fixedGridRhoFastjetCentral',\n",
       " 'SoftActivityJetHT2',\n",
       " 'FatJet',\n",
       " 'btagWeight',\n",
       " 'METFixEE2017',\n",
       " 'LHEPart',\n",
       " 'HLT',\n",
       " 'Photon',\n",
       " 'SubGenJetAK8',\n",
       " 'L1PreFiringWeight',\n",
       " 'ChsMET',\n",
       " 'HTXS',\n",
       " 'GenVisTau',\n",
       " 'luminosityBlock',\n",
       " 'SoftActivityJetNjets5',\n",
       " 'genTtbarId',\n",
       " 'MET',\n",
       " 'fixedGridRhoFastjetCentralChargedPileUp',\n",
       " 'CorrT1METJet',\n",
       " 'fixedGridRhoFastjetCentralCalo',\n",
       " 'SoftActivityJetNjets2',\n",
       " 'IsoTrack',\n",
       " 'SoftActivityJet',\n",
       " 'SubJet',\n",
       " 'GenMET',\n",
       " 'OtherPV',\n",
       " 'GenJetAK8',\n",
       " 'Tau',\n",
       " 'fixedGridRhoFastjetAll',\n",
       " 'LHE',\n",
       " 'L1',\n",
       " 'TkMET',\n",
       " 'L1simulation',\n",
       " 'Muon',\n",
       " 'RawMET',\n",
       " 'GenDressedLepton',\n",
       " 'GenJet',\n",
       " 'LHEReweightingWeight',\n",
       " 'Jet',\n",
       " 'PSWeight',\n",
       " 'SoftActivityJetNjets10',\n",
       " 'LHEPdfWeight',\n",
       " 'GenPart',\n",
       " 'SoftActivityJetHT10',\n",
       " 'Pileup',\n",
       " 'LHEWeight',\n",
       " 'fixedGridRhoFastjetCentralNeutral',\n",
       " 'LHEScaleWeight',\n",
       " 'PV',\n",
       " 'HLTriggerFinalPath',\n",
       " 'GenIsolatedPhoton']"
      ]
     },
     "execution_count": 3,
     "metadata": {},
     "output_type": "execute_result"
    }
   ],
   "source": [
    "events.fields"
   ]
  },
  {
   "cell_type": "code",
   "execution_count": 4,
   "id": "fc676d4c",
   "metadata": {},
   "outputs": [
    {
     "data": {
      "text/plain": [
       "<Array [[0.0635, 0.04, ... 0.336, 0.158]] type='100 * var * float32[parameters={...'>"
      ]
     },
     "execution_count": 4,
     "metadata": {},
     "output_type": "execute_result"
    }
   ],
   "source": [
    "events.Jet.rawFactor"
   ]
  },
  {
   "cell_type": "code",
   "execution_count": 5,
   "id": "7f52a8fb",
   "metadata": {},
   "outputs": [
    {
     "data": {
      "text/plain": [
       "<Array [0.937, 0.96, 0.958, ... 0.664, 0.842] type='1098 * float32'>"
      ]
     },
     "execution_count": 5,
     "metadata": {},
     "output_type": "execute_result"
    }
   ],
   "source": [
    "SF = ak.flatten(1 - events.Jet.rawFactor)\n",
    "SF"
   ]
  },
  {
   "cell_type": "code",
   "execution_count": 6,
   "id": "3628b6ad",
   "metadata": {},
   "outputs": [
    {
     "data": {
      "image/png": "[encoded data removed]",
      "text/plain": [
       "<Figure size 432x288 with 1 Axes>"
      ]
     },
     "metadata": {
      "needs_background": "light"
     },
     "output_type": "display_data"
    }
   ],
   "source": [
    "plt.hist(SF, bins=20, range=(0,3));"
   ]
  },
  {
   "cell_type": "code",
   "execution_count": 7,
   "id": "6c2a4a1a",
   "metadata": {},
   "outputs": [],
   "source": [
    "pt_raw = (1 - events.Jet['rawFactor']) * events.Jet['pt']"
   ]
  },
  {
   "cell_type": "code",
   "execution_count": 8,
   "id": "a7231e19",
   "metadata": {},
   "outputs": [
    {
     "data": {
      "text/plain": [
       "<Array [1.07, 1.04, 1.04, ... 1.21, 1.51, 1.19] type='1098 * float32'>"
      ]
     },
     "execution_count": 8,
     "metadata": {},
     "output_type": "execute_result"
    }
   ],
   "source": [
    "ratio = ak.flatten(events.Jet.pt/pt_raw)\n",
    "ratio"
   ]
  },
  {
   "cell_type": "code",
   "execution_count": 9,
   "id": "abfe684d",
   "metadata": {},
   "outputs": [
    {
     "data": {
      "image/png": "[encoded data removed]",
      "text/plain": [
       "<Figure size 432x288 with 1 Axes>"
      ]
     },
     "metadata": {
      "needs_background": "light"
     },
     "output_type": "display_data"
    }
   ],
   "source": [
    "plt.hist(ratio, bins=20, range=(0,3));"
   ]
  },
  {
   "cell_type": "code",
   "execution_count": 10,
   "id": "4a38abae",
   "metadata": {},
   "outputs": [
    {
     "data": {
      "text/plain": [
       "(array([  0.,   0.,   0.,   0.,   9., 169., 704., 118.,  34.,  25.,  19.,\n",
       "          9.,   4.,   4.,   2.,   0.,   1.,   0.,   0.,   0.]),\n",
       " array([0.  , 0.15, 0.3 , 0.45, 0.6 , 0.75, 0.9 , 1.05, 1.2 , 1.35, 1.5 ,\n",
       "        1.65, 1.8 , 1.95, 2.1 , 2.25, 2.4 , 2.55, 2.7 , 2.85, 3.  ],\n",
       "       dtype=float32),\n",
       " <BarContainer object of 20 artists>)"
      ]
     },
     "execution_count": 10,
     "metadata": {},
     "output_type": "execute_result"
    },
    {
     "data": {
      "image/png": "[encoded data removed]",
      "text/plain": [
       "<Figure size 432x288 with 1 Axes>"
      ]
     },
     "metadata": {
      "needs_background": "light"
     },
     "output_type": "display_data"
    }
   ],
   "source": [
    "plt.hist(1/ratio, bins=20, range=(0,3))"
   ]
  },
  {
   "cell_type": "code",
   "execution_count": null,
   "id": "5c6f1d0e",
   "metadata": {},
   "outputs": [],
   "source": []
  }
 ],
 "metadata": {
  "kernelspec": {
   "display_name": "Python 3 (ipykernel)",
   "language": "python",
   "name": "python3"
  },
  "language_info": {
   "codemirror_mode": {
    "name": "ipython",
    "version": 3
   },
   "file_extension": ".py",
   "mimetype": "text/x-python",
   "name": "python",
   "nbconvert_exporter": "python",
   "pygments_lexer": "ipython3",
   "version": "3.9.7"
  }
 },
 "nbformat": 4,
 "nbformat_minor": 5
}
