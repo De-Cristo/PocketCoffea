{
 "cells": [
  {
   "cell_type": "code",
   "execution_count": 1,
   "id": "275645dd",
   "metadata": {},
   "outputs": [],
   "source": [
    "from collections.abc import Iterable\n",
    "import matplotlib.pyplot as plt\n",
    "import numpy as np\n",
    "import awkward as ak\n",
    "import numba\n",
    "import correctionlib\n",
    "from coffea.nanoevents import NanoEventsFactory, NanoAODSchema"
   ]
  },
  {
   "cell_type": "code",
   "execution_count": 2,
   "id": "f5f02406",
   "metadata": {},
   "outputs": [],
   "source": [
    "nevts = 10000\n",
    "filename = \"/pnfs/psi.ch/cms/trivcat/store/user/mmarcheg/RunIIFall17NanoAODv7/ttHTobb_M125_TuneCP5_13TeV-powheg-pythia8/587E2464-42CA-3A45-BD49-D23E49F658E6.root\"\n",
    "#events = NanoEventsFactory.from_root(filename, schemaclass=NanoAODSchema).events()\n",
    "events = NanoEventsFactory.from_root(filename, schemaclass=NanoAODSchema, entry_stop=nevts).events()"
   ]
  },
  {
   "cell_type": "code",
   "execution_count": 3,
   "id": "2df8fe6d",
   "metadata": {},
   "outputs": [],
   "source": [
    "def metric_pt(obj, obj2):\n",
    "    return abs(obj.pt - obj2.pt)\n",
    "\n",
    "@numba.jit\n",
    "def get_matching_pairs_indices(idx_quark, idx_jets, builder, builder2):\n",
    "    for ev_q, ev_j in zip(idx_quark, idx_jets):\n",
    "        builder.begin_list()\n",
    "        builder2.begin_list()\n",
    "        q_done = []\n",
    "        j_done = []\n",
    "        for i, (q,j) in enumerate(zip(ev_q, ev_j)):\n",
    "            if q not in q_done:\n",
    "                if j not in j_done:\n",
    "                    builder.append(i)\n",
    "                    q_done.append(q)\n",
    "                    j_done.append(j)\n",
    "                else:\n",
    "                    #builder.append(None)\n",
    "                    builder2.append(i)\n",
    "        builder.end_list()\n",
    "        builder2.end_list()\n",
    "    return builder, builder2\n",
    "\n",
    "@numba.jit\n",
    "def get_matching_objects_indices_padnone(idx_matched_obj, idx_matched_obj2, num_jets, builder, builder2):\n",
    "    for ev1_match, ev2_match, nj in zip(idx_matched_obj, idx_matched_obj2, num_jets):\n",
    "        #print(ev1_match, ev2_match)\n",
    "        builder.begin_list()\n",
    "        builder2.begin_list()\n",
    "        row1_length = len(ev1_match)\n",
    "        row2_length = nj\n",
    "        missed = 0\n",
    "        for i in range(row2_length):\n",
    "            if i in ev2_match:\n",
    "                #print(i, row1_length)\n",
    "                builder2.append(i)\n",
    "                if i-missed < row1_length:\n",
    "                    builder.append(ev1_match[i-missed])\n",
    "            else:\n",
    "                builder.append(None)\n",
    "                builder2.append(None)\n",
    "                missed += 1\n",
    "        builder.end_list()\n",
    "        builder2.end_list()\n",
    "    return builder, builder2"
   ]
  },
  {
   "cell_type": "code",
   "execution_count": 34,
   "id": "8b143fd3",
   "metadata": {},
   "outputs": [],
   "source": [
    "def object_matching_padnone(obj, obj2, dr_min, dpt_max=None):\n",
    "    # Compute deltaR(quark, jet) and save the nearest jet (deltaR matching)\n",
    "    deltaR = ak.flatten(obj.metric_table(obj2), axis=2)\n",
    "    # Keeping only the pairs with a deltaR min\n",
    "    maskDR = deltaR < dr_min\n",
    "    if dpt_max is not None:\n",
    "        deltaPt_table = obj.metric_table(obj2, metric=metric_pt)\n",
    "        # Check if the pt cut is an iterable or a scalar\n",
    "        if isinstance(pt_min, Iterable):\n",
    "            # Broadcast and flatten pt_min array in order to match the shape of the metric_table()\n",
    "            dpt_max_broadcast = ak.broadcast_arrays(dpt_max[:,np.newaxis], deltaPt_table)[0]\n",
    "            dpt_max  = ak.flatten(dpt_max_broadcast, axis=2)\n",
    "        deltaPt = ak.flatten(deltaPt_table, axis=2)\n",
    "        maskPt = deltaPt < dpt_max\n",
    "        maskDR = maskDR & maskPt\n",
    "    idx_pairs_sorted = ak.argsort(deltaR, axis=1)\n",
    "    pairs = ak.argcartesian([obj, obj2])\n",
    "    pairs_sorted  = pairs[idx_pairs_sorted]\n",
    "    deltaR_sorted = deltaR[idx_pairs_sorted]\n",
    "    maskDR_sorted = maskDR[idx_pairs_sorted]\n",
    "    idx_obj, idx_obj2 = ak.unzip(pairs_sorted)\n",
    "    \n",
    "    _idx_matched_pairs, _idx_missed_pairs = get_matching_pairs_indices(idx_obj, idx_obj2, ak.ArrayBuilder(), ak.ArrayBuilder())\n",
    "    idx_matched_pairs = _idx_matched_pairs.snapshot()\n",
    "    idx_missed_pairs  = _idx_missed_pairs.snapshot()\n",
    "    # The indices related to the invalid jet matches are skipped\n",
    "    idx_matched_obj  = idx_obj[idx_matched_pairs]\n",
    "    idx_matched_obj2 = idx_obj2[idx_matched_pairs]\n",
    "    deltaR_matched = deltaR_sorted[idx_matched_pairs]\n",
    "    maskDR_matched = maskDR[idx_matched_pairs]\n",
    "    # In order to keep track of the invalid jet matches, the indices of the second collection\n",
    "    # are sorted, and the order of the first collection of indices is reshuffled accordingly\n",
    "    obj2_order = ak.argsort(idx_matched_obj2)\n",
    "    idx_obj_sorted  = idx_matched_obj[obj2_order]\n",
    "    idx_obj2_sorted = idx_matched_obj2[obj2_order]\n",
    "    deltaR_sorted = deltaR_matched[obj2_order]\n",
    "    maskDR_sorted = maskDR_matched[obj2_order]\n",
    "    # Here we apply the deltaR + pT requirements on the objects\n",
    "    idx_obj_sorted_masked  = idx_obj_sorted[maskDR_sorted]\n",
    "    idx_obj2_sorted_masked = idx_obj2_sorted[maskDR_sorted]\n",
    "    #idx_obj_sorted_masked  = idx_obj_sorted\n",
    "    #idx_obj2_sorted_masked = idx_obj2_sorted\n",
    "\n",
    "    _idx_obj_sorted_padnone, _idx_obj2_sorted_padnone = get_matching_objects_indices_padnone(idx_obj_sorted_masked, idx_obj2_sorted_masked, ak.num(obj2), ak.ArrayBuilder(), ak.ArrayBuilder())\n",
    "    idx_obj_sorted_padnone  = _idx_obj_sorted_padnone.snapshot()\n",
    "    idx_obj2_sorted_padnone = _idx_obj2_sorted_padnone.snapshot()\n",
    "    # Finally the objects are sliced through the padded indices\n",
    "    # In this way, to a None entry in the indices will correspond a None entry in the object\n",
    "    matched_obj  = obj[idx_obj_sorted_padnone]\n",
    "    matched_obj2 = obj2[idx_obj2_sorted_padnone]\n",
    "\n",
    "    return matched_obj, matched_obj2, deltaR_sorted, maskDR_sorted"
   ]
  },
  {
   "cell_type": "code",
   "execution_count": 35,
   "id": "4c6e5922",
   "metadata": {},
   "outputs": [],
   "source": [
    "jsonfile = '/cvmfs/cms.cern.ch/rsync/cms-nanoAOD/jsonpog-integration/POG/JME/2017_UL/jet_jerc.json.gz'\n",
    "JECfile = correctionlib.CorrectionSet.from_file(jsonfile)\n",
    "corrected_jets = events.Jet\n",
    "corrected_jets['rho'] = ak.broadcast_arrays(events.fixedGridRhoFastjetAll, events.Jet.pt)[0]\n",
    "\n",
    "JERversion = \"Summer19UL17_JRV2_MC\"\n",
    "typeJet    = \"AK4PFchs\"\n",
    "sf  = JECfile[f'{JERversion}_ScaleFactor_{typeJet}']\n",
    "res = JECfile[f'{JERversion}_PtResolution_{typeJet}']\n",
    "genjets = events['GenJet']\n",
    "j, nj   = ak.flatten(corrected_jets), ak.num(corrected_jets)\n",
    "gj, ngj = ak.flatten(genjets), ak.num(genjets)\n",
    "flatScaleFactor  = sf.evaluate(j['eta'].to_numpy(), 'nom')\n",
    "flatPtResolution = res.evaluate(j['eta'].to_numpy(), j['pt'].to_numpy(), j['rho'].to_numpy())\n",
    "scaleFactor  = ak.unflatten(flatScaleFactor, nj)\n",
    "ptResolution = ak.unflatten(flatPtResolution, nj)\n",
    "# Match jets with gen-level jets, with DeltaR and DeltaPt requirements\n",
    "dr_min = {'AK4PFchs' : 0.2, 'AK8PFPuppi' : 0.4}[typeJet]  # Match jets within a cone with half the jet radius\n",
    "dpt_max = 3 * ptResolution * corrected_jets['pt']          # Match jets whose pt does not differ more than 3 sigmas from the gen-level pt"
   ]
  },
  {
   "cell_type": "code",
   "execution_count": 36,
   "id": "312c0282",
   "metadata": {},
   "outputs": [],
   "source": [
    "matched_genjets, matched_jets, deltaR_matched, maskDR_matched = object_matching_padnone(genjets, corrected_jets, dr_min)#, dpt_max)"
   ]
  },
  {
   "cell_type": "code",
   "execution_count": 37,
   "id": "05a3778f",
   "metadata": {},
   "outputs": [
    {
     "name": "stdout",
     "output_type": "stream",
     "text": [
      "[None, None, 75.1875, None, None, None, None, None, None, None]\n",
      "[None, None, 96.875, None, None, None, None, None, None]\n",
      "[115.8125, None, None, None, None, None, None, None, None, 15.5859375]\n",
      "[149.75, None, None, None, None, None, None, None]\n",
      "[119.4375, None, None, None, None]\n",
      "[None, 75.75, None, None, None, None, None]\n",
      "[368.0, None, None, None, None, None]\n",
      "[378.75, None, None, None, None, None, None, None, None, None, None]\n",
      "[None, None, 59.1875, None, None, None, None, None, None, None]\n",
      "[None, None, 62.25, None, None, None, None, None, None, None, None, None]\n",
      "[None, None, None, None, 36.96875, None, None, None, None, None]\n",
      "[None, None, None, None, None, 37.625, None, None, None, None]\n",
      "[318.0, None, None, None, None, None, None, None, None, None, None, None, None, None]\n",
      "[None, None, 80.5, None, None, None, None, None, None, None, None]\n",
      "[None, None, None, 38.1875, None, None, None, None, None, None, None, None, None, None]\n",
      "[None, None, None, None, 51.15625, None, None, None, None, None, None]\n",
      "[226.875, None, None, None, None, None, None, None, None, None, None, None, None, None]\n",
      "[None, None, 52.6875, None, None, None, None, None, None, None]\n",
      "[141.25, None, None, None, None, None, None, None, None, None, None, None, None, None, None]\n",
      "[398.5, None, None, None, None, None, None, None, None]\n",
      "[None, None, None, None, 31.625, None, None]\n",
      "[None, None, None, None, 86.8125, None, None, None, None, None, None]\n",
      "[151.625, None, None, None, None, None, None, None, None, None, None, None, 16.140625, None]\n",
      "[None, None, None, 69.9375, None, None, None, None]\n",
      "[None, None, 197.125, None, None, None, None, None, None, None, None]\n",
      "[None, None, 92.5625, None, None, None, None, None, None, None, None, None]\n",
      "[None, 65.5625, None, None, None, None, None]\n",
      "[None, None, 174.75, None, None, None, None, None, None, None, None, None, None, None]\n",
      "[None, 80.0625, None, None, None, None, None, None, None]\n",
      "[None, None, 56.90625, None, None, None, None, None, None, None]\n",
      "[None, 90.875, None, None, None, None, None, None, None, None, None, None, None]\n",
      "[None, None, 67.625, None, None, None, None, None, None, None, None, None, None, None]\n",
      "[177.125, None, None, None, None, None, None, None, None, None, None, None, None]\n",
      "[119.375, None, None, None, None, None, None, None]\n",
      "[137.75, None, None, None, None, None, None, None]\n",
      "[None, None, None, None, 53.6875, None, None, None, None, None, None, None]\n",
      "[116.625, None, None, None, None, None, None, None, None, None, None, None]\n",
      "[106.0, None, None, None, None, None, None, None, None]\n",
      "[None, None, None, None, 51.375, None, None, None, None, None, None, None]\n",
      "[None, None, 88.9375, None, None, None, None, None, None, None, None, None, None, None, None]\n",
      "[None, None, None, 55.1875, None, None, None, None, None, None, None, None]\n",
      "[None, None, 54.59375, None, None, None, None, None, None, None]\n",
      "[124.6875, None, None, None, None, None, None, None, None, None]\n",
      "[None, None, None, 54.09375, None, None, None, None, None]\n",
      "[None, None, 107.5, None, None, None, None, None, None]\n",
      "[None, None, None, None, 96.5625, None, None, None, None]\n",
      "[128.625, None, None, None, None, None, None, None, 16.984375, None]\n",
      "[None, 80.9375, None, None, None, None, None, None, None, None, None, None, None]\n",
      "[None, None, None, None, None, None, None, 20.59375, None, None, None]\n",
      "[None, None, None, 110.25, None, None, None, None, None, None, None, None, None]\n"
     ]
    }
   ],
   "source": [
    "for i in range(50):\n",
    "    print(matched_jets.pt[i].tolist())"
   ]
  },
  {
   "cell_type": "code",
   "execution_count": 28,
   "id": "8dd6d467",
   "metadata": {},
   "outputs": [
    {
     "data": {
      "text/plain": [
       "[178.25,\n",
       " 95.125,\n",
       " 75.1875,\n",
       " 51.5625,\n",
       " 43.625,\n",
       " 35.21875,\n",
       " 35.03125,\n",
       " 28.296875,\n",
       " 22.375,\n",
       " 19.484375]"
      ]
     },
     "execution_count": 28,
     "metadata": {},
     "output_type": "execute_result"
    }
   ],
   "source": [
    "corrected_jets[0].pt.tolist()"
   ]
  },
  {
   "cell_type": "code",
   "execution_count": 30,
   "id": "50d53a4c",
   "metadata": {},
   "outputs": [
    {
     "data": {
      "text/plain": [
       "[186.9935302734375,\n",
       " 96.59854125976562,\n",
       " 70.84357452392578,\n",
       " 46.89046859741211,\n",
       " 45.410621643066406,\n",
       " 37.62003707885742,\n",
       " 21.63822364807129,\n",
       " 20.361167907714844,\n",
       " 16.838815689086914,\n",
       " 13.847952842712402]"
      ]
     },
     "execution_count": 30,
     "metadata": {},
     "output_type": "execute_result"
    }
   ],
   "source": [
    "genjets[0].pt.tolist()"
   ]
  },
  {
   "cell_type": "code",
   "execution_count": 32,
   "id": "17785159",
   "metadata": {},
   "outputs": [
    {
     "data": {
      "text/plain": [
       "[47.46838611685613,\n",
       " 28.857709804554297,\n",
       " 27.202739919588147,\n",
       " 19.96952391879229,\n",
       " 22.58590234259607,\n",
       " 15.561919495444622,\n",
       " 15.513431723361212,\n",
       " 14.141391188553516,\n",
       " 12.067688479301513,\n",
       " 15.710699907735421]"
      ]
     },
     "execution_count": 32,
     "metadata": {},
     "output_type": "execute_result"
    }
   ],
   "source": [
    "dpt_max[0].tolist()"
   ]
  },
  {
   "cell_type": "code",
   "execution_count": 46,
   "id": "c24da0ad",
   "metadata": {},
   "outputs": [
    {
     "data": {
      "image/png": "[encoded data removed]",
      "text/plain": [
       "<Figure size 432x288 with 1 Axes>"
      ]
     },
     "metadata": {
      "needs_background": "light"
     },
     "output_type": "display_data"
    }
   ],
   "source": [
    "plt.hist(ak.flatten(deltaR_matched), bins=np.linspace(0,1,51));\n",
    "plt.vlines(0.2, 0, 35000, color='red');"
   ]
  },
  {
   "cell_type": "code",
   "execution_count": null,
   "id": "cc3aba34",
   "metadata": {},
   "outputs": [],
   "source": []
  }
 ],
 "metadata": {
  "kernelspec": {
   "display_name": "Python 3 (ipykernel)",
   "language": "python",
   "name": "python3"
  },
  "language_info": {
   "codemirror_mode": {
    "name": "ipython",
    "version": 3
   },
   "file_extension": ".py",
   "mimetype": "text/x-python",
   "name": "python",
   "nbconvert_exporter": "python",
   "pygments_lexer": "ipython3",
   "version": "3.9.7"
  }
 },
 "nbformat": 4,
 "nbformat_minor": 5
}
