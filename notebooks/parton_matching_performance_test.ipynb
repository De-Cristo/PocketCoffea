{
 "cells": [
  {
   "cell_type": "code",
   "execution_count": 2,
   "id": "7acee39f",
   "metadata": {},
   "outputs": [],
   "source": [
    "from coffea.nanoevents import NanoEventsFactory, NanoAODSchema\n",
    "from coffea import hist, processor\n",
    "import numpy as np\n",
    "import awkward as ak\n",
    "import matplotlib.pyplot as plt\n",
    "from pprint import pprint\n",
    "import numba"
   ]
  },
  {
   "cell_type": "code",
   "execution_count": 3,
   "id": "eabe73ee-e659-4878-90c6-d777de8fb1be",
   "metadata": {},
   "outputs": [],
   "source": [
    "def show(a, ievt=0):\n",
    "    pprint(a[ievt].tolist())"
   ]
  },
  {
   "cell_type": "code",
   "execution_count": 157,
   "id": "0c89709e",
   "metadata": {},
   "outputs": [],
   "source": [
    "filename = \"/pnfs/psi.ch/cms/trivcat/store/user/mmarcheg/RunIIFall17NanoAODv7/ttHTobb_M125_TuneCP5_13TeV-powheg-pythia8/587E2464-42CA-3A45-BD49-D23E49F658E6.root\"\n",
    "#events = NanoEventsFactory.from_root(filename, schemaclass=NanoAODSchema).events()\n",
    "events = NanoEventsFactory.from_root(filename, schemaclass=NanoAODSchema, entry_stop=150000).events()\n",
    "\n",
    "dataset = \"ttHTobb\""
   ]
  },
  {
   "cell_type": "code",
   "execution_count": 5,
   "id": "bbbfdba9",
   "metadata": {},
   "outputs": [],
   "source": [
    "ievt = 0"
   ]
  },
  {
   "cell_type": "code",
   "execution_count": 6,
   "id": "b77cb2ad-921c-4539-97c5-77b370a63481",
   "metadata": {},
   "outputs": [],
   "source": [
    "%load_ext snakeviz"
   ]
  },
  {
   "cell_type": "code",
   "execution_count": 158,
   "id": "9f343764-22b9-4f96-a0e4-8b75aa719d26",
   "metadata": {},
   "outputs": [
    {
     "name": "stdout",
     "output_type": "stream",
     "text": [
      "CPU times: user 7.36 s, sys: 4.97 s, total: 12.3 s\n",
      "Wall time: 12.5 s\n"
     ]
    }
   ],
   "source": [
    "%%time\n",
    "\n",
    "isOutgoing = events.LHEPart.status == 1\n",
    "isB = abs(events.LHEPart.pdgId) == 5\n",
    "bquarks = events.LHEPart[isB & isOutgoing]\n",
    "\n",
    "# Select b-quarks at Gen level, coming from H->bb decay\n",
    "if dataset == 'ttHTobb':\n",
    "    isHiggs = events.GenPart.pdgId == 25\n",
    "    isHard = events.GenPart.hasFlags(['fromHardProcess'])\n",
    "    hasTwoChildren = ak.num(events.GenPart.childrenIdxG, axis=2) == 2\n",
    "    higgs = events.GenPart[isHiggs & isHard & hasTwoChildren]\n",
    "    bquarks = ak.concatenate( (bquarks, ak.flatten(higgs.children, axis=2)), axis=1 )\n",
    "    # Sort b-quarks by pt\n",
    "    bquarks = ak.with_name(bquarks[ak.argsort(bquarks.pt, ascending=False)], name='PtEtaPhiMCandidate')\n"
   ]
  },
  {
   "cell_type": "code",
   "execution_count": 159,
   "id": "241e9507-d5f1-4b63-9705-5a5a1ba4e701",
   "metadata": {},
   "outputs": [
    {
     "name": "stdout",
     "output_type": "stream",
     "text": [
      "CPU times: user 4.87 s, sys: 1.66 s, total: 6.53 s\n",
      "Wall time: 6.53 s\n"
     ]
    }
   ],
   "source": [
    "%%time\n",
    "# Compute deltaR(b, jet) and save the nearest jet (deltaR matching)\n",
    "dr_min = 1\n",
    "deltaR = ak.flatten(bquarks.metric_table(events.Jet), axis=2)\n",
    "# keeping only the pairs with a deltaR min\n",
    "maskDR = deltaR < dr_min\n",
    "deltaRcut = deltaR[maskDR] #--> the mask works since we are applying it also to the argcartesian\n",
    "idx_pairs_sorted = ak.argsort(deltaRcut, axis=1)\n",
    "pairs = ak.argcartesian([bquarks, events.Jet])[maskDR]\n",
    "pairs_sorted = pairs[idx_pairs_sorted]\n",
    "idx_quark, idx_jets = ak.unzip(pairs_sorted)"
   ]
  },
  {
   "cell_type": "code",
   "execution_count": 9,
   "id": "b4ac315f-0119-425f-a03f-e2ce669af676",
   "metadata": {},
   "outputs": [
    {
     "name": "stdout",
     "output_type": "stream",
     "text": [
      "[0.057874202728271484, 0.24081091582775116, 0.06480082869529724]\n"
     ]
    }
   ],
   "source": [
    "show(deltaRcut,1)"
   ]
  },
  {
   "cell_type": "code",
   "execution_count": 10,
   "id": "e5500926-ddbd-4c11-9521-479891be9a89",
   "metadata": {},
   "outputs": [
    {
     "name": "stdout",
     "output_type": "stream",
     "text": [
      "[(0, 0), (1, 1), (2, 5)]\n"
     ]
    }
   ],
   "source": [
    "show(pairs,1)"
   ]
  },
  {
   "cell_type": "code",
   "execution_count": 11,
   "id": "6ca2bf42-75ce-46f0-9618-679ccd2ea2b0",
   "metadata": {},
   "outputs": [
    {
     "name": "stdout",
     "output_type": "stream",
     "text": [
      "[0, 2, 1]\n"
     ]
    }
   ],
   "source": [
    "show(idx_pairs_sorted,1)"
   ]
  },
  {
   "cell_type": "code",
   "execution_count": 12,
   "id": "78a8310d-efbd-434e-9de2-ec467e0f6877",
   "metadata": {},
   "outputs": [
    {
     "data": {
      "text/plain": [
       "[[(1, 2), (2, 4), (3, 5), (0, 1)],\n",
       " [(0, 0), (2, 5), (1, 1)],\n",
       " [(1, 2), (0, 0), (3, 8), (2, 5)],\n",
       " [(2, 4), (0, 0), (3, 5), (1, 2)],\n",
       " [(0, 1), (1, 3), (2, 1)],\n",
       " [(2, 2), (1, 0), (3, 5), (0, 2), (0, 1), (2, 3)],\n",
       " [(1, 1), (0, 2), (2, 4), (3, 5)],\n",
       " [(1, 2), (0, 1), (2, 3), (3, 6)],\n",
       " [(0, 2), (2, 5), (1, 6)],\n",
       " [(2, 1), (0, 0), (3, 2), (1, 5)]]"
      ]
     },
     "execution_count": 12,
     "metadata": {},
     "output_type": "execute_result"
    }
   ],
   "source": [
    "pairs_sorted[0:10].tolist()"
   ]
  },
  {
   "cell_type": "code",
   "execution_count": 13,
   "id": "f3cf981f-3d48-4148-b864-229e64ce59db",
   "metadata": {},
   "outputs": [],
   "source": [
    "def get_valid_pairs_masks(idx_bquarks, idx_Jet):\n",
    "    hasMatch = ak.zeros_like(idx_Jet, dtype=bool)\n",
    "    Npairmax = ak.max(ak.num(idx_bquarks))\n",
    "    # Loop over the (parton, jet) pairs\n",
    "    for idx_pair in range(Npairmax):\n",
    "        idx_bquark = ak.pad_none(idx_bquarks, Npairmax)[:,idx_pair]\n",
    "        idx_match_candidates = idx_Jet[ak.fill_none( (idx_bquarks == idx_bquark) & ~hasMatch, False)]\n",
    "        idx_pair_candidates  = ak.local_index(idx_Jet)[ak.fill_none( (idx_bquarks == idx_bquark) & ~hasMatch, False)]\n",
    "        #print(idx_bquark[ievt], idx_match_candidates[ievt])\n",
    "        #print(idx_bquark[ievt], idx_pair_candidates[ievt])\n",
    "        if idx_pair == 0:\n",
    "            idx_matchedJet    = ak.unflatten( ak.firsts(idx_match_candidates), 1 )\n",
    "            idx_matchedParton = ak.unflatten( idx_bquark, 1 )\n",
    "            idx_matchedPair   = ak.unflatten( ak.firsts(idx_pair_candidates), 1 )\n",
    "        else:\n",
    "            # If the partons are matched in all events or the number of jets is smaller than the number of partons, stop iterating\n",
    "            if ak.all( ( (ak.count(idx_matchedJet, axis=1) == ak.count(bquarks.pt, axis=1)) | (ak.count(events.Jet.pt, axis=1) < ak.count(bquarks.pt, axis=1) ) ) ): break\n",
    "            idx_matchedJet    = ak.concatenate( (idx_matchedJet, ak.unflatten( ak.firsts(idx_match_candidates), 1 ) ), axis=1 )\n",
    "            idx_matchedParton = ak.concatenate( (idx_matchedParton, ak.unflatten( idx_bquark, 1 )), axis=1 )\n",
    "            idx_matchedPair   = ak.concatenate( (idx_matchedPair, ak.unflatten( ak.firsts(idx_pair_candidates), 1 ) ), axis=1 )\n",
    "        # The mask `hasMatch` masks to False the \n",
    "        hasMatch = hasMatch | ak.fill_none(idx_Jet == ak.fill_none(ak.firsts(idx_match_candidates), -99), False) | ak.fill_none(idx_bquarks == idx_bquark, False)\n",
    "        #print(idx_pair, hasMatch[ievt].tolist(), end='\\n\\n')\n",
    "\n",
    "    idx_matchedParton = idx_matchedParton[~ak.is_none(idx_matchedJet, axis=1)]\n",
    "    idx_matchedJet = idx_matchedJet[~ak.is_none(idx_matchedJet, axis=1)]\n",
    "    return idx_matchedParton, idx_matchedJet"
   ]
  },
  {
   "cell_type": "code",
   "execution_count": 43,
   "id": "2a1d823b-5e9a-4b61-a876-93f2a4930f03",
   "metadata": {},
   "outputs": [],
   "source": [
    "def get_valid_pairs_nonumba(idx_quark, idx_jets, builder):\n",
    "    for ev_q, ev_j in zip(idx_quark, idx_jets):\n",
    "        builder.begin_list()\n",
    "        q_done = []\n",
    "        j_done = []\n",
    "        for q,j in zip(ev_q, ev_j):\n",
    "            if q not in q_done and j not in j_done:\n",
    "                builder.begin_record(\"pair\")\n",
    "                builder.field(\"quark\").append(q)\n",
    "                builder.field(\"jet\").append(j)\n",
    "                builder.end_record()\n",
    "                q_done.append(q)\n",
    "                j_done.append(j)\n",
    "        builder.end_list()\n",
    "    return builder"
   ]
  },
  {
   "cell_type": "code",
   "execution_count": 44,
   "id": "ec9daa7f-4c61-4a0e-bbc5-f39386e501f4",
   "metadata": {},
   "outputs": [],
   "source": [
    "@numba.jit\n",
    "def get_valid_pairs_numba(idx_quark, idx_jets, builder):\n",
    "    for ev_q, ev_j in zip(idx_quark, idx_jets):\n",
    "        builder.begin_list()\n",
    "        q_done = []\n",
    "        j_done = []\n",
    "        for q,j in zip(ev_q, ev_j):\n",
    "            if q not in q_done and j not in j_done:\n",
    "                builder.begin_record(\"pair\")\n",
    "                builder.field(\"quark\").append(q)\n",
    "                builder.field(\"jet\").append(j)\n",
    "                builder.end_record()\n",
    "                q_done.append(q)\n",
    "                j_done.append(j)\n",
    "        builder.end_list()\n",
    "    return builder"
   ]
  },
  {
   "cell_type": "code",
   "execution_count": 70,
   "id": "bb7f35df-5d04-4245-a46b-eef61eeb6d7d",
   "metadata": {},
   "outputs": [],
   "source": [
    "@numba.jit\n",
    "def get_valid_pairs_numba_extra(idx_quark, idx_jets, builder, builder2):\n",
    "    for ev_q, ev_j in zip(idx_quark, idx_jets):\n",
    "        builder.begin_list()\n",
    "        builder2.begin_list()\n",
    "        q_done = []\n",
    "        j_done = []\n",
    "        for q,j in zip(ev_q, ev_j):\n",
    "            if q not in q_done:\n",
    "                if j not in j_done:\n",
    "                    builder.begin_record(\"pair\")\n",
    "                    builder.field(\"quark\").append(q)\n",
    "                    builder.field(\"jet\").append(j)\n",
    "                    builder.end_record()\n",
    "                    q_done.append(q)\n",
    "                    j_done.append(j)\n",
    "                else:\n",
    "                    builder2.begin_record(\"missed_pair\")\n",
    "                    builder2.field(\"quark\").append(q)\n",
    "                    builder2.field(\"jet\").append(j)\n",
    "                    builder2.end_record()\n",
    "        builder.end_list()\n",
    "        builder2.end_list()\n",
    "    return builder, builder2"
   ]
  },
  {
   "cell_type": "code",
   "execution_count": 96,
   "id": "b06796dc-b201-47b3-b177-bf22008a918f",
   "metadata": {},
   "outputs": [],
   "source": [
    "@numba.jit\n",
    "def get_valid_pairs_index_numba(idx_quark, idx_jets, builder):\n",
    "    for ev_q, ev_j in zip(idx_quark, idx_jets):\n",
    "        builder.begin_list()\n",
    "        q_done = []\n",
    "        j_done = []\n",
    "        for i, (q,j) in enumerate(zip(ev_q, ev_j)):\n",
    "            if q not in q_done and j not in j_done:\n",
    "                builder.append(i)\n",
    "                q_done.append(q)\n",
    "                j_done.append(j)\n",
    "        builder.end_list()\n",
    "    return builder"
   ]
  },
  {
   "cell_type": "code",
   "execution_count": 113,
   "id": "b31067e8-14fc-48c8-8a83-c3886af4dc82",
   "metadata": {},
   "outputs": [],
   "source": [
    "def get_valid_pairs_index(idx_quark, idx_jets, builder):\n",
    "    for ev_q, ev_j in zip(idx_quark, idx_jets):\n",
    "        builder.begin_list()\n",
    "        q_done = []\n",
    "        j_done = []\n",
    "        for i, (q,j) in enumerate(zip(ev_q, ev_j)):\n",
    "            if q not in q_done and j not in j_done:\n",
    "                builder.append(i)\n",
    "                q_done.append(q)\n",
    "                j_done.append(j)\n",
    "        builder.end_list()\n",
    "    return builder"
   ]
  },
  {
   "cell_type": "code",
   "execution_count": 118,
   "id": "a25c5ece-a60b-45eb-97ce-32e8e465256f",
   "metadata": {},
   "outputs": [],
   "source": [
    "@numba.jit\n",
    "def get_valid_pairs_index_more_numba(idx_quark, idx_jets, builder, builder2):\n",
    "    for ev_q, ev_j in zip(idx_quark, idx_jets):\n",
    "        builder.begin_list()\n",
    "        builder2.begin_list()\n",
    "        q_done = []\n",
    "        j_done = []\n",
    "        for i, (q,j) in enumerate(zip(ev_q, ev_j)):\n",
    "            if q not in q_done:\n",
    "                if j not in j_done:\n",
    "                    builder.append(i)\n",
    "                    q_done.append(q)\n",
    "                    j_done.append(j)\n",
    "                else: \n",
    "                    builder2.append(i)\n",
    "        builder.end_list()\n",
    "        builder2.end_list()\n",
    "    return builder, builder2"
   ]
  },
  {
   "cell_type": "code",
   "execution_count": 110,
   "id": "ab7f8f5a-240e-4b43-b4af-ba796e10d091",
   "metadata": {},
   "outputs": [
    {
     "name": "stdout",
     "output_type": "stream",
     "text": [
      "2.79 s ± 41.2 ms per loop (mean ± std. dev. of 7 runs, 1 loop each)\n"
     ]
    }
   ],
   "source": [
    "%%timeit\n",
    "results1 = get_valid_pairs_masks(idx_quark, idx_jets)"
   ]
  },
  {
   "cell_type": "code",
   "execution_count": 26,
   "id": "b5238589-00e7-4589-baeb-18ef598af004",
   "metadata": {
    "jupyter": {
     "source_hidden": true
    },
    "tags": []
   },
   "outputs": [
    {
     "name": "stdout",
     "output_type": "stream",
     "text": [
      "9.02 s ± 24 ms per loop (mean ± std. dev. of 7 runs, 1 loop each)\n"
     ]
    }
   ],
   "source": [
    "%%timeit\n",
    "results2 = get_valid_pairs_nonumba(idx_quark, idx_jets, ak.ArrayBuilder())"
   ]
  },
  {
   "cell_type": "code",
   "execution_count": 48,
   "id": "569cc605-1cdb-4ce8-8dfc-03a532c1f112",
   "metadata": {},
   "outputs": [
    {
     "name": "stdout",
     "output_type": "stream",
     "text": [
      "137 ms ± 1.21 ms per loop (mean ± std. dev. of 7 runs, 10 loops each)\n"
     ]
    }
   ],
   "source": [
    "%%timeit\n",
    "results3 = get_valid_pairs_numba(idx_quark, idx_jets, ak.ArrayBuilder())"
   ]
  },
  {
   "cell_type": "code",
   "execution_count": 72,
   "id": "356eefc0-f8e9-4269-84ff-57aa9bf978bd",
   "metadata": {},
   "outputs": [
    {
     "name": "stdout",
     "output_type": "stream",
     "text": [
      "143 ms ± 1.37 ms per loop (mean ± std. dev. of 7 runs, 1 loop each)\n"
     ]
    }
   ],
   "source": [
    "%%timeit\n",
    "results4 = get_valid_pairs_numba_extra(idx_quark, idx_jets, ak.ArrayBuilder(),ak.ArrayBuilder())"
   ]
  },
  {
   "cell_type": "code",
   "execution_count": 120,
   "id": "7315bd31-8f3b-4a22-8877-98288a991291",
   "metadata": {},
   "outputs": [
    {
     "name": "stdout",
     "output_type": "stream",
     "text": [
      "61.9 ms ± 180 µs per loop (mean ± std. dev. of 7 runs, 10 loops each)\n"
     ]
    }
   ],
   "source": [
    "%%timeit\n",
    "results5 = get_valid_pairs_index_numba(idx_quark, idx_jets, ak.ArrayBuilder())"
   ]
  },
  {
   "cell_type": "code",
   "execution_count": 121,
   "id": "933bd938-3b2f-4270-afd7-0029705e288c",
   "metadata": {},
   "outputs": [
    {
     "name": "stdout",
     "output_type": "stream",
     "text": [
      "66.5 ms ± 271 µs per loop (mean ± std. dev. of 7 runs, 10 loops each)\n"
     ]
    }
   ],
   "source": [
    "%%timeit\n",
    "get_valid_pairs_index_more_numba(idx_quark, idx_jets, ak.ArrayBuilder(), ak.ArrayBuilder())"
   ]
  },
  {
   "cell_type": "code",
   "execution_count": 114,
   "id": "d31e7405-f1d2-4c9e-aed9-03b760f4ac7d",
   "metadata": {},
   "outputs": [
    {
     "name": "stdout",
     "output_type": "stream",
     "text": [
      "10.2 s ± 26.4 ms per loop (mean ± std. dev. of 7 runs, 1 loop each)\n"
     ]
    }
   ],
   "source": [
    "%%timeit\n",
    "get_valid_pairs_index(idx_quark, idx_jets, ak.ArrayBuilder())"
   ]
  },
  {
   "cell_type": "code",
   "execution_count": null,
   "id": "848e765d-e2ac-4016-877c-5457ecc4e309",
   "metadata": {},
   "outputs": [],
   "source": [
    "qq, jj = results1\n",
    "for i, (r, q) in enumerate(zip(results2,  results3)):\n",
    "    for R,R2 in zip(r,q):\n",
    "        if R.quark !=R2.quark or R.jet != R2.jet:\n",
    "            print(i , \"Mismatch\")"
   ]
  },
  {
   "cell_type": "code",
   "execution_count": null,
   "id": "3c9abd08-e0c9-42f1-8f54-ff5ad8595839",
   "metadata": {},
   "outputs": [],
   "source": [
    "qq, jj = results1\n",
    "for i, (r, q, j) in enumerate(zip(results2, qq, jj)):\n",
    "    mismatch = False\n",
    "    for R,Q,J in zip(r,q,j):\n",
    "        if R.quark !=Q or R.jet != J:\n",
    "            mismatch = True\n",
    "    if mismatch:\n",
    "        print(f\"ev:{i}, Nquark: {len(q)}, Njets: {len(j)}, match simple: {r}, match complex: {q},{j}\")\n",
    "        print(f\"\\t original sorted pairs: {pairs_sorted[i]}\")"
   ]
  },
  {
   "cell_type": "markdown",
   "id": "330547b6-d074-432e-8fc7-68ddee16614d",
   "metadata": {},
   "source": [
    "### Checking the results"
   ]
  },
  {
   "cell_type": "code",
   "execution_count": 144,
   "id": "453390c3-c3fc-4bd1-8d9a-c90d02a0363a",
   "metadata": {},
   "outputs": [],
   "source": [
    "_matchedPairs, _missedPairs = get_valid_pairs_numba_extra(idx_quark, idx_jets, ak.ArrayBuilder(), ak.ArrayBuilder())\n",
    "matchedPairs = _matchedPairs.snapshot()\n",
    "missedPairs = _missedPairs.snapshot()"
   ]
  },
  {
   "cell_type": "code",
   "execution_count": 145,
   "id": "b4202370-a994-4618-98aa-439317e03ee5",
   "metadata": {},
   "outputs": [
    {
     "data": {
      "text/plain": [
       "[{'quark': 2, 'jet': 2},\n",
       " {'quark': 0, 'jet': 1},\n",
       " {'quark': 3, 'jet': 6},\n",
       " {'quark': 1, 'jet': 0}]"
      ]
     },
     "execution_count": 145,
     "metadata": {},
     "output_type": "execute_result"
    }
   ],
   "source": [
    "matchedPairs[10].tolist()"
   ]
  },
  {
   "cell_type": "code",
   "execution_count": 160,
   "id": "4247fe02-4ce4-44ae-908b-9c742a876246",
   "metadata": {},
   "outputs": [
    {
     "data": {
      "text/plain": [
       "[(2, 2), (0, 1), (3, 6), (1, 0)]"
      ]
     },
     "execution_count": 160,
     "metadata": {},
     "output_type": "execute_result"
    }
   ],
   "source": [
    "idx_matched = get_valid_pairs_index_numba(idx_quark, idx_jets, ak.ArrayBuilder()).snapshot()\n",
    "pairs_sorted[idx_matched][10].tolist()"
   ]
  },
  {
   "cell_type": "code",
   "execution_count": 169,
   "id": "b3f98d7e-9c4c-432b-a182-faeb03536098",
   "metadata": {},
   "outputs": [
    {
     "data": {
      "text/plain": [
       "(array([69758., 72147., 44202., 28428., 19993., 14917., 11553.,  9375.,\n",
       "         7252.,  6114.,  5166.,  4550.,  4015.,  3577.,  3268.,  3003.,\n",
       "         2807.,  2806.,  2769.,  3014.,  3471.,  3999.,  4475.,  4955.,\n",
       "         5543.,  6298.,  6746.,  7190.,  7474.,  7905.,  8245.,  8345.,\n",
       "         8583.,  8784.,  8931.,  9071.,  9037.,  9138.,  9156.,  9163.,\n",
       "         9114.,  9211.,  9446.,  9669.,  9824.,  9934., 10258., 10375.,\n",
       "        10441., 10684.]),\n",
       " array([0.  , 0.02, 0.04, 0.06, 0.08, 0.1 , 0.12, 0.14, 0.16, 0.18, 0.2 ,\n",
       "        0.22, 0.24, 0.26, 0.28, 0.3 , 0.32, 0.34, 0.36, 0.38, 0.4 , 0.42,\n",
       "        0.44, 0.46, 0.48, 0.5 , 0.52, 0.54, 0.56, 0.58, 0.6 , 0.62, 0.64,\n",
       "        0.66, 0.68, 0.7 , 0.72, 0.74, 0.76, 0.78, 0.8 , 0.82, 0.84, 0.86,\n",
       "        0.88, 0.9 , 0.92, 0.94, 0.96, 0.98, 1.  ], dtype=float32),\n",
       " <BarContainer object of 50 artists>)"
      ]
     },
     "execution_count": 169,
     "metadata": {},
     "output_type": "execute_result"
    },
    {
     "data": {
      "image/png": "[encoded data removed]",
      "text/plain": [
       "<Figure size 432x288 with 1 Axes>"
      ]
     },
     "metadata": {
      "needs_background": "light"
     },
     "output_type": "display_data"
    }
   ],
   "source": [
    "plt.hist(ak.flatten(deltaRcut[idx_matched]), bins=50, range=(0, 1))\n",
    "# plt.yscale(\"log\")"
   ]
  },
  {
   "cell_type": "code",
   "execution_count": 156,
   "id": "c3ae71cc-504b-4bda-bcb4-62b2847352e5",
   "metadata": {},
   "outputs": [
    {
     "data": {
      "text/plain": [
       "<JetArray [Jet, Jet, Jet, Jet] type='4 * ?jet'>"
      ]
     },
     "execution_count": 156,
     "metadata": {},
     "output_type": "execute_result"
    }
   ],
   "source": [
    "events.Jet[idx_jets[idx_matched]][10]"
   ]
  },
  {
   "cell_type": "markdown",
   "id": "fc340697-22ae-4bd2-874c-1fde4d6ba453",
   "metadata": {},
   "source": [
    "### Check profiling"
   ]
  },
  {
   "cell_type": "code",
   "execution_count": 36,
   "id": "57de261b-0966-401a-befe-d375978450f1",
   "metadata": {},
   "outputs": [
    {
     "name": "stdout",
     "output_type": "stream",
     "text": [
      " \n",
      "*** Profile stats marshalled to file '/tmp/tmpvmveghyp'. \n",
      "Embedding SnakeViz in this document...\n"
     ]
    },
    {
     "data": {
      "text/html": [
       "\n",
       "<iframe id='snakeviz-5580b997-d7da-11ec-a2de-a4bf0104df06' frameborder=0 seamless width='100%' height='1000'></iframe>\n",
       "<script>document.getElementById(\"snakeviz-5580b997-d7da-11ec-a2de-a4bf0104df06\").setAttribute(\"src\", \"http://\" + document.location.hostname + \":8080/snakeviz/%2Ftmp%2Ftmpvmveghyp\")</script>\n"
      ],
      "text/plain": [
       "<IPython.core.display.HTML object>"
      ]
     },
     "metadata": {},
     "output_type": "display_data"
    }
   ],
   "source": [
    "%%snakeviz \n",
    "results1 = get_valid_pairs_masks(idx_quark, idx_jets)"
   ]
  },
  {
   "cell_type": "code",
   "execution_count": 37,
   "id": "027dac38-bdff-46ab-9c5c-762229e8ca77",
   "metadata": {},
   "outputs": [
    {
     "name": "stdout",
     "output_type": "stream",
     "text": [
      " \n",
      "*** Profile stats marshalled to file '/tmp/tmpf0yprmct'. \n",
      "Embedding SnakeViz in this document...\n"
     ]
    },
    {
     "data": {
      "text/html": [
       "\n",
       "<iframe id='snakeviz-57ee0ab7-d7da-11ec-9c5e-a4bf0104df06' frameborder=0 seamless width='100%' height='1000'></iframe>\n",
       "<script>document.getElementById(\"snakeviz-57ee0ab7-d7da-11ec-9c5e-a4bf0104df06\").setAttribute(\"src\", \"http://\" + document.location.hostname + \":8081/snakeviz/%2Ftmp%2Ftmpf0yprmct\")</script>\n"
      ],
      "text/plain": [
       "<IPython.core.display.HTML object>"
      ]
     },
     "metadata": {},
     "output_type": "display_data"
    }
   ],
   "source": [
    "%%snakeviz \n",
    "results3 = get_valid_pairs_numba(idx_quark, idx_jets, ak.ArrayBuilder())"
   ]
  },
  {
   "cell_type": "markdown",
   "id": "7e320b0e-1ea0-46c2-ae11-7bdaa37871b5",
   "metadata": {},
   "source": [
    "### Check the performance of first part of the algo"
   ]
  },
  {
   "cell_type": "code",
   "execution_count": 28,
   "id": "b7d83ef6-72c4-49d7-a2bf-67198d655f49",
   "metadata": {},
   "outputs": [
    {
     "name": "stdout",
     "output_type": "stream",
     "text": [
      "734 ms ± 12.9 ms per loop (mean ± std. dev. of 7 runs, 1 loop each)\n"
     ]
    }
   ],
   "source": [
    "%%timeit\n",
    "# Compute deltaR(b, jet) and save the nearest jet (deltaR matching)\n",
    "dr_min = 0.4\n",
    "deltaR = ak.flatten(bquarks.metric_table(events.Jet), axis=2) "
   ]
  },
  {
   "cell_type": "code",
   "execution_count": 24,
   "id": "4e4064a7-f938-4881-abed-2a28ef225638",
   "metadata": {},
   "outputs": [
    {
     "name": "stdout",
     "output_type": "stream",
     "text": [
      "196 ms ± 23.7 ms per loop (mean ± std. dev. of 7 runs, 1 loop each)\n"
     ]
    }
   ],
   "source": [
    "%%timeit\n",
    "# keeping only the pairs with a deltaR min\n",
    "maskDR = deltaR < dr_min\n",
    "deltaRcut = deltaR[maskDR] #--> the mask works since we are applying it also to the argcartesian"
   ]
  },
  {
   "cell_type": "code",
   "execution_count": 29,
   "id": "4b17fa66-7bcd-44b9-94c6-d0e7b3bae8cc",
   "metadata": {},
   "outputs": [
    {
     "name": "stdout",
     "output_type": "stream",
     "text": [
      "21.2 ms ± 4.97 ms per loop (mean ± std. dev. of 7 runs, 10 loops each)\n"
     ]
    }
   ],
   "source": [
    "%%timeit  pass\n",
    "idx_pairs_sorted = ak.argsort(deltaRcut, axis=1)\n"
   ]
  },
  {
   "cell_type": "code",
   "execution_count": 30,
   "id": "9dc2d0ac-30c1-49dc-8f7d-dff290c80cba",
   "metadata": {},
   "outputs": [
    {
     "name": "stdout",
     "output_type": "stream",
     "text": [
      "161 ms ± 6.49 ms per loop (mean ± std. dev. of 7 runs, 1 loop each)\n"
     ]
    }
   ],
   "source": [
    "%%timeit pass\n",
    "pairs = ak.argcartesian([bquarks, events.Jet])[maskDR]"
   ]
  },
  {
   "cell_type": "code",
   "execution_count": 31,
   "id": "525cfef1-12e0-4790-8783-fd36afcc5054",
   "metadata": {},
   "outputs": [
    {
     "name": "stdout",
     "output_type": "stream",
     "text": [
      "4.38 ms ± 92.3 µs per loop (mean ± std. dev. of 7 runs, 100 loops each)\n"
     ]
    }
   ],
   "source": [
    "%%timeit pass\n",
    "pairs_sorted = pairs[idx_pairs_sorted]\n"
   ]
  },
  {
   "cell_type": "code",
   "execution_count": 32,
   "id": "482e6edc-2c13-4fee-b83b-4927d179764e",
   "metadata": {},
   "outputs": [
    {
     "name": "stdout",
     "output_type": "stream",
     "text": [
      "170 µs ± 27.4 µs per loop (mean ± std. dev. of 7 runs, 1000 loops each)\n"
     ]
    }
   ],
   "source": [
    "%%timeit pass\n",
    "idx_quark, idx_jets = ak.unzip(pairs_sorted)"
   ]
  },
  {
   "cell_type": "code",
   "execution_count": 34,
   "id": "f89898b1-7f8e-44ba-bac3-1b9bc692a8e8",
   "metadata": {},
   "outputs": [
    {
     "name": "stdout",
     "output_type": "stream",
     "text": [
      "1.01 s ± 94.3 ms per loop (mean ± std. dev. of 7 runs, 1 loop each)\n"
     ]
    }
   ],
   "source": [
    "%%timeit\n",
    "# Compute deltaR(b, jet) and save the nearest jet (deltaR matching)\n",
    "dr_min = 0.4\n",
    "deltaR = ak.flatten(bquarks.metric_table(events.Jet), axis=2)\n",
    "# keeping only the pairs with a deltaR min\n",
    "maskDR = deltaR < dr_min\n",
    "deltaRcut = deltaR[maskDR] #--> the mask works since we are applying it also to the argcartesian\n",
    "idx_pairs_sorted = ak.argsort(deltaRcut, axis=1)\n",
    "pairs = ak.argcartesian([bquarks, events.Jet])[maskDR]\n",
    "pairs_sorted = pairs[idx_pairs_sorted]\n",
    "idx_quark, idx_jets = ak.unzip(pairs_sorted)\n",
    "       "
   ]
  },
  {
   "cell_type": "code",
   "execution_count": 35,
   "id": "63466bfe-764d-49f6-8d66-ba37f7d89d9b",
   "metadata": {},
   "outputs": [
    {
     "data": {
      "text/plain": [
       "<Array [[1, 2, 3, 0], [0, ... 3, 3], [0, 1, 2]] type='100000 * var * ?int64'>"
      ]
     },
     "execution_count": 35,
     "metadata": {},
     "output_type": "execute_result"
    }
   ],
   "source": [
    "idx_quark"
   ]
  },
  {
   "cell_type": "code",
   "execution_count": null,
   "id": "2b53bda0-1696-4a55-8fca-97ec2bcee1ff",
   "metadata": {},
   "outputs": [],
   "source": []
  },
  {
   "cell_type": "code",
   "execution_count": null,
   "id": "0c741388-3872-4131-acba-5abc9b09116d",
   "metadata": {},
   "outputs": [],
   "source": []
  },
  {
   "cell_type": "code",
   "execution_count": null,
   "id": "1ca57320-e478-4d3a-a74c-4eec71d245c2",
   "metadata": {},
   "outputs": [],
   "source": []
  },
  {
   "cell_type": "code",
   "execution_count": null,
   "id": "34e1dd23",
   "metadata": {},
   "outputs": [],
   "source": []
  }
 ],
 "metadata": {
  "kernelspec": {
   "display_name": "Python 3 (ipykernel)",
   "language": "python",
   "name": "python3"
  },
  "language_info": {
   "codemirror_mode": {
    "name": "ipython",
    "version": 3
   },
   "file_extension": ".py",
   "mimetype": "text/x-python",
   "name": "python",
   "nbconvert_exporter": "python",
   "pygments_lexer": "ipython3",
   "version": "3.9.7"
  }
 },
 "nbformat": 4,
 "nbformat_minor": 5
}
