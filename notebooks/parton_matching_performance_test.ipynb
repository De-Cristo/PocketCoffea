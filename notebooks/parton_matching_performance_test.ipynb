{
 "cells": [
  {
   "cell_type": "code",
   "execution_count": 1,
   "id": "7acee39f",
   "metadata": {},
   "outputs": [],
   "source": [
    "from coffea.nanoevents import NanoEventsFactory, NanoAODSchema\n",
    "from coffea import hist, processor\n",
    "import numpy as np\n",
    "import awkward as ak\n",
    "import matplotlib.pyplot as plt\n",
    "from pprint import pprint\n",
    "import numba"
   ]
  },
  {
   "cell_type": "code",
   "execution_count": 2,
   "id": "eabe73ee-e659-4878-90c6-d777de8fb1be",
   "metadata": {},
   "outputs": [],
   "source": [
    "def show(a, ievt=0):\n",
    "    pprint(a[ievt].tolist())"
   ]
  },
  {
   "cell_type": "code",
   "execution_count": 161,
   "id": "0c89709e",
   "metadata": {},
   "outputs": [],
   "source": [
    "filename = \"/pnfs/psi.ch/cms/trivcat/store/user/mmarcheg/RunIIFall17NanoAODv7/ttHTobb_M125_TuneCP5_13TeV-powheg-pythia8/587E2464-42CA-3A45-BD49-D23E49F658E6.root\"\n",
    "#events = NanoEventsFactory.from_root(filename, schemaclass=NanoAODSchema).events()\n",
    "events = NanoEventsFactory.from_root(filename, schemaclass=NanoAODSchema, entry_stop=10000).events()\n",
    "\n",
    "dataset = \"ttHTobb\""
   ]
  },
  {
   "cell_type": "code",
   "execution_count": 4,
   "id": "bbbfdba9",
   "metadata": {},
   "outputs": [],
   "source": [
    "ievt = 0"
   ]
  },
  {
   "cell_type": "code",
   "execution_count": 5,
   "id": "b77cb2ad-921c-4539-97c5-77b370a63481",
   "metadata": {},
   "outputs": [],
   "source": [
    "%load_ext snakeviz"
   ]
  },
  {
   "cell_type": "code",
   "execution_count": 163,
   "id": "9f343764-22b9-4f96-a0e4-8b75aa719d26",
   "metadata": {},
   "outputs": [],
   "source": [
    "isOutgoing = events.LHEPart.status == 1\n",
    "isB = abs(events.LHEPart.pdgId) == 5\n",
    "bquarks = events.LHEPart[isB & isOutgoing]\n",
    "\n",
    "# Select b-quarks at Gen level, coming from H->bb decay\n",
    "if dataset == 'ttHTobb':\n",
    "    isHiggs = events.GenPart.pdgId == 25\n",
    "    isHard = events.GenPart.hasFlags(['fromHardProcess'])\n",
    "    hasTwoChildren = ak.num(events.GenPart.childrenIdxG, axis=2) == 2\n",
    "    higgs = events.GenPart[isHiggs & isHard & hasTwoChildren]\n",
    "    bquarks = ak.concatenate( (bquarks, ak.flatten(higgs.children, axis=2)), axis=1 )\n",
    "    # Sort b-quarks by pt\n",
    "    bquarks = ak.with_name(bquarks[ak.argsort(bquarks.pt, ascending=False)], name='PtEtaPhiMCandidate')\n"
   ]
  },
  {
   "cell_type": "code",
   "execution_count": 164,
   "id": "241e9507-d5f1-4b63-9705-5a5a1ba4e701",
   "metadata": {},
   "outputs": [
    {
     "name": "stdout",
     "output_type": "stream",
     "text": [
      "CPU times: user 348 ms, sys: 4.99 ms, total: 353 ms\n",
      "Wall time: 351 ms\n"
     ]
    }
   ],
   "source": [
    "%%time\n",
    "# Compute deltaR(b, jet) and save the nearest jet (deltaR matching)\n",
    "dr_min = 0.4\n",
    "deltaR = ak.flatten(bquarks.metric_table(events.Jet), axis=2)\n",
    "# keeping only the pairs with a deltaR min\n",
    "maskDR = deltaR < dr_min\n",
    "deltaRcut = deltaR[maskDR] #--> the mask works since we are applying it also to the argcartesian\n",
    "idx_pairs_sorted = ak.argsort(deltaRcut, axis=1)\n",
    "pairs = ak.argcartesian([bquarks, events.Jet])[maskDR]\n",
    "pairs_sorted = pairs[idx_pairs_sorted]\n",
    "idx_quark, idx_jets = ak.unzip(pairs_sorted)\n",
    "       "
   ]
  },
  {
   "cell_type": "code",
   "execution_count": 10,
   "id": "b4ac315f-0119-425f-a03f-e2ce669af676",
   "metadata": {},
   "outputs": [
    {
     "name": "stdout",
     "output_type": "stream",
     "text": [
      "[0.057874202728271484, 0.24081091582775116, 0.06480082869529724]\n"
     ]
    }
   ],
   "source": [
    "show(deltaRcut,1)"
   ]
  },
  {
   "cell_type": "code",
   "execution_count": 11,
   "id": "e5500926-ddbd-4c11-9521-479891be9a89",
   "metadata": {},
   "outputs": [
    {
     "name": "stdout",
     "output_type": "stream",
     "text": [
      "[(0, 0), (1, 1), (2, 5)]\n"
     ]
    }
   ],
   "source": [
    "show(pairs,1)"
   ]
  },
  {
   "cell_type": "code",
   "execution_count": 12,
   "id": "6ca2bf42-75ce-46f0-9618-679ccd2ea2b0",
   "metadata": {},
   "outputs": [
    {
     "name": "stdout",
     "output_type": "stream",
     "text": [
      "[0, 2, 1]\n"
     ]
    }
   ],
   "source": [
    "show(idx_pairs_sorted,1)"
   ]
  },
  {
   "cell_type": "code",
   "execution_count": 96,
   "id": "78a8310d-efbd-434e-9de2-ec467e0f6877",
   "metadata": {},
   "outputs": [
    {
     "data": {
      "text/plain": [
       "[[(1, 2), (2, 4), (3, 5), (0, 1)],\n",
       " [(0, 0), (2, 5), (1, 1)],\n",
       " [(1, 2), (0, 0), (3, 8), (2, 5)],\n",
       " [(2, 4), (0, 0), (3, 5), (1, 2)],\n",
       " [(0, 1), (1, 3), (2, 1)],\n",
       " [(2, 2), (1, 0), (3, 5), (0, 2), (0, 1), (2, 3)],\n",
       " [(1, 1), (0, 2), (2, 4), (3, 5)],\n",
       " [(1, 2), (0, 1), (2, 3), (3, 6)],\n",
       " [(0, 2), (2, 5), (1, 6)],\n",
       " [(2, 1), (0, 0), (3, 2), (1, 5)]]"
      ]
     },
     "execution_count": 96,
     "metadata": {},
     "output_type": "execute_result"
    }
   ],
   "source": [
    "pairs_sorted[0:10].tolist()"
   ]
  },
  {
   "cell_type": "code",
   "execution_count": 165,
   "id": "f3cf981f-3d48-4148-b864-229e64ce59db",
   "metadata": {},
   "outputs": [],
   "source": [
    "def get_valid_pairs_masks(idx_bquarks, idx_Jet):\n",
    "    hasMatch = ak.zeros_like(idx_Jet, dtype=bool)\n",
    "    Npairmax = ak.max(ak.num(idx_bquarks))\n",
    "    # Loop over the (parton, jet) pairs\n",
    "    for idx_pair in range(Npairmax):\n",
    "        idx_bquark = ak.pad_none(idx_bquarks, Npairmax)[:,idx_pair]\n",
    "        idx_match_candidates = idx_Jet[ak.fill_none( (idx_bquarks == idx_bquark) & ~hasMatch, False)]\n",
    "        idx_pair_candidates  = ak.local_index(idx_Jet)[ak.fill_none( (idx_bquarks == idx_bquark) & ~hasMatch, False)]\n",
    "        #print(idx_bquark[ievt], idx_match_candidates[ievt])\n",
    "        #print(idx_bquark[ievt], idx_pair_candidates[ievt])\n",
    "        if idx_pair == 0:\n",
    "            idx_matchedJet    = ak.unflatten( ak.firsts(idx_match_candidates), 1 )\n",
    "            idx_matchedParton = ak.unflatten( idx_bquark, 1 )\n",
    "            idx_matchedPair   = ak.unflatten( ak.firsts(idx_pair_candidates), 1 )\n",
    "        else:\n",
    "            # If the partons are matched in all events or the number of jets is smaller than the number of partons, stop iterating\n",
    "            if ak.all( ( (ak.count(idx_matchedJet, axis=1) == ak.count(bquarks.pt, axis=1)) | (ak.count(events.Jet.pt, axis=1) < ak.count(bquarks.pt, axis=1) ) ) ): break\n",
    "            idx_matchedJet    = ak.concatenate( (idx_matchedJet, ak.unflatten( ak.firsts(idx_match_candidates), 1 ) ), axis=1 )\n",
    "            idx_matchedParton = ak.concatenate( (idx_matchedParton, ak.unflatten( idx_bquark, 1 )), axis=1 )\n",
    "            idx_matchedPair   = ak.concatenate( (idx_matchedPair, ak.unflatten( ak.firsts(idx_pair_candidates), 1 ) ), axis=1 )\n",
    "        # The mask `hasMatch` masks to False the \n",
    "        hasMatch = hasMatch | ak.fill_none(idx_Jet == ak.fill_none(ak.firsts(idx_match_candidates), -99), False) | ak.fill_none(idx_bquarks == idx_bquark, False)\n",
    "        #print(idx_pair, hasMatch[ievt].tolist(), end='\\n\\n')\n",
    "\n",
    "    idx_matchedParton = idx_matchedParton[~ak.is_none(idx_matchedJet, axis=1)]\n",
    "    idx_matchedJet = idx_matchedJet[~ak.is_none(idx_matchedJet, axis=1)]\n",
    "    return idx_matchedParton, idx_matchedJet"
   ]
  },
  {
   "cell_type": "code",
   "execution_count": 166,
   "id": "2a1d823b-5e9a-4b61-a876-93f2a4930f03",
   "metadata": {},
   "outputs": [],
   "source": [
    "def get_valid_pairs_nonumba(idx_quark, idx_jets, builder):\n",
    "    for ev_q, ev_j in zip(idx_quark, idx_jets):\n",
    "        builder.begin_list()\n",
    "        q_done = []\n",
    "        j_done = []\n",
    "        n = 0\n",
    "        for q,j in zip(ev_q, ev_j):\n",
    "            if q not in q_done and j not in j_done:\n",
    "                builder.begin_record(\"pair\")\n",
    "                builder.field(\"quark\").append(q)\n",
    "                builder.field(\"jet\").append(j)\n",
    "                builder.end_record()\n",
    "                q_done.append(q)\n",
    "                j_done.append(j)\n",
    "        builder.end_list()\n",
    "    return builder"
   ]
  },
  {
   "cell_type": "code",
   "execution_count": 167,
   "id": "ec9daa7f-4c61-4a0e-bbc5-f39386e501f4",
   "metadata": {},
   "outputs": [],
   "source": [
    "@numba.jit\n",
    "def get_valid_pairs_numba(idx_quark, idx_jets, builder):\n",
    "    for ev_q, ev_j in zip(idx_quark, idx_jets):\n",
    "        builder.begin_list()\n",
    "        q_done = []\n",
    "        j_done = []\n",
    "        n = 0\n",
    "        for q,j in zip(ev_q, ev_j):\n",
    "            if q not in q_done and j not in j_done:\n",
    "                builder.begin_record(\"pair\")\n",
    "                builder.field(\"quark\").append(q)\n",
    "                builder.field(\"jet\").append(j)\n",
    "                builder.end_record()\n",
    "                q_done.append(q)\n",
    "                j_done.append(j)\n",
    "        builder.end_list()\n",
    "    return builder"
   ]
  },
  {
   "cell_type": "code",
   "execution_count": 176,
   "id": "ab7f8f5a-240e-4b43-b4af-ba796e10d091",
   "metadata": {},
   "outputs": [
    {
     "name": "stdout",
     "output_type": "stream",
     "text": [
      "CPU times: user 488 ms, sys: 13.1 ms, total: 501 ms\n",
      "Wall time: 498 ms\n"
     ]
    }
   ],
   "source": [
    "%%time\n",
    "results1 = get_valid_pairs_masks(idx_quark, idx_jets)"
   ]
  },
  {
   "cell_type": "code",
   "execution_count": 174,
   "id": "b5238589-00e7-4589-baeb-18ef598af004",
   "metadata": {},
   "outputs": [
    {
     "name": "stdout",
     "output_type": "stream",
     "text": [
      "CPU times: user 1.17 s, sys: 3.91 ms, total: 1.17 s\n",
      "Wall time: 1.17 s\n"
     ]
    }
   ],
   "source": [
    "%%time\n",
    "results2 = get_valid_pairs_nonumba(idx_quark, idx_jets, ak.ArrayBuilder())"
   ]
  },
  {
   "cell_type": "code",
   "execution_count": 177,
   "id": "569cc605-1cdb-4ce8-8dfc-03a532c1f112",
   "metadata": {},
   "outputs": [
    {
     "name": "stdout",
     "output_type": "stream",
     "text": [
      "CPU times: user 43.2 ms, sys: 62 µs, total: 43.3 ms\n",
      "Wall time: 42.5 ms\n"
     ]
    }
   ],
   "source": [
    "%%time\n",
    "results3 = get_valid_pairs_numba(idx_quark, idx_jets, ak.ArrayBuilder())"
   ]
  },
  {
   "cell_type": "code",
   "execution_count": 159,
   "id": "848e765d-e2ac-4016-877c-5457ecc4e309",
   "metadata": {},
   "outputs": [],
   "source": [
    "qq, jj = results1\n",
    "for i, (r, q) in enumerate(zip(results2,  results3)):\n",
    "    for R,R2 in zip(r,q):\n",
    "        if R.quark !=R2.quark or R.jet != R2.jet:\n",
    "            print(i , \"Mismatch\")"
   ]
  },
  {
   "cell_type": "code",
   "execution_count": 181,
   "id": "3c9abd08-e0c9-42f1-8f54-ff5ad8595839",
   "metadata": {},
   "outputs": [
    {
     "name": "stdout",
     "output_type": "stream",
     "text": [
      "ev:2340, Nquark: 3, Njets: 3, match simple: [{quark: 0, jet: 1}, {quark: 1, jet: 0}, {quark: 3, jet: 4}], match complex: [0, 1, 2],[1, 0, 4]\n",
      "\t original sorted pairs: [(0, 1), (1, 0), (2, 1), (3, 4), (2, 4)]\n",
      "ev:2854, Nquark: 3, Njets: 3, match simple: [{quark: 0, jet: 0}, {quark: 1, jet: 2}, {quark: 2, jet: 6}], match complex: [0, 2, 1],[0, 6, 2]\n",
      "\t original sorted pairs: [(0, 0), (2, 0), (1, 2), (2, 6)]\n",
      "ev:4295, Nquark: 3, Njets: 3, match simple: [{quark: 0, jet: 1}, {quark: 2, jet: 5}, {quark: 3, jet: 4}], match complex: [0, 2, 1],[1, 5, 4]\n",
      "\t original sorted pairs: [(0, 1), (2, 5), (1, 5), (3, 4), (1, 4)]\n",
      "ev:4357, Nquark: 4, Njets: 4, match simple: [{quark: 1, jet: 0}, {quark: 2, jet: 7}, {quark: 3, jet: 6}, {quark: 0, jet: 11}], match complex: [1, 0, 2, 3],[0, 11, 7, 6]\n",
      "\t original sorted pairs: [(1, 0), (0, 0), (2, 7), (3, 6), (0, 11), (1, 16)]\n",
      "ev:5106, Nquark: 4, Njets: 4, match simple: [{quark: 0, jet: 1}, {quark: 2, jet: 0}, {quark: 3, jet: 2}, {quark: 1, jet: 5}], match complex: [0, 2, 1, 3],[1, 0, 5, 2]\n",
      "\t original sorted pairs: [(0, 1), (2, 0), (1, 0), (3, 2), (1, 5), (2, 5)]\n",
      "ev:5196, Nquark: 4, Njets: 4, match simple: [{quark: 1, jet: 2}, {quark: 0, jet: 0}, {quark: 2, jet: 1}, {quark: 3, jet: 7}], match complex: [1, 0, 3, 2],[2, 0, 7, 1]\n",
      "\t original sorted pairs: [(1, 2), (0, 0), (3, 0), (2, 1), (3, 7)]\n",
      "ev:6273, Nquark: 4, Njets: 4, match simple: [{quark: 2, jet: 4}, {quark: 3, jet: 0}, {quark: 4, jet: 8}, {quark: 1, jet: 14}], match complex: [2, 3, 1, 4],[4, 0, 14, 8]\n",
      "\t original sorted pairs: [(2, 4), (3, 0), (1, 0), (4, 8), (1, 14), (4, 1)]\n",
      "ev:6617, Nquark: 4, Njets: 4, match simple: [{quark: 2, jet: 7}, {quark: 1, jet: 4}, {quark: 0, jet: 0}, {quark: 3, jet: 10}], match complex: [2, 1, 3, 0],[7, 4, 10, 0]\n",
      "\t original sorted pairs: [(2, 7), (1, 4), (3, 7), (0, 0), (0, 6), (3, 10)]\n",
      "ev:9116, Nquark: 3, Njets: 3, match simple: [{quark: 0, jet: 7}, {quark: 2, jet: 12}, {quark: 1, jet: 2}], match complex: [0, 1, 2],[7, 2, 12]\n",
      "\t original sorted pairs: [(0, 7), (1, 7), (2, 12), (1, 2)]\n"
     ]
    }
   ],
   "source": [
    "qq, jj = results1\n",
    "for i, (r, q, j) in enumerate(zip(results2, qq, jj)):\n",
    "    mismatch = False\n",
    "    for R,Q,J in zip(r,q,j):\n",
    "        if R.quark !=Q or R.jet != J:\n",
    "            mismatch = True\n",
    "    if mismatch:\n",
    "        print(f\"ev:{i}, Nquark: {len(q)}, Njets: {len(j)}, match simple: {r}, match complex: {q},{j}\")\n",
    "        print(f\"\\t original sorted pairs: {pairs_sorted[i]}\")"
   ]
  },
  {
   "cell_type": "markdown",
   "id": "fc340697-22ae-4bd2-874c-1fde4d6ba453",
   "metadata": {},
   "source": [
    "### Check profiling"
   ]
  },
  {
   "cell_type": "code",
   "execution_count": 183,
   "id": "57de261b-0966-401a-befe-d375978450f1",
   "metadata": {},
   "outputs": [
    {
     "name": "stdout",
     "output_type": "stream",
     "text": [
      " \n",
      "*** Profile stats marshalled to file '/tmp/tmp1q8k9o1s'. \n",
      "Embedding SnakeViz in this document...\n"
     ]
    },
    {
     "data": {
      "text/html": [
       "\n",
       "<iframe id='snakeviz-8b819548-d76a-11ec-9e1b-a4bf0104df06' frameborder=0 seamless width='100%' height='1000'></iframe>\n",
       "<script>document.getElementById(\"snakeviz-8b819548-d76a-11ec-9e1b-a4bf0104df06\").setAttribute(\"src\", \"http://\" + document.location.hostname + \":8082/snakeviz/%2Ftmp%2Ftmp1q8k9o1s\")</script>\n"
      ],
      "text/plain": [
       "<IPython.core.display.HTML object>"
      ]
     },
     "metadata": {},
     "output_type": "display_data"
    }
   ],
   "source": [
    "%%snakeviz \n",
    "results1 = get_valid_pairs_masks(idx_quark, idx_jets)"
   ]
  },
  {
   "cell_type": "code",
   "execution_count": 182,
   "id": "027dac38-bdff-46ab-9c5c-762229e8ca77",
   "metadata": {},
   "outputs": [
    {
     "name": "stdout",
     "output_type": "stream",
     "text": [
      " \n",
      "*** Profile stats marshalled to file '/tmp/tmpif7oopc_'. \n",
      "Embedding SnakeViz in this document...\n"
     ]
    },
    {
     "data": {
      "text/html": [
       "\n",
       "<iframe id='snakeviz-7e85a0b3-d76a-11ec-8c81-a4bf0104df06' frameborder=0 seamless width='100%' height='1000'></iframe>\n",
       "<script>document.getElementById(\"snakeviz-7e85a0b3-d76a-11ec-8c81-a4bf0104df06\").setAttribute(\"src\", \"http://\" + document.location.hostname + \":8081/snakeviz/%2Ftmp%2Ftmpif7oopc_\")</script>\n"
      ],
      "text/plain": [
       "<IPython.core.display.HTML object>"
      ]
     },
     "metadata": {},
     "output_type": "display_data"
    }
   ],
   "source": [
    "%%snakeviz \n",
    "results3 = get_valid_pairs_numba(idx_quark, idx_jets, ak.ArrayBuilder())"
   ]
  },
  {
   "cell_type": "code",
   "execution_count": null,
   "id": "4b17fa66-7bcd-44b9-94c6-d0e7b3bae8cc",
   "metadata": {},
   "outputs": [],
   "source": []
  },
  {
   "cell_type": "code",
   "execution_count": null,
   "id": "9dc2d0ac-30c1-49dc-8f7d-dff290c80cba",
   "metadata": {},
   "outputs": [],
   "source": []
  },
  {
   "cell_type": "code",
   "execution_count": 16,
   "id": "7b3a934a",
   "metadata": {},
   "outputs": [],
   "source": [
    "    \n",
    "dr_matchedJet = deltaR[idx_pairs_sorted][~ak.is_none(idx_matchedPair, axis=1)]\n",
    "#print(\"idx_matchedPair\", idx_matchedPair)\n",
    "idx_matchedPair = idx_matchedPair[~ak.is_none(idx_matchedPair, axis=1)]\n",
    "matchedJet    = evprint.Jet[idx_matchedJet]\n",
    "matchedParton = bquarks[idx_matchedParton]\n",
    "#print(\"matchedJet\", matchedJet)\n",
    "hasMatchedPartons = ak.count(idx_matchedParton, axis=1) == ak.count(bquarks.pt, axis=1)\n",
    "#print(hasMatchedPartons)\n",
    "#for cut in self._selections.keys():\n",
    "#    print(events.metadata[\"dataset\"], cut, \"matched partons =\", round(100*ak.sum(hasMatchedPartons[self._cuts.all(*self._selections[cut])])/ak.size(hasMatchedPartons[self._cuts.all(*self._selections[cut])]), 2), \"%\")\n",
    "events[\"BQuark\"] = bquarks\n",
    "events[\"JetMatched\"] = matchedJet\n",
    "events[\"BQuarkMatched\"] = matchedParton\n",
    "events[\"BQuarkMatched\"] = ak.with_field(events.BQuarkMatched, dr_matchedJet, \"drMatchedJet\")\n",
    "#print(\"deltaR\", deltaR)\n",
    "return bquarks, idx_matchedJet, idx_matchedParton, idx_matchedPair, dr_matchedJet"
   ]
  },
  {
   "cell_type": "code",
   "execution_count": null,
   "id": "34e1dd23",
   "metadata": {},
   "outputs": [],
   "source": []
  }
 ],
 "metadata": {
  "kernelspec": {
   "display_name": "Python 3 (ipykernel)",
   "language": "python",
   "name": "python3"
  },
  "language_info": {
   "codemirror_mode": {
    "name": "ipython",
    "version": 3
   },
   "file_extension": ".py",
   "mimetype": "text/x-python",
   "name": "python",
   "nbconvert_exporter": "python",
   "pygments_lexer": "ipython3",
   "version": "3.9.7"
  }
 },
 "nbformat": 4,
 "nbformat_minor": 5
}
