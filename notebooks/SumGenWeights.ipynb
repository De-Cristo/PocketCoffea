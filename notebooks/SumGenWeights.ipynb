{
 "cells": [
  {
   "cell_type": "code",
   "execution_count": 1,
   "id": "513d0cb3-9c99-4d38-a136-a0f7b88fcb67",
   "metadata": {
    "tags": []
   },
   "outputs": [],
   "source": [
    "from coffea.util import load\n",
    "import numpy as np\n",
    "from hist import Hist"
   ]
  },
  {
   "cell_type": "code",
   "execution_count": 15,
   "id": "9689c0c3-d7b4-4b9c-a3a0-ce63bca37f90",
   "metadata": {
    "tags": []
   },
   "outputs": [
    {
     "name": "stdout",
     "output_type": "stream",
     "text": [
      "config.json  configurator.pkl  output_all.coffea  parameters_dump.yaml\n"
     ]
    }
   ],
   "source": [
    "!ls /work/dvalsecc/ttHbb/AnalysisConfigs/configs/tests/output_tests_subsamples_v9/"
   ]
  },
  {
   "cell_type": "code",
   "execution_count": 20,
   "id": "885e7e79-c101-4f7a-bd24-3c8e103ed1f5",
   "metadata": {
    "tags": []
   },
   "outputs": [],
   "source": [
    "from omegaconf import OmegaConf\n",
    "\n",
    "params = OmegaConf.load(\"/work/dvalsecc/ttHbb/AnalysisConfigs/configs/tests/output_tests_subsamples_v9/parameters_dump.yaml\")"
   ]
  },
  {
   "cell_type": "code",
   "execution_count": 18,
   "id": "cab4cd80-f7cf-4390-947f-b1abe8ddbb58",
   "metadata": {
    "tags": []
   },
   "outputs": [
    {
     "data": {
      "text/plain": [
       "{'picobarns': {'2016_PreVFP': {'B': 5829.427727, 'C': 2601.678092, 'D': 4286.031797, 'E': 4065.974751, 'F': 2865.073752, 'tot': 19648.186119}, '2016_PostVFP': {'F': 584.321253, 'G': 7653.261227, 'H': 8740.119304, 'tot': 16977.701784}, '2017': {'B': 4803.371586, 'C': 9574.029838, 'D': 4247.792714, 'E': 9314.581016, 'F': 13539.905374, 'tot': 41479.680528}, '2018': {'A': 14027.614284, 'B': 7066.552169, 'C': 6898.816878, 'D': 31839.492009, 'tot': 59832.47534}}, 'goldenJSON': {'2016_PreVFP': '${default_params_dir:}/datacert/Cert_271036-284044_13TeV_Legacy2016_Collisions16_JSON.txt', '2016_PostVFP': '${default_params_dir:}/datacert/Cert_271036-284044_13TeV_Legacy2016_Collisions16_JSON.txt', '2017': '${default_params_dir:}/datacert/Cert_294927-306462_13TeV_UL2017_Collisions17_GoldenJSON.txt', '2018': '${default_params_dir:}/datacert/Cert_314472-325175_13TeV_Legacy2018_Collisions18_JSON.txt'}}"
      ]
     },
     "execution_count": 18,
     "metadata": {},
     "output_type": "execute_result"
    }
   ],
   "source": [
    "params.lumi"
   ]
  },
  {
   "cell_type": "code",
   "execution_count": 29,
   "id": "74051f9b-a689-4d4a-9dad-015c2bdec9e1",
   "metadata": {
    "tags": []
   },
   "outputs": [],
   "source": [
    "df = load(\"/work/dvalsecc/ttHbb/AnalysisConfigs/configs/tests/output_tests_subsamples_v22/output_all.coffea\")"
   ]
  },
  {
   "cell_type": "code",
   "execution_count": 30,
   "id": "92556965-6134-4564-b7e1-e700e51e0119",
   "metadata": {
    "tags": []
   },
   "outputs": [
    {
     "data": {
      "text/plain": [
       "{'initial': {'DATA_SingleEle_2018_EraB': 199804,\n",
       "  'DATA_SingleEle_2018_EraC': 193733,\n",
       "  'DATA_SingleEle_2018_EraA': 205913,\n",
       "  'DATA_SingleEle_2017_EraF': 205079,\n",
       "  'DATA_SingleEle_2017_EraE': 203451,\n",
       "  'DATA_SingleEle_2018_EraD': 203916,\n",
       "  'DATA_SingleEle_2017_EraC': 199489,\n",
       "  'DATA_SingleEle_2017_EraD': 215631,\n",
       "  'TTToSemiLeptonic_2018': 188572,\n",
       "  'DATA_SingleEle_2017_EraB': 215573,\n",
       "  'TTToSemiLeptonic_2017': 187667},\n",
       " 'skim': {'DATA_SingleEle_2018_EraB': 63553,\n",
       "  'DATA_SingleEle_2018_EraC': 42320,\n",
       "  'DATA_SingleEle_2018_EraA': 117727,\n",
       "  'DATA_SingleEle_2017_EraF': 59645,\n",
       "  'DATA_SingleEle_2017_EraE': 98411,\n",
       "  'DATA_SingleEle_2018_EraD': 71564,\n",
       "  'DATA_SingleEle_2017_EraC': 46258,\n",
       "  'DATA_SingleEle_2017_EraD': 90895,\n",
       "  'TTToSemiLeptonic_2018': 72003,\n",
       "  'DATA_SingleEle_2017_EraB': 71388,\n",
       "  'TTToSemiLeptonic_2017': 68656},\n",
       " 'presel': {'DATA_SingleEle_2018_EraB': 359,\n",
       "  'DATA_SingleEle_2018_EraC': 347,\n",
       "  'DATA_SingleEle_2018_EraA': 245,\n",
       "  'DATA_SingleEle_2017_EraF': 426,\n",
       "  'DATA_SingleEle_2017_EraE': 668,\n",
       "  'DATA_SingleEle_2018_EraD': 354,\n",
       "  'DATA_SingleEle_2017_EraC': 509,\n",
       "  'DATA_SingleEle_2017_EraD': 596,\n",
       "  'TTToSemiLeptonic_2018': 25395,\n",
       "  'DATA_SingleEle_2017_EraB': 544,\n",
       "  'TTToSemiLeptonic_2017': 23980},\n",
       " 'baseline': {'DATA_SingleEle_2018_EraB': {'DATA_SingleEle': 359},\n",
       "  'DATA_SingleEle_2018_EraC': {'DATA_SingleEle': 347},\n",
       "  'DATA_SingleEle_2018_EraA': {'DATA_SingleEle': 245},\n",
       "  'DATA_SingleEle_2017_EraF': {'DATA_SingleEle': 426},\n",
       "  'DATA_SingleEle_2017_EraE': {'DATA_SingleEle': 668},\n",
       "  'DATA_SingleEle_2018_EraD': {'DATA_SingleEle': 354},\n",
       "  'DATA_SingleEle_2017_EraC': {'DATA_SingleEle': 509},\n",
       "  'DATA_SingleEle_2017_EraD': {'DATA_SingleEle': 596},\n",
       "  'TTToSemiLeptonic_2018': {'TTToSemiLeptonic': 25395,\n",
       "   'TTToSemiLeptonic__=1b': 7698,\n",
       "   'TTToSemiLeptonic__=2b': 13372,\n",
       "   'TTToSemiLeptonic__>2b': 3183},\n",
       "  'DATA_SingleEle_2017_EraB': {'DATA_SingleEle': 544},\n",
       "  'TTToSemiLeptonic_2017': {'TTToSemiLeptonic': 23980,\n",
       "   'TTToSemiLeptonic__=1b': 7446,\n",
       "   'TTToSemiLeptonic__=2b': 12546,\n",
       "   'TTToSemiLeptonic__>2b': 2875}},\n",
       " '1b': {'DATA_SingleEle_2018_EraB': {'DATA_SingleEle': 117},\n",
       "  'DATA_SingleEle_2018_EraC': {'DATA_SingleEle': 120},\n",
       "  'DATA_SingleEle_2018_EraA': {'DATA_SingleEle': 70},\n",
       "  'DATA_SingleEle_2017_EraF': {'DATA_SingleEle': 140},\n",
       "  'DATA_SingleEle_2017_EraE': {'DATA_SingleEle': 222},\n",
       "  'DATA_SingleEle_2018_EraD': {'DATA_SingleEle': 120},\n",
       "  'DATA_SingleEle_2017_EraC': {'DATA_SingleEle': 163},\n",
       "  'DATA_SingleEle_2017_EraD': {'DATA_SingleEle': 204},\n",
       "  'TTToSemiLeptonic_2018': {'TTToSemiLeptonic': 9639,\n",
       "   'TTToSemiLeptonic__=1b': 7062,\n",
       "   'TTToSemiLeptonic__=2b': 2379,\n",
       "   'TTToSemiLeptonic__>2b': 198},\n",
       "  'DATA_SingleEle_2017_EraB': {'DATA_SingleEle': 151},\n",
       "  'TTToSemiLeptonic_2017': {'TTToSemiLeptonic': 9190,\n",
       "   'TTToSemiLeptonic__=1b': 6827,\n",
       "   'TTToSemiLeptonic__=2b': 2167,\n",
       "   'TTToSemiLeptonic__>2b': 196}},\n",
       " '2b': {'DATA_SingleEle_2018_EraB': {'DATA_SingleEle': 97},\n",
       "  'DATA_SingleEle_2018_EraC': {'DATA_SingleEle': 92},\n",
       "  'DATA_SingleEle_2018_EraA': {'DATA_SingleEle': 59},\n",
       "  'DATA_SingleEle_2017_EraF': {'DATA_SingleEle': 114},\n",
       "  'DATA_SingleEle_2017_EraE': {'DATA_SingleEle': 176},\n",
       "  'DATA_SingleEle_2018_EraD': {'DATA_SingleEle': 88},\n",
       "  'DATA_SingleEle_2017_EraC': {'DATA_SingleEle': 154},\n",
       "  'DATA_SingleEle_2017_EraD': {'DATA_SingleEle': 163},\n",
       "  'TTToSemiLeptonic_2018': {'TTToSemiLeptonic': 12314,\n",
       "   'TTToSemiLeptonic__=1b': 0,\n",
       "   'TTToSemiLeptonic__=2b': 10885,\n",
       "   'TTToSemiLeptonic__>2b': 1429},\n",
       "  'DATA_SingleEle_2017_EraB': {'DATA_SingleEle': 165},\n",
       "  'TTToSemiLeptonic_2017': {'TTToSemiLeptonic': 11506,\n",
       "   'TTToSemiLeptonic__=1b': 0,\n",
       "   'TTToSemiLeptonic__=2b': 10255,\n",
       "   'TTToSemiLeptonic__>2b': 1251}},\n",
       " '3b': {'DATA_SingleEle_2018_EraB': {'DATA_SingleEle': 16},\n",
       "  'DATA_SingleEle_2018_EraC': {'DATA_SingleEle': 9},\n",
       "  'DATA_SingleEle_2018_EraA': {'DATA_SingleEle': 5},\n",
       "  'DATA_SingleEle_2017_EraF': {'DATA_SingleEle': 14},\n",
       "  'DATA_SingleEle_2017_EraE': {'DATA_SingleEle': 18},\n",
       "  'DATA_SingleEle_2018_EraD': {'DATA_SingleEle': 12},\n",
       "  'DATA_SingleEle_2017_EraC': {'DATA_SingleEle': 14},\n",
       "  'DATA_SingleEle_2017_EraD': {'DATA_SingleEle': 26},\n",
       "  'TTToSemiLeptonic_2018': {'TTToSemiLeptonic': 1467,\n",
       "   'TTToSemiLeptonic__=1b': 0,\n",
       "   'TTToSemiLeptonic__=2b': 0,\n",
       "   'TTToSemiLeptonic__>2b': 1467},\n",
       "  'DATA_SingleEle_2017_EraB': {'DATA_SingleEle': 12},\n",
       "  'TTToSemiLeptonic_2017': {'TTToSemiLeptonic': 1342,\n",
       "   'TTToSemiLeptonic__=1b': 0,\n",
       "   'TTToSemiLeptonic__=2b': 0,\n",
       "   'TTToSemiLeptonic__>2b': 1342}},\n",
       " '4b': {'DATA_SingleEle_2018_EraB': {'DATA_SingleEle': 0},\n",
       "  'DATA_SingleEle_2018_EraC': {'DATA_SingleEle': 0},\n",
       "  'DATA_SingleEle_2018_EraA': {'DATA_SingleEle': 1},\n",
       "  'DATA_SingleEle_2017_EraF': {'DATA_SingleEle': 2},\n",
       "  'DATA_SingleEle_2017_EraE': {'DATA_SingleEle': 2},\n",
       "  'DATA_SingleEle_2018_EraD': {'DATA_SingleEle': 0},\n",
       "  'DATA_SingleEle_2017_EraC': {'DATA_SingleEle': 1},\n",
       "  'DATA_SingleEle_2017_EraD': {'DATA_SingleEle': 4},\n",
       "  'TTToSemiLeptonic_2018': {'TTToSemiLeptonic': 75,\n",
       "   'TTToSemiLeptonic__=1b': 0,\n",
       "   'TTToSemiLeptonic__=2b': 0,\n",
       "   'TTToSemiLeptonic__>2b': 75},\n",
       "  'DATA_SingleEle_2017_EraB': {'DATA_SingleEle': 2},\n",
       "  'TTToSemiLeptonic_2017': {'TTToSemiLeptonic': 75,\n",
       "   'TTToSemiLeptonic__=1b': 0,\n",
       "   'TTToSemiLeptonic__=2b': 0,\n",
       "   'TTToSemiLeptonic__>2b': 75}}}"
      ]
     },
     "execution_count": 30,
     "metadata": {},
     "output_type": "execute_result"
    }
   ],
   "source": [
    "df[\"cutflow\"]"
   ]
  },
  {
   "cell_type": "code",
   "execution_count": 25,
   "id": "0438f16a-2333-4945-8353-37ef457fb745",
   "metadata": {
    "tags": []
   },
   "outputs": [
    {
     "data": {
      "text/plain": [
       "column_accumulator(array([1, 1, 1, ..., 1, 1, 1]))"
      ]
     },
     "execution_count": 25,
     "metadata": {},
     "output_type": "execute_result"
    }
   ],
   "source": [
    "df[\"columns\"][\"TTToSemiLeptonic__=1b\"][\"TTToSemiLeptonic_2017\"][\"baseline\"][\"LeptonGood_N\"]"
   ]
  },
  {
   "cell_type": "code",
   "execution_count": 26,
   "id": "f05868b1-1fba-48ab-8a97-0aba2bb5485f",
   "metadata": {
    "tags": []
   },
   "outputs": [
    {
     "data": {
      "text/plain": [
       "dict_keys(['DATA_SingleEle', 'TTToSemiLeptonic__=1b', 'TTToSemiLeptonic__=2b', 'TTToSemiLeptonic__>2b'])"
      ]
     },
     "execution_count": 26,
     "metadata": {},
     "output_type": "execute_result"
    }
   ],
   "source": [
    "df[\"variables\"][\"JetGood_eta_1\"].keys()"
   ]
  },
  {
   "cell_type": "code",
   "execution_count": 27,
   "id": "e371dc6c-4a05-4250-8391-5286afde604c",
   "metadata": {
    "tags": []
   },
   "outputs": [
    {
     "data": {
      "text/plain": [
       "{'TTToSemiLeptonic_2017': Hist(\n",
       "   StrCategory(['1b', '2b', '3b', '4b', 'baseline'], name='cat', label='Category'),\n",
       "   StrCategory(['nominal', 'pileupDown', 'pileupUp', 'sf_btagDown', 'sf_btagUp', 'sf_ele_idDown', 'sf_ele_idUp', 'sf_ele_recoDown', 'sf_ele_recoUp', 'sf_jet_puIdDown', 'sf_jet_puIdUp', 'sf_mu_idDown', 'sf_mu_idUp', 'sf_mu_isoDown', 'sf_mu_isoUp'], name='variation', label='Variation'),\n",
       "   Regular(50, -2.5, 2.5, name='JetGood.eta', label='$\\\\eta_{j}$'),\n",
       "   storage=Weight()) # Sum: WeightedSum(value=1.2197e+16, variance=9.67186e+26),\n",
       " 'TTToSemiLeptonic_2018': Hist(\n",
       "   StrCategory(['1b', '2b', '3b', '4b', 'baseline'], name='cat', label='Category'),\n",
       "   StrCategory(['nominal', 'pileupDown', 'pileupUp', 'sf_btagDown', 'sf_btagUp', 'sf_ele_idDown', 'sf_ele_idUp', 'sf_ele_recoDown', 'sf_ele_recoUp', 'sf_jet_puIdDown', 'sf_jet_puIdUp', 'sf_mu_idDown', 'sf_mu_idUp', 'sf_mu_isoDown', 'sf_mu_isoUp'], name='variation', label='Variation'),\n",
       "   Regular(50, -2.5, 2.5, name='JetGood.eta', label='$\\\\eta_{j}$'),\n",
       "   storage=Weight()) # Sum: WeightedSum(value=1.57293e+16, variance=1.25345e+26)}"
      ]
     },
     "execution_count": 27,
     "metadata": {},
     "output_type": "execute_result"
    }
   ],
   "source": [
    "df[\"variables\"][\"JetGood_eta_1\"][\"TTToSemiLeptonic__=1b\"]"
   ]
  },
  {
   "cell_type": "code",
   "execution_count": 31,
   "id": "8a526dda-cbf5-4072-9a4b-b65430e0f164",
   "metadata": {
    "tags": []
   },
   "outputs": [
    {
     "data": {
      "text/plain": [
       "{'by_datataking_period': {'2018': defaultdict(set,\n",
       "              {'TTToSemiLeptonic__=1b': {'TTToSemiLeptonic_2018'},\n",
       "               'TTToSemiLeptonic__=2b': {'TTToSemiLeptonic_2018'},\n",
       "               'TTToSemiLeptonic__>2b': {'TTToSemiLeptonic_2018'},\n",
       "               'DATA_SingleEle': {'DATA_SingleEle_2018_EraA',\n",
       "                'DATA_SingleEle_2018_EraB',\n",
       "                'DATA_SingleEle_2018_EraC',\n",
       "                'DATA_SingleEle_2018_EraD'}}),\n",
       "  '2017': defaultdict(set,\n",
       "              {'TTToSemiLeptonic__=1b': {'TTToSemiLeptonic_2017'},\n",
       "               'TTToSemiLeptonic__=2b': {'TTToSemiLeptonic_2017'},\n",
       "               'TTToSemiLeptonic__>2b': {'TTToSemiLeptonic_2017'},\n",
       "               'DATA_SingleEle': {'DATA_SingleEle_2017_EraB',\n",
       "                'DATA_SingleEle_2017_EraC',\n",
       "                'DATA_SingleEle_2017_EraD',\n",
       "                'DATA_SingleEle_2017_EraE',\n",
       "                'DATA_SingleEle_2017_EraF'}})},\n",
       " 'by_dataset': defaultdict(dict,\n",
       "             {'TTToSemiLeptonic_2018': {'das_names': \"['/TTToSemiLeptonic_TuneCP5_13TeV-powheg-pythia8/RunIISummer20UL18NanoAODv9-106X_upgrade2018_realistic_v16_L1v1-v1/NANOAODSIM']\",\n",
       "               'sample': 'TTToSemiLeptonic',\n",
       "               'year': '2018',\n",
       "               'isMC': 'True',\n",
       "               'xsec': '365.4574',\n",
       "               'sum_genweights': '143354134528.0',\n",
       "               'nevents': '476408000',\n",
       "               'size': '1030792999916'},\n",
       "              'TTToSemiLeptonic_2017': {'das_names': \"['/TTToSemiLeptonic_TuneCP5_13TeV-powheg-pythia8/RunIISummer20UL17NanoAODv9-106X_mc2017_realistic_v9-v1/NANOAODSIM']\",\n",
       "               'sample': 'TTToSemiLeptonic',\n",
       "               'year': '2017',\n",
       "               'isMC': 'True',\n",
       "               'xsec': '365.4574',\n",
       "               'sum_genweights': '104129945600.0',\n",
       "               'nevents': '346052000',\n",
       "               'size': '766341543050'},\n",
       "              'DATA_SingleEle_2017_EraB': {'das_names': \"['/SingleElectron/Run2017B-UL2017_MiniAODv2_NanoAODv9-v1/NANOAOD']\",\n",
       "               'sample': 'DATA_SingleEle',\n",
       "               'year': '2017',\n",
       "               'isMC': 'False',\n",
       "               'primaryDataset': 'SingleEle',\n",
       "               'era': 'B',\n",
       "               'nevents': '60537490',\n",
       "               'size': '50665471331'},\n",
       "              'DATA_SingleEle_2017_EraC': {'das_names': \"['/SingleElectron/Run2017C-UL2017_MiniAODv2_NanoAODv9-v1/NANOAOD']\",\n",
       "               'sample': 'DATA_SingleEle',\n",
       "               'year': '2017',\n",
       "               'isMC': 'False',\n",
       "               'primaryDataset': 'SingleEle',\n",
       "               'era': 'C',\n",
       "               'nevents': '136637888',\n",
       "               'size': '125570572044'},\n",
       "              'DATA_SingleEle_2017_EraD': {'das_names': \"['/SingleElectron/Run2017D-UL2017_MiniAODv2_NanoAODv9-v1/NANOAOD']\",\n",
       "               'sample': 'DATA_SingleEle',\n",
       "               'year': '2017',\n",
       "               'isMC': 'False',\n",
       "               'primaryDataset': 'SingleEle',\n",
       "               'era': 'D',\n",
       "               'nevents': '51512837',\n",
       "               'size': '46949267957'},\n",
       "              'DATA_SingleEle_2017_EraE': {'das_names': \"['/SingleElectron/Run2017E-UL2017_MiniAODv2_NanoAODv9-v1/NANOAOD']\",\n",
       "               'sample': 'DATA_SingleEle',\n",
       "               'year': '2017',\n",
       "               'isMC': 'False',\n",
       "               'primaryDataset': 'SingleEle',\n",
       "               'era': 'E',\n",
       "               'nevents': '102122055',\n",
       "               'size': '99332292491'},\n",
       "              'DATA_SingleEle_2017_EraF': {'das_names': \"['/SingleElectron/Run2017F-UL2017_MiniAODv2_NanoAODv9-v1/NANOAOD']\",\n",
       "               'sample': 'DATA_SingleEle',\n",
       "               'year': '2017',\n",
       "               'isMC': 'False',\n",
       "               'primaryDataset': 'SingleEle',\n",
       "               'era': 'F',\n",
       "               'nevents': '128467223',\n",
       "               'size': '130657559805'},\n",
       "              'DATA_SingleEle_2018_EraA': {'das_names': \"['/EGamma/Run2018A-UL2018_MiniAODv2_NanoAODv9_GT36-v1/NANOAOD']\",\n",
       "               'sample': 'DATA_SingleEle',\n",
       "               'year': '2018',\n",
       "               'isMC': 'False',\n",
       "               'primaryDataset': 'SingleEle',\n",
       "               'era': 'A',\n",
       "               'nevents': '339013231',\n",
       "               'size': '339780300517'},\n",
       "              'DATA_SingleEle_2018_EraB': {'das_names': \"['/EGamma/Run2018B-UL2018_MiniAODv2_NanoAODv9_GT36-v1/NANOAOD']\",\n",
       "               'sample': 'DATA_SingleEle',\n",
       "               'year': '2018',\n",
       "               'isMC': 'False',\n",
       "               'primaryDataset': 'SingleEle',\n",
       "               'era': 'B',\n",
       "               'nevents': '153822427',\n",
       "               'size': '155202044014'},\n",
       "              'DATA_SingleEle_2018_EraC': {'das_names': \"['/EGamma/Run2018C-UL2018_MiniAODv2_NanoAODv9_GT36-v1/NANOAOD']\",\n",
       "               'sample': 'DATA_SingleEle',\n",
       "               'year': '2018',\n",
       "               'isMC': 'False',\n",
       "               'primaryDataset': 'SingleEle',\n",
       "               'era': 'C',\n",
       "               'nevents': '147827904',\n",
       "               'size': '154649947829'},\n",
       "              'DATA_SingleEle_2018_EraD': {'das_names': \"['/EGamma/Run2018D-UL2018_MiniAODv2_NanoAODv9-v3/NANOAOD']\",\n",
       "               'sample': 'DATA_SingleEle',\n",
       "               'year': '2018',\n",
       "               'isMC': 'False',\n",
       "               'primaryDataset': 'SingleEle',\n",
       "               'era': 'D',\n",
       "               'nevents': '752524583',\n",
       "               'size': '775548762947'}})}"
      ]
     },
     "execution_count": 31,
     "metadata": {},
     "output_type": "execute_result"
    }
   ],
   "source": [
    "df[\"datasets_metadata\"]"
   ]
  },
  {
   "cell_type": "code",
   "execution_count": 12,
   "id": "fb6c9248-68e2-48c0-9659-050eb0f54c6f",
   "metadata": {
    "tags": []
   },
   "outputs": [],
   "source": [
    "from pocket_coffea.utils import plot_utils\n",
    "from pocket_coffea.parameters.plotting import style_cfg"
   ]
  },
  {
   "cell_type": "code",
   "execution_count": 13,
   "id": "a43dc3be-6f0d-4e19-813b-adbd46d4086b",
   "metadata": {
    "tags": []
   },
   "outputs": [],
   "source": [
    "from importlib import reload"
   ]
  },
  {
   "cell_type": "code",
   "execution_count": 59,
   "id": "9347a603-4a05-43d0-bfe9-9991fff728d3",
   "metadata": {
    "tags": []
   },
   "outputs": [],
   "source": [
    "reload(plot_utils)\n",
    "PlotManager = plot_utils.PlotManager"
   ]
  },
  {
   "cell_type": "code",
   "execution_count": 60,
   "id": "ad51d8f2-6b10-437f-babe-79feeadc1456",
   "metadata": {
    "tags": []
   },
   "outputs": [
    {
     "ename": "AttributeError",
     "evalue": "'dict' object has no attribute 'axes'",
     "output_type": "error",
     "traceback": [
      "\u001b[0;31m---------------------------------------------------------------------------\u001b[0m",
      "\u001b[0;31mAttributeError\u001b[0m                            Traceback (most recent call last)",
      "Cell \u001b[0;32mIn[60], line 1\u001b[0m\n\u001b[0;32m----> 1\u001b[0m plotter \u001b[38;5;241m=\u001b[39m \u001b[43mPlotManager\u001b[49m\u001b[43m(\u001b[49m\n\u001b[1;32m      2\u001b[0m \u001b[43m        \u001b[49m\u001b[43mvariables\u001b[49m\u001b[38;5;241;43m=\u001b[39;49m\u001b[43mdf\u001b[49m\u001b[43m[\u001b[49m\u001b[38;5;124;43m\"\u001b[39;49m\u001b[38;5;124;43mvariables\u001b[39;49m\u001b[38;5;124;43m\"\u001b[39;49m\u001b[43m]\u001b[49m\u001b[38;5;241;43m.\u001b[39;49m\u001b[43mkeys\u001b[49m\u001b[43m(\u001b[49m\u001b[43m)\u001b[49m\u001b[43m,\u001b[49m\n\u001b[1;32m      3\u001b[0m \u001b[43m        \u001b[49m\u001b[43mhist_objs\u001b[49m\u001b[38;5;241;43m=\u001b[39;49m\u001b[43mdf\u001b[49m\u001b[43m[\u001b[49m\u001b[38;5;124;43m'\u001b[39;49m\u001b[38;5;124;43mvariables\u001b[39;49m\u001b[38;5;124;43m'\u001b[39;49m\u001b[43m]\u001b[49m\u001b[43m,\u001b[49m\n\u001b[1;32m      4\u001b[0m \u001b[43m        \u001b[49m\u001b[43mdatasets_metadata\u001b[49m\u001b[38;5;241;43m=\u001b[39;49m\u001b[43mdf\u001b[49m\u001b[43m[\u001b[49m\u001b[38;5;124;43m\"\u001b[39;49m\u001b[38;5;124;43mdatasets_metadata\u001b[39;49m\u001b[38;5;124;43m\"\u001b[39;49m\u001b[43m]\u001b[49m\u001b[43m[\u001b[49m\u001b[38;5;124;43m\"\u001b[39;49m\u001b[38;5;124;43mby_datataking_period\u001b[39;49m\u001b[38;5;124;43m\"\u001b[39;49m\u001b[43m]\u001b[49m\u001b[43m,\u001b[49m\n\u001b[1;32m      5\u001b[0m \u001b[43m        \u001b[49m\u001b[43mplot_dir\u001b[49m\u001b[38;5;241;43m=\u001b[39;49m\u001b[38;5;124;43m\"\u001b[39;49m\u001b[38;5;124;43mtest_plots\u001b[39;49m\u001b[38;5;124;43m\"\u001b[39;49m\u001b[43m,\u001b[49m\n\u001b[1;32m      6\u001b[0m \u001b[43m        \u001b[49m\u001b[43mstyle_cfg\u001b[49m\u001b[38;5;241;43m=\u001b[39;49m\u001b[43mstyle_cfg\u001b[49m\u001b[43m,\u001b[49m\n\u001b[1;32m      7\u001b[0m \u001b[43m        \u001b[49m\u001b[43monly_cat\u001b[49m\u001b[38;5;241;43m=\u001b[39;49m\u001b[43m[\u001b[49m\u001b[43m]\u001b[49m\u001b[43m,\u001b[49m\n\u001b[1;32m      8\u001b[0m \u001b[43m        \u001b[49m\u001b[43mdata_key\u001b[49m\u001b[38;5;241;43m=\u001b[39;49m\u001b[43m[\u001b[49m\u001b[43m]\u001b[49m\u001b[43m,\u001b[49m\n\u001b[1;32m      9\u001b[0m \u001b[43m        \u001b[49m\u001b[43mlog\u001b[49m\u001b[38;5;241;43m=\u001b[39;49m\u001b[38;5;28;43;01mFalse\u001b[39;49;00m\u001b[43m,\u001b[49m\n\u001b[1;32m     10\u001b[0m \u001b[43m        \u001b[49m\u001b[43mdensity\u001b[49m\u001b[38;5;241;43m=\u001b[39;49m\u001b[38;5;28;43;01mFalse\u001b[39;49;00m\u001b[43m,\u001b[49m\n\u001b[1;32m     11\u001b[0m \u001b[43m        \u001b[49m\u001b[43msave\u001b[49m\u001b[38;5;241;43m=\u001b[39;49m\u001b[38;5;28;43;01mTrue\u001b[39;49;00m\n\u001b[1;32m     12\u001b[0m \u001b[43m    \u001b[49m\u001b[43m)\u001b[49m\n",
      "File \u001b[0;32m/work/dvalsecc/ttHbb/PocketCoffea/pocket_coffea/utils/plot_utils.py:93\u001b[0m, in \u001b[0;36mPlotManager.__init__\u001b[0;34m(self, variables, hist_objs, datasets_metadata, plot_dir, only_cat, style_cfg, data_key, log, density, save)\u001b[0m\n\u001b[1;32m     91\u001b[0m \u001b[38;5;28;01mfor\u001b[39;00m variable, hstoplot \u001b[38;5;129;01min\u001b[39;00m \u001b[38;5;28mself\u001b[39m\u001b[38;5;241m.\u001b[39mhists_to_plot\u001b[38;5;241m.\u001b[39mitems():\n\u001b[1;32m     92\u001b[0m     \u001b[38;5;28;01mfor\u001b[39;00m year, h_dict \u001b[38;5;129;01min\u001b[39;00m hstoplot\u001b[38;5;241m.\u001b[39mitems():\n\u001b[0;32m---> 93\u001b[0m         \u001b[38;5;28mself\u001b[39m\u001b[38;5;241m.\u001b[39mshape_objects[name] \u001b[38;5;241m=\u001b[39m \u001b[43mShape\u001b[49m\u001b[43m(\u001b[49m\n\u001b[1;32m     94\u001b[0m \u001b[43m            \u001b[49m\u001b[43mh_dict\u001b[49m\u001b[43m,\u001b[49m\n\u001b[1;32m     95\u001b[0m \u001b[43m            \u001b[49m\u001b[43mvariable\u001b[49m\u001b[43m,\u001b[49m\n\u001b[1;32m     96\u001b[0m \u001b[43m            \u001b[49m\u001b[43mplot_dir\u001b[49m\u001b[43m,\u001b[49m\n\u001b[1;32m     97\u001b[0m \u001b[43m            \u001b[49m\u001b[43monly_cat\u001b[49m\u001b[38;5;241;43m=\u001b[39;49m\u001b[38;5;28;43mself\u001b[39;49m\u001b[38;5;241;43m.\u001b[39;49m\u001b[43monly_cat\u001b[49m\u001b[43m,\u001b[49m\n\u001b[1;32m     98\u001b[0m \u001b[43m            \u001b[49m\u001b[43mstyle_cfg\u001b[49m\u001b[38;5;241;43m=\u001b[39;49m\u001b[43mstyle_cfg\u001b[49m\u001b[43m,\u001b[49m\n\u001b[1;32m     99\u001b[0m \u001b[43m            \u001b[49m\u001b[43mdata_key\u001b[49m\u001b[38;5;241;43m=\u001b[39;49m\u001b[38;5;28;43mself\u001b[39;49m\u001b[38;5;241;43m.\u001b[39;49m\u001b[43mdata_key\u001b[49m\u001b[43m,\u001b[49m\n\u001b[1;32m    100\u001b[0m \u001b[43m            \u001b[49m\u001b[43mlog\u001b[49m\u001b[38;5;241;43m=\u001b[39;49m\u001b[38;5;28;43mself\u001b[39;49m\u001b[38;5;241;43m.\u001b[39;49m\u001b[43mlog\u001b[49m\u001b[43m,\u001b[49m\n\u001b[1;32m    101\u001b[0m \u001b[43m            \u001b[49m\u001b[43mdensity\u001b[49m\u001b[38;5;241;43m=\u001b[39;49m\u001b[38;5;28;43mself\u001b[39;49m\u001b[38;5;241;43m.\u001b[39;49m\u001b[43mdensity\u001b[49m\u001b[43m,\u001b[49m\n\u001b[1;32m    102\u001b[0m \u001b[43m        \u001b[49m\u001b[43m)\u001b[49m\n",
      "File \u001b[0;32m/work/dvalsecc/ttHbb/PocketCoffea/pocket_coffea/utils/plot_utils.py:148\u001b[0m, in \u001b[0;36mShape.__init__\u001b[0;34m(self, h_dict, name, plot_dir, only_cat, style_cfg, data_key, log, density)\u001b[0m\n\u001b[1;32m    143\u001b[0m \u001b[38;5;28;01massert\u001b[39;00m (\n\u001b[1;32m    144\u001b[0m     \u001b[38;5;28mtype\u001b[39m(h_dict) \u001b[38;5;241m==\u001b[39m \u001b[38;5;28mdict\u001b[39m\n\u001b[1;32m    145\u001b[0m ), \u001b[38;5;124m\"\u001b[39m\u001b[38;5;124mThe Shape object receives a dictionary of hist.Hist objects as argument.\u001b[39m\u001b[38;5;124m\"\u001b[39m\n\u001b[1;32m    146\u001b[0m \u001b[38;5;28mself\u001b[39m\u001b[38;5;241m.\u001b[39mgroup_samples()\n\u001b[1;32m    147\u001b[0m \u001b[38;5;28;01massert\u001b[39;00m (\n\u001b[0;32m--> 148\u001b[0m     \u001b[38;5;28;43mself\u001b[39;49m\u001b[38;5;241;43m.\u001b[39;49m\u001b[43mdense_dim\u001b[49m \u001b[38;5;241m==\u001b[39m \u001b[38;5;241m1\u001b[39m\n\u001b[1;32m    149\u001b[0m ), \u001b[38;5;124mf\u001b[39m\u001b[38;5;124m\"\u001b[39m\u001b[38;5;124mThe dimension of the histogram \u001b[39m\u001b[38;5;124m'\u001b[39m\u001b[38;5;132;01m{\u001b[39;00m\u001b[38;5;28mself\u001b[39m\u001b[38;5;241m.\u001b[39mname\u001b[38;5;132;01m}\u001b[39;00m\u001b[38;5;124m'\u001b[39m\u001b[38;5;124m is \u001b[39m\u001b[38;5;132;01m{\u001b[39;00m\u001b[38;5;28mself\u001b[39m\u001b[38;5;241m.\u001b[39mdense_dim\u001b[38;5;132;01m}\u001b[39;00m\u001b[38;5;124m. Only 1D histograms are supported.\u001b[39m\u001b[38;5;124m\"\u001b[39m\n\u001b[1;32m    150\u001b[0m \u001b[38;5;28mself\u001b[39m\u001b[38;5;241m.\u001b[39mload_attributes()\n",
      "File \u001b[0;32m/work/dvalsecc/ttHbb/PocketCoffea/pocket_coffea/utils/plot_utils.py:203\u001b[0m, in \u001b[0;36mShape.dense_dim\u001b[0;34m(self)\u001b[0m\n\u001b[1;32m    200\u001b[0m \u001b[38;5;129m@property\u001b[39m\n\u001b[1;32m    201\u001b[0m \u001b[38;5;28;01mdef\u001b[39;00m \u001b[38;5;21mdense_dim\u001b[39m(\u001b[38;5;28mself\u001b[39m):\n\u001b[1;32m    202\u001b[0m \u001b[38;5;250m    \u001b[39m\u001b[38;5;124;03m'''Returns the number of dense axes of a histogram.'''\u001b[39;00m\n\u001b[0;32m--> 203\u001b[0m     \u001b[38;5;28;01mreturn\u001b[39;00m \u001b[38;5;28mlen\u001b[39m(\u001b[38;5;28;43mself\u001b[39;49m\u001b[38;5;241;43m.\u001b[39;49m\u001b[43mdense_axes\u001b[49m)\n",
      "File \u001b[0;32m/work/dvalsecc/ttHbb/PocketCoffea/pocket_coffea/utils/plot_utils.py:158\u001b[0m, in \u001b[0;36mShape.dense_axes\u001b[0;34m(self)\u001b[0m\n\u001b[1;32m    155\u001b[0m dense_axes_dict \u001b[38;5;241m=\u001b[39m {s: [] \u001b[38;5;28;01mfor\u001b[39;00m s \u001b[38;5;129;01min\u001b[39;00m \u001b[38;5;28mself\u001b[39m\u001b[38;5;241m.\u001b[39mh_dict\u001b[38;5;241m.\u001b[39mkeys()}\n\u001b[1;32m    157\u001b[0m \u001b[38;5;28;01mfor\u001b[39;00m s, h \u001b[38;5;129;01min\u001b[39;00m \u001b[38;5;28mself\u001b[39m\u001b[38;5;241m.\u001b[39mh_dict\u001b[38;5;241m.\u001b[39mitems():\n\u001b[0;32m--> 158\u001b[0m     \u001b[38;5;28;01mfor\u001b[39;00m ax \u001b[38;5;129;01min\u001b[39;00m \u001b[43mh\u001b[49m\u001b[38;5;241;43m.\u001b[39;49m\u001b[43maxes\u001b[49m:\n\u001b[1;32m    159\u001b[0m         \u001b[38;5;28;01mif\u001b[39;00m \u001b[38;5;129;01mnot\u001b[39;00m \u001b[38;5;28mtype\u001b[39m(ax) \u001b[38;5;129;01min\u001b[39;00m [hist\u001b[38;5;241m.\u001b[39maxis\u001b[38;5;241m.\u001b[39mStrCategory, hist\u001b[38;5;241m.\u001b[39maxis\u001b[38;5;241m.\u001b[39mIntCategory]:\n\u001b[1;32m    160\u001b[0m             dense_axes_dict[s]\u001b[38;5;241m.\u001b[39mappend(ax)\n",
      "\u001b[0;31mAttributeError\u001b[0m: 'dict' object has no attribute 'axes'"
     ]
    }
   ],
   "source": [
    "plotter = PlotManager(\n",
    "        variables=df[\"variables\"].keys(),\n",
    "        hist_objs=df['variables'],\n",
    "        datasets_metadata=df[\"datasets_metadata\"][\"by_datataking_period\"],\n",
    "        plot_dir=\"test_plots\",\n",
    "        style_cfg=style_cfg,\n",
    "        only_cat=[],\n",
    "        data_key=[],\n",
    "        log=False,\n",
    "        density=False,\n",
    "        save=True\n",
    "    )"
   ]
  },
  {
   "cell_type": "code",
   "execution_count": 61,
   "id": "33cf440c-1f2b-4a72-98c1-aed44d6fa412",
   "metadata": {},
   "outputs": [
    {
     "data": {
      "text/plain": [
       "{'2017': {'DATA_SingleEle': {'DATA_SingleEle_2017_EraC': Hist(\n",
       "     StrCategory(['1b', '2b', '3b', '4b', 'baseline'], name='cat', label='Category'),\n",
       "     Regular(50, -2.5, 2.5, name='ElectronGood.eta', label='$\\\\eta_{e}$'),\n",
       "     storage=Weight()) # Sum: WeightedSum(value=833, variance=833),\n",
       "   'DATA_SingleEle_2017_EraB': Hist(\n",
       "     StrCategory(['1b', '2b', '3b', '4b', 'baseline'], name='cat', label='Category'),\n",
       "     Regular(50, -2.5, 2.5, name='ElectronGood.eta', label='$\\\\eta_{e}$'),\n",
       "     storage=Weight()) # Sum: WeightedSum(value=864, variance=864),\n",
       "   'DATA_SingleEle_2017_EraE': Hist(\n",
       "     StrCategory(['1b', '2b', '3b', '4b', 'baseline'], name='cat', label='Category'),\n",
       "     Regular(50, -2.5, 2.5, name='ElectronGood.eta', label='$\\\\eta_{e}$'),\n",
       "     storage=Weight()) # Sum: WeightedSum(value=1069, variance=1069),\n",
       "   'DATA_SingleEle_2017_EraF': Hist(\n",
       "     StrCategory(['1b', '2b', '3b', '4b', 'baseline'], name='cat', label='Category'),\n",
       "     Regular(50, -2.5, 2.5, name='ElectronGood.eta', label='$\\\\eta_{e}$'),\n",
       "     storage=Weight()) # Sum: WeightedSum(value=691, variance=691),\n",
       "   'DATA_SingleEle_2017_EraD': Hist(\n",
       "     StrCategory(['1b', '2b', '3b', '4b', 'baseline'], name='cat', label='Category'),\n",
       "     Regular(50, -2.5, 2.5, name='ElectronGood.eta', label='$\\\\eta_{e}$'),\n",
       "     storage=Weight()) # Sum: WeightedSum(value=978, variance=978)},\n",
       "  'TTToSemiLeptonic__=1b': {'TTToSemiLeptonic_2017': Hist(\n",
       "     StrCategory(['1b', '2b', '3b', '4b', 'baseline'], name='cat', label='Category'),\n",
       "     StrCategory(['nominal', 'pileupDown', 'pileupUp', 'sf_btagDown', 'sf_btagUp', 'sf_ele_idDown', 'sf_ele_idUp', 'sf_ele_recoDown', 'sf_ele_recoUp', 'sf_jet_puIdDown', 'sf_jet_puIdUp', 'sf_mu_idDown', 'sf_mu_idUp', 'sf_mu_isoDown', 'sf_mu_isoUp'], name='variation', label='Variation'),\n",
       "     Regular(50, -2.5, 2.5, name='ElectronGood.eta', label='$\\\\eta_{e}$'),\n",
       "     storage=Weight()) # Sum: WeightedSum(value=7.75728e+06, variance=9.44093e+08)},\n",
       "  'TTToSemiLeptonic__=2b': {'TTToSemiLeptonic_2017': Hist(\n",
       "     StrCategory(['1b', '2b', '3b', '4b', 'baseline'], name='cat', label='Category'),\n",
       "     StrCategory(['nominal', 'pileupDown', 'pileupUp', 'sf_btagDown', 'sf_btagUp', 'sf_ele_idDown', 'sf_ele_idUp', 'sf_ele_recoDown', 'sf_ele_recoUp', 'sf_jet_puIdDown', 'sf_jet_puIdUp', 'sf_mu_idDown', 'sf_mu_idUp', 'sf_mu_isoDown', 'sf_mu_isoUp'], name='variation', label='Variation'),\n",
       "     Regular(50, -2.5, 2.5, name='ElectronGood.eta', label='$\\\\eta_{e}$'),\n",
       "     storage=Weight()) # Sum: WeightedSum(value=1.21697e+07, variance=1.41244e+10)},\n",
       "  'TTToSemiLeptonic__>2b': {'TTToSemiLeptonic_2017': Hist(\n",
       "     StrCategory(['1b', '2b', '3b', '4b', 'baseline'], name='cat', label='Category'),\n",
       "     StrCategory(['nominal', 'pileupDown', 'pileupUp', 'sf_btagDown', 'sf_btagUp', 'sf_ele_idDown', 'sf_ele_idUp', 'sf_ele_recoDown', 'sf_ele_recoUp', 'sf_jet_puIdDown', 'sf_jet_puIdUp', 'sf_mu_idDown', 'sf_mu_idUp', 'sf_mu_isoDown', 'sf_mu_isoUp'], name='variation', label='Variation'),\n",
       "     Regular(50, -2.5, 2.5, name='ElectronGood.eta', label='$\\\\eta_{e}$'),\n",
       "     storage=Weight()) # Sum: WeightedSum(value=2.59359e+06, variance=2.25195e+08)}},\n",
       " '2018': {'DATA_SingleEle': {'DATA_SingleEle_2018_EraC': Hist(\n",
       "     StrCategory(['1b', '2b', '3b', '4b', 'baseline'], name='cat', label='Category'),\n",
       "     Regular(50, -2.5, 2.5, name='ElectronGood.eta', label='$\\\\eta_{e}$'),\n",
       "     storage=Weight()) # Sum: WeightedSum(value=560, variance=560),\n",
       "   'DATA_SingleEle_2018_EraD': Hist(\n",
       "     StrCategory(['1b', '2b', '3b', '4b', 'baseline'], name='cat', label='Category'),\n",
       "     Regular(50, -2.5, 2.5, name='ElectronGood.eta', label='$\\\\eta_{e}$'),\n",
       "     storage=Weight()) # Sum: WeightedSum(value=569, variance=569),\n",
       "   'DATA_SingleEle_2018_EraB': Hist(\n",
       "     StrCategory(['1b', '2b', '3b', '4b', 'baseline'], name='cat', label='Category'),\n",
       "     Regular(50, -2.5, 2.5, name='ElectronGood.eta', label='$\\\\eta_{e}$'),\n",
       "     storage=Weight()) # Sum: WeightedSum(value=581, variance=581),\n",
       "   'DATA_SingleEle_2018_EraA': Hist(\n",
       "     StrCategory(['1b', '2b', '3b', '4b', 'baseline'], name='cat', label='Category'),\n",
       "     Regular(50, -2.5, 2.5, name='ElectronGood.eta', label='$\\\\eta_{e}$'),\n",
       "     storage=Weight()) # Sum: WeightedSum(value=371, variance=371)},\n",
       "  'TTToSemiLeptonic__=1b': {'TTToSemiLeptonic_2018': Hist(\n",
       "     StrCategory(['1b', '2b', '3b', '4b', 'baseline'], name='cat', label='Category'),\n",
       "     StrCategory(['nominal', 'pileupDown', 'pileupUp', 'sf_btagDown', 'sf_btagUp', 'sf_ele_idDown', 'sf_ele_idUp', 'sf_ele_recoDown', 'sf_ele_recoUp', 'sf_jet_puIdDown', 'sf_jet_puIdUp', 'sf_mu_idDown', 'sf_mu_idUp', 'sf_mu_isoDown', 'sf_mu_isoUp'], name='variation', label='Variation'),\n",
       "     Regular(50, -2.5, 2.5, name='ElectronGood.eta', label='$\\\\eta_{e}$'),\n",
       "     storage=Weight()) # Sum: WeightedSum(value=1.09298e+07, variance=1.49465e+09)},\n",
       "  'TTToSemiLeptonic__=2b': {'TTToSemiLeptonic_2018': Hist(\n",
       "     StrCategory(['1b', '2b', '3b', '4b', 'baseline'], name='cat', label='Category'),\n",
       "     StrCategory(['nominal', 'pileupDown', 'pileupUp', 'sf_btagDown', 'sf_btagUp', 'sf_ele_idDown', 'sf_ele_idUp', 'sf_ele_recoDown', 'sf_ele_recoUp', 'sf_jet_puIdDown', 'sf_jet_puIdUp', 'sf_mu_idDown', 'sf_mu_idUp', 'sf_mu_isoDown', 'sf_mu_isoUp'], name='variation', label='Variation'),\n",
       "     Regular(50, -2.5, 2.5, name='ElectronGood.eta', label='$\\\\eta_{e}$'),\n",
       "     storage=Weight()) # Sum: WeightedSum(value=1.65381e+07, variance=1.89204e+09)},\n",
       "  'TTToSemiLeptonic__>2b': {'TTToSemiLeptonic_2018': Hist(\n",
       "     StrCategory(['1b', '2b', '3b', '4b', 'baseline'], name='cat', label='Category'),\n",
       "     StrCategory(['nominal', 'pileupDown', 'pileupUp', 'sf_btagDown', 'sf_btagUp', 'sf_ele_idDown', 'sf_ele_idUp', 'sf_ele_recoDown', 'sf_ele_recoUp', 'sf_jet_puIdDown', 'sf_jet_puIdUp', 'sf_mu_idDown', 'sf_mu_idUp', 'sf_mu_isoDown', 'sf_mu_isoUp'], name='variation', label='Variation'),\n",
       "     Regular(50, -2.5, 2.5, name='ElectronGood.eta', label='$\\\\eta_{e}$'),\n",
       "     storage=Weight()) # Sum: WeightedSum(value=4.07134e+06, variance=5.04202e+08)}}}"
      ]
     },
     "execution_count": 61,
     "metadata": {},
     "output_type": "execute_result"
    }
   ],
   "source": [
    "plotter.hists_to_plot[\"ElectronGood_eta_1\"]"
   ]
  },
  {
   "cell_type": "code",
   "execution_count": 42,
   "id": "06a07dd4-1545-4431-a6ec-f78de1d33dba",
   "metadata": {
    "tags": []
   },
   "outputs": [
    {
     "data": {
      "text/plain": [
       "{'fontsize': 22,\n",
       " 'fontsize_legend_ratio': 12,\n",
       " 'opts_figure': {'datamc': {'figsize': (12, 9)},\n",
       "  'datamc_ratio': {'figsize': (12, 12),\n",
       "   'gridspec_kw': {'height_ratios': (3, 1)},\n",
       "   'sharex': True},\n",
       "  'partial': {'figsize': (12, 15),\n",
       "   'gridspec_kw': {'height_ratios': (3, 1)},\n",
       "   'sharex': True}},\n",
       " 'opts_mc': {'histtype': 'fill', 'stack': True},\n",
       " 'opts_data': {'linestyle': 'solid',\n",
       "  'linewidth': 0,\n",
       "  'marker': '.',\n",
       "  'markersize': 5.0,\n",
       "  'color': 'black',\n",
       "  'elinewidth': 1,\n",
       "  'label': 'Data'},\n",
       " 'opts_unc': {'total': {'step': 'post',\n",
       "   'color': (0, 0, 0, 0.4),\n",
       "   'facecolor': (0, 0, 0, 0.0),\n",
       "   'linewidth': 0,\n",
       "   'hatch': '////',\n",
       "   'zorder': 2},\n",
       "  'Up': {'linestyle': 'dashed',\n",
       "   'linewidth': 1,\n",
       "   'marker': '.',\n",
       "   'markersize': 1.0,\n",
       "   'elinewidth': 1},\n",
       "  'Down': {'linestyle': 'dotted',\n",
       "   'linewidth': 1,\n",
       "   'marker': '.',\n",
       "   'markersize': 1.0,\n",
       "   'elinewidth': 1}},\n",
       " 'opts_syst': {'nominal': {'linestyle': 'solid',\n",
       "   'linewidth': 1,\n",
       "   'color': 'black'},\n",
       "  'up': {'linestyle': 'dashed', 'linewidth': 1, 'color': 'red'},\n",
       "  'down': {'linestyle': 'dotted', 'linewidth': 1, 'color': 'blue'}},\n",
       " 'samples_map': {},\n",
       " 'labels': {'ttHTobb': '$t\\\\bar{t}H\\\\rightarrow b\\\\bar{b}$',\n",
       "  'TTToSemiLeptonic': '$t\\\\bar{t}$ semilep.',\n",
       "  'TTTo2L2Nu': '$t\\\\bar{t}$ dilepton',\n",
       "  'SingleTop': 'Single t',\n",
       "  'WJetsToLNu_HT': 'W+jets'},\n",
       " 'colors': {'ttHTobb': 'pink',\n",
       "  'TTTo2L2Nu': (0.51, 0.79, 1.0),\n",
       "  'TTToSemiLeptonic': (1.0, 0.71, 0.24),\n",
       "  'SingleTop': (1.0, 0.4, 0.4),\n",
       "  'ST': (1.0, 0.4, 0.4),\n",
       "  'WJetsToLNu_HT': '#cc99ff'}}"
      ]
     },
     "execution_count": 42,
     "metadata": {},
     "output_type": "execute_result"
    }
   ],
   "source": [
    "style_cfg"
   ]
  },
  {
   "cell_type": "code",
   "execution_count": null,
   "id": "2e40f595-1148-40d3-b387-0b6ff2699fe3",
   "metadata": {},
   "outputs": [],
   "source": []
  },
  {
   "cell_type": "code",
   "execution_count": null,
   "id": "5939598e-db32-4df1-a01d-795320fe5a16",
   "metadata": {},
   "outputs": [],
   "source": []
  }
 ],
 "metadata": {
  "kernelspec": {
   "display_name": "Python 3 (ipykernel)",
   "language": "python",
   "name": "python3"
  },
  "language_info": {
   "codemirror_mode": {
    "name": "ipython",
    "version": 3
   },
   "file_extension": ".py",
   "mimetype": "text/x-python",
   "name": "python",
   "nbconvert_exporter": "python",
   "pygments_lexer": "ipython3",
   "version": "3.9.16"
  }
 },
 "nbformat": 4,
 "nbformat_minor": 5
}
