{
 "cells": [
  {
   "cell_type": "code",
   "execution_count": 1,
   "id": "481a55ec",
   "metadata": {},
   "outputs": [],
   "source": [
    "import matplotlib.pyplot as plt\n",
    "import numpy as np\n",
    "import awkward as ak\n",
    "import numba\n",
    "import correctionlib\n",
    "from coffea.nanoevents import NanoEventsFactory, NanoAODSchema"
   ]
  },
  {
   "cell_type": "code",
   "execution_count": 2,
   "id": "b9a5da6c",
   "metadata": {},
   "outputs": [],
   "source": [
    "@numba.jit\n",
    "def get_matching_pairs_indices(idx_quark, idx_jets, builder, builder2):\n",
    "    for ev_q, ev_j in zip(idx_quark, idx_jets):\n",
    "        builder.begin_list()\n",
    "        builder2.begin_list()\n",
    "        q_done = []\n",
    "        j_done = []\n",
    "        for i, (q,j) in enumerate(zip(ev_q, ev_j)):\n",
    "            if q not in q_done:\n",
    "                if j not in j_done:\n",
    "                    builder.append(i)\n",
    "                    q_done.append(q)\n",
    "                    j_done.append(j)\n",
    "                else: \n",
    "                    builder2.append(i)\n",
    "        builder.end_list()\n",
    "        builder2.end_list()\n",
    "    return builder, builder2\n",
    "\n",
    "def metric_pt(obj, obj2):\n",
    "    return abs(obj.pt - obj2.pt)\n",
    "\n",
    "def object_matching(obj, obj2, dr_min, pt_min=None):\n",
    "    # Compute deltaR(quark, jet) and save the nearest jet (deltaR matching)\n",
    "    deltaR  = ak.flatten(obj.metric_table(obj2), axis=2)\n",
    "    deltaPt = ak.flatten(obj.metric_table(obj2, metric=metric_pt), axis=2)\n",
    "    # keeping only the pairs with a deltaR min\n",
    "    maskDR = deltaR < dr_min\n",
    "    if pt_min is not None:\n",
    "        maskPt = deltaPt < pt_min\n",
    "        maskDR = maskDR & maskPt\n",
    "    deltaRcut = deltaR[maskDR]\n",
    "    idx_pairs_sorted = ak.argsort(deltaRcut, axis=1)\n",
    "    pairs = ak.argcartesian([obj, obj2])[maskDR]\n",
    "    pairs_sorted = pairs[idx_pairs_sorted]\n",
    "    idx_obj, idx_obj2 = ak.unzip(pairs_sorted)\n",
    "    \n",
    "    _idx_matched_pairs, _idx_missed_pairs = get_matching_pairs_indices(idx_obj, idx_obj2, ak.ArrayBuilder(), ak.ArrayBuilder())\n",
    "    idx_matched_pairs = _idx_matched_pairs.snapshot()\n",
    "    idx_missed_pairs = _idx_missed_pairs.snapshot()\n",
    "    # The invalid jet matches result in a None value. Only non-None values are selected.\n",
    "    matched_obj  = obj[idx_obj[idx_matched_pairs]]\n",
    "    matched_obj2 = obj2[idx_obj2[idx_matched_pairs]]\n",
    "    deltaR_matched = deltaRcut[idx_matched_pairs]\n",
    "\n",
    "    return matched_obj, matched_obj2, deltaR_matched"
   ]
  },
  {
   "cell_type": "markdown",
   "id": "936ea9a5",
   "metadata": {},
   "source": [
    "In order to apply the JER smearing, we have to match the jets to the corresponding gen-level jets.\n",
    "To do that, we require $\\Delta$R to be less than half the jet cone radius. In addition we require that the absolute difference between the jet and gen-level jet $p_T$ is less than $3\\sigma_{JER}p_T$, where $\\sigma_{JER}$ is the jet $p_T$ resolution as read from the JER correction file."
   ]
  },
  {
   "cell_type": "code",
   "execution_count": 3,
   "id": "7d0bdb61",
   "metadata": {},
   "outputs": [],
   "source": [
    "filename = \"/pnfs/psi.ch/cms/trivcat/store/user/mmarcheg/RunIIFall17NanoAODv7/ttHTobb_M125_TuneCP5_13TeV-powheg-pythia8/587E2464-42CA-3A45-BD49-D23E49F658E6.root\"\n",
    "#events = NanoEventsFactory.from_root(filename, schemaclass=NanoAODSchema).events()\n",
    "events = NanoEventsFactory.from_root(filename, schemaclass=NanoAODSchema, entry_stop=100).events()"
   ]
  },
  {
   "cell_type": "markdown",
   "id": "17e8bec5",
   "metadata": {},
   "source": [
    "Here, as an example, we apply a cut on $p_T$ at 15 GeV to check that the implementation of the cut using `metric_table()` does what we expect."
   ]
  },
  {
   "cell_type": "code",
   "execution_count": 4,
   "id": "e9b4e5c9",
   "metadata": {},
   "outputs": [
    {
     "data": {
      "text/plain": [
       "<Array [[75.2, 178, 19.5, ... 109, 24.4, 19.6]] type='100 * var * float32[parame...'>"
      ]
     },
     "execution_count": 4,
     "metadata": {},
     "output_type": "execute_result"
    }
   ],
   "source": [
    "pt_min = 15\n",
    "matched_genjets, matched_jets, deltaR_matched = object_matching(events.GenJet, events.Jet, 0.2)\n",
    "matched_genjets_pt, matched_jets_pt, deltaR_matched_pt = object_matching(events.GenJet, events.Jet, 0.2, pt_min=pt_min)\n",
    "matched_jets.pt"
   ]
  },
  {
   "cell_type": "code",
   "execution_count": 5,
   "id": "8586e850",
   "metadata": {},
   "outputs": [
    {
     "data": {
      "text/plain": [
       "<Array [[70.8, 187, 13.8, ... 19.5, 12.5]] type='100 * var * float32[parameters=...'>"
      ]
     },
     "execution_count": 5,
     "metadata": {},
     "output_type": "execute_result"
    }
   ],
   "source": [
    "matched_genjets.pt"
   ]
  },
  {
   "cell_type": "code",
   "execution_count": 6,
   "id": "76b2c7b0",
   "metadata": {},
   "outputs": [
    {
     "data": {
      "text/plain": [
       "<Array [4.34, -8.74, 5.64, ... 4.94, 7.08] type='866 * float32'>"
      ]
     },
     "execution_count": 6,
     "metadata": {},
     "output_type": "execute_result"
    }
   ],
   "source": [
    "deltaPt    = ak.flatten(matched_jets.pt - matched_genjets.pt)\n",
    "deltaPt_pt = ak.flatten(matched_jets_pt.pt - matched_genjets_pt.pt)\n",
    "deltaPt"
   ]
  },
  {
   "cell_type": "code",
   "execution_count": 7,
   "id": "d2f1092a",
   "metadata": {},
   "outputs": [
    {
     "data": {
      "image/png": "[encoded data removed]",
      "text/plain": [
       "<Figure size 864x576 with 1 Axes>"
      ]
     },
     "metadata": {
      "needs_background": "light"
     },
     "output_type": "display_data"
    }
   ],
   "source": [
    "plt.figure(figsize=[12,8])\n",
    "n, bins, patches = plt.hist(deltaPt, bins=np.linspace(-100, 100, 41), color='red', label=\"all\");\n",
    "plt.hist(deltaPt_pt, bins=np.linspace(-100, 100, 41), color='green', label=\"|$p_T$ - $p_{T,gen}$| \"+f\" < {pt_min}\");\n",
    "plt.xlabel(\"$p_T$ - $p_{T,gen}$\");\n",
    "plt.vlines([-pt_min, pt_min], 0, 1.05*max(n), linestyle='dashed', color='grey', label=f\"$p_T$ = $\\pm${pt_min}\")\n",
    "plt.title(\"Single $p_T$ cut\")\n",
    "plt.legend();\n",
    "#plt.hist(deltaPt);"
   ]
  },
  {
   "cell_type": "markdown",
   "id": "1f690f45",
   "metadata": {},
   "source": [
    "When we want to take into account the JER and smear the jet $p_T$, the cut on the absolute $p_T$ difference is not a single number but an array since the jet $p_T$ resolution depends in general on ($p_T$, $\\eta$, $\\rho$) of the jet."
   ]
  },
  {
   "cell_type": "code",
   "execution_count": 8,
   "id": "9de76fbb",
   "metadata": {},
   "outputs": [
    {
     "data": {
      "text/plain": [
       "<Array [[75.2, 178, 19.5, ... 109, 24.4, 19.6]] type='100 * var * float32[parame...'>"
      ]
     },
     "execution_count": 8,
     "metadata": {},
     "output_type": "execute_result"
    }
   ],
   "source": [
    "ones = ak.ones_like(events.event)\n",
    "pt_min = ak.concatenate((10*ones[:33], 15*ones[33:66], 20*ones[66:]))\n",
    "matched_genjets, matched_jets, deltaR_matched = object_matching(events.GenJet, events.Jet, 0.2)\n",
    "matched_genjets_pt, matched_jets_pt, deltaR_matched_pt = object_matching(events.GenJet, events.Jet, 0.2, pt_min=pt_min)\n",
    "matched_jets.pt"
   ]
  },
  {
   "cell_type": "code",
   "execution_count": 9,
   "id": "513a6aa9",
   "metadata": {},
   "outputs": [
    {
     "data": {
      "text/plain": [
       "<Array [4.34, -8.74, 5.64, ... 4.94, 7.08] type='866 * float32'>"
      ]
     },
     "execution_count": 9,
     "metadata": {},
     "output_type": "execute_result"
    }
   ],
   "source": [
    "deltaPt    = ak.flatten(matched_jets.pt - matched_genjets.pt)\n",
    "deltaPt_pt = ak.flatten(matched_jets_pt.pt - matched_genjets_pt.pt)\n",
    "deltaPt"
   ]
  },
  {
   "cell_type": "code",
   "execution_count": 10,
   "id": "90d874c5",
   "metadata": {},
   "outputs": [
    {
     "data": {
      "image/png": "[encoded data removed]",
      "text/plain": [
       "<Figure size 864x576 with 1 Axes>"
      ]
     },
     "metadata": {
      "needs_background": "light"
     },
     "output_type": "display_data"
    }
   ],
   "source": [
    "plt.figure(figsize=[12,8])\n",
    "n, bins, patches = plt.hist(deltaPt, bins=np.linspace(-100, 100, 41), color='red', label=\"all\");\n",
    "plt.hist(deltaPt_pt[66:], bins=np.linspace(-100, 100, 41), color='green', label=\"|$p_T$ - $p_{T,gen}$| \"+f\" < {pt_min[66]}\");\n",
    "plt.hist(deltaPt_pt[33:66], bins=np.linspace(-100, 100, 41), color='cyan', label=\"|$p_T$ - $p_{T,gen}$| \"+f\" < {pt_min[33]}\");\n",
    "plt.hist(deltaPt_pt[:33], bins=np.linspace(-100, 100, 41), color='blue', label=\"|$p_T$ - $p_{T,gen}$| \"+f\" < {pt_min[0]}\");\n",
    "plt.xlabel(\"$p_T$ - $p_{T,gen}$\");\n",
    "plt.title(\"Variable $p_T$ cut\")\n",
    "plt.legend();\n",
    "#plt.hist(deltaPt);"
   ]
  },
  {
   "cell_type": "code",
   "execution_count": 13,
   "id": "884fe3de",
   "metadata": {},
   "outputs": [],
   "source": [
    "jsonfile = \"/work/mmarcheg/POG/JME/2018UL/jet_jerc.json\"\n",
    "JERversion = \"Summer19UL18_JRV2_MC\"\n",
    "typeJet = \"AK4PFchs\"\n",
    "JECfile = correctionlib.CorrectionSet.from_file(jsonfile)\n",
    "sf  = JECfile[f'{JERversion}_ScaleFactor_{typeJet}']\n",
    "res = JECfile[f'{JERversion}_PtResolution_{typeJet}']"
   ]
  },
  {
   "cell_type": "code",
   "execution_count": 22,
   "id": "dda3c0d9",
   "metadata": {},
   "outputs": [
    {
     "data": {
      "text/plain": [
       "array([1.1481, 1.1423, 1.1436])"
      ]
     },
     "execution_count": 22,
     "metadata": {},
     "output_type": "execute_result"
    }
   ],
   "source": [
    "eta = ak.Array([1, 2, 0.4])\n",
    "sf.evaluate(eta.to_numpy(), 'nom')"
   ]
  },
  {
   "cell_type": "code",
   "execution_count": null,
   "id": "45100717",
   "metadata": {},
   "outputs": [],
   "source": []
  }
 ],
 "metadata": {
  "kernelspec": {
   "display_name": "Python 3 (ipykernel)",
   "language": "python",
   "name": "python3"
  },
  "language_info": {
   "codemirror_mode": {
    "name": "ipython",
    "version": 3
   },
   "file_extension": ".py",
   "mimetype": "text/x-python",
   "name": "python",
   "nbconvert_exporter": "python",
   "pygments_lexer": "ipython3",
   "version": "3.9.7"
  }
 },
 "nbformat": 4,
 "nbformat_minor": 5
}
